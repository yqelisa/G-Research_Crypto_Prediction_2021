{
 "cells": [
  {
   "cell_type": "markdown",
   "id": "1782c048",
   "metadata": {
    "papermill": {
     "duration": 0.019426,
     "end_time": "2022-02-17T23:53:06.106672",
     "exception": false,
     "start_time": "2022-02-17T23:53:06.087246",
     "status": "completed"
    },
    "tags": []
   },
   "source": [
    "## Reference:\n",
    "\n",
    "Kaggle \\\n",
    "[G-Research Crypto Forecasting - baseline & FE](https://www.kaggle.com/vbmokin/g-research-crypto-forecasting-baseline-fe)\\\n",
    "[G-Research- Starter LGBM Pipeline(copied)](https://www.kaggle.com/yliu27/g-research-starter-lgbm-pipeline-copied)\\\n",
    "[[GResearch] Simple LGB Starter](https://www.kaggle.com/code1110/gresearch-simple-lgb-starter)\\\n",
    "[LightGBM with Sklearn pipelines](https://www.kaggle.com/paweljankiewicz/lightgbm-with-sklearn-pipelines)\\\n",
    "[Parameter grid search LGBM with scikit-learn](https://www.kaggle.com/bitit1994/parameter-grid-search-lgbm-with-scikit-learn)\n",
    "\n",
    "External \\\n",
    "[You Are Missing Out on LightGBM. It Crushes XGBoost in Every Aspect](https://towardsdatascience.com/how-to-beat-the-heck-out-of-xgboost-with-lightgbm-comprehensive-tutorial-5eba52195997)\n",
    "[Machine Learning Tutorial Python - 16: Hyper parameter Tuning (GridSearchCV)](https://www.youtube.com/watch?v=HdlDYng8g9s&t=16s)"
   ]
  },
  {
   "cell_type": "markdown",
   "id": "925c6bc2",
   "metadata": {
    "papermill": {
     "duration": 0.017778,
     "end_time": "2022-02-17T23:53:06.143204",
     "exception": false,
     "start_time": "2022-02-17T23:53:06.125426",
     "status": "completed"
    },
    "tags": []
   },
   "source": [
    "# Environment Setup"
   ]
  },
  {
   "cell_type": "code",
   "execution_count": 1,
   "id": "31546e40",
   "metadata": {
    "_cell_guid": "b1076dfc-b9ad-4769-8c92-a6c4dae69d19",
    "_uuid": "8f2839f25d086af736a60e9eeb907d3b93b6e0e5",
    "execution": {
     "iopub.execute_input": "2022-02-17T23:53:06.188425Z",
     "iopub.status.busy": "2022-02-17T23:53:06.187722Z",
     "iopub.status.idle": "2022-02-17T23:53:06.201798Z",
     "shell.execute_reply": "2022-02-17T23:53:06.202374Z",
     "shell.execute_reply.started": "2022-02-17T23:01:32.928710Z"
    },
    "papermill": {
     "duration": 0.041391,
     "end_time": "2022-02-17T23:53:06.202663",
     "exception": false,
     "start_time": "2022-02-17T23:53:06.161272",
     "status": "completed"
    },
    "tags": []
   },
   "outputs": [
    {
     "name": "stdout",
     "output_type": "stream",
     "text": [
      "/kaggle/input/g-research-crypto-forecasting/example_sample_submission.csv\n",
      "/kaggle/input/g-research-crypto-forecasting/asset_details.csv\n",
      "/kaggle/input/g-research-crypto-forecasting/example_test.csv\n",
      "/kaggle/input/g-research-crypto-forecasting/train.csv\n",
      "/kaggle/input/g-research-crypto-forecasting/supplemental_train.csv\n",
      "/kaggle/input/g-research-crypto-forecasting/gresearch_crypto/competition.cpython-37m-x86_64-linux-gnu.so\n",
      "/kaggle/input/g-research-crypto-forecasting/gresearch_crypto/__init__.py\n"
     ]
    }
   ],
   "source": [
    "import numpy as np # linear algebra\n",
    "import pandas as pd # data processing, CSV file I/O (e.g. pd.read_csv)\n",
    "\n",
    "import os\n",
    "for dirname, _, filenames in os.walk('/kaggle/input'):\n",
    "    for filename in filenames:\n",
    "        print(os.path.join(dirname, filename))"
   ]
  },
  {
   "cell_type": "code",
   "execution_count": 2,
   "id": "e63ee06a",
   "metadata": {
    "execution": {
     "iopub.execute_input": "2022-02-17T23:53:06.243128Z",
     "iopub.status.busy": "2022-02-17T23:53:06.242489Z",
     "iopub.status.idle": "2022-02-17T23:54:08.719449Z",
     "shell.execute_reply": "2022-02-17T23:54:08.718655Z",
     "shell.execute_reply.started": "2022-02-17T23:01:32.966976Z"
    },
    "papermill": {
     "duration": 62.497745,
     "end_time": "2022-02-17T23:54:08.719618",
     "exception": false,
     "start_time": "2022-02-17T23:53:06.221873",
     "status": "completed"
    },
    "tags": []
   },
   "outputs": [],
   "source": [
    "import sys\n",
    "sys.path.insert(0, '/kaggle/input/g-research-crypto-forecasting')\n",
    "# somehow need to run this before importing competition API\n",
    "\n",
    "import gresearch_crypto\n",
    "import time\n",
    "from datetime import datetime\n",
    "\n",
    "import warnings\n",
    "warnings.simplefilter('ignore')\n",
    "\n",
    "dir_in = '/kaggle/input/g-research-crypto-forecasting/'\n",
    "file_train = 'train.csv'\n",
    "file_asset_details = 'asset_details.csv'\n",
    "\n",
    "df_train = pd.read_csv(os.path.join(dir_in, file_train))\n",
    "df_asset_details = pd.read_csv(os.path.join(dir_in, file_asset_details))"
   ]
  },
  {
   "cell_type": "code",
   "execution_count": 3,
   "id": "c7a60f66",
   "metadata": {
    "execution": {
     "iopub.execute_input": "2022-02-17T23:54:08.763333Z",
     "iopub.status.busy": "2022-02-17T23:54:08.762634Z",
     "iopub.status.idle": "2022-02-17T23:54:08.764776Z",
     "shell.execute_reply": "2022-02-17T23:54:08.765269Z",
     "shell.execute_reply.started": "2022-02-17T23:02:38.425115Z"
    },
    "papermill": {
     "duration": 0.02677,
     "end_time": "2022-02-17T23:54:08.765468",
     "exception": false,
     "start_time": "2022-02-17T23:54:08.738698",
     "status": "completed"
    },
    "tags": []
   },
   "outputs": [],
   "source": [
    "import random\n",
    "\n",
    "def fix_all_seeds(seed):\n",
    "    np.random.seed(seed)\n",
    "    random.seed(seed)\n",
    "    os.environ['PYTHONHASHSEED'] = str(seed)\n",
    "\n",
    "fix_all_seeds(2021)"
   ]
  },
  {
   "cell_type": "markdown",
   "id": "34ff0c7b",
   "metadata": {
    "papermill": {
     "duration": 0.018229,
     "end_time": "2022-02-17T23:54:08.803140",
     "exception": false,
     "start_time": "2022-02-17T23:54:08.784911",
     "status": "completed"
    },
    "tags": []
   },
   "source": [
    "# Feature Engineering"
   ]
  },
  {
   "cell_type": "code",
   "execution_count": 4,
   "id": "9135333f",
   "metadata": {
    "execution": {
     "iopub.execute_input": "2022-02-17T23:54:08.849154Z",
     "iopub.status.busy": "2022-02-17T23:54:08.848442Z",
     "iopub.status.idle": "2022-02-17T23:54:08.850811Z",
     "shell.execute_reply": "2022-02-17T23:54:08.851287Z",
     "shell.execute_reply.started": "2022-02-17T23:02:38.434019Z"
    },
    "papermill": {
     "duration": 0.029936,
     "end_time": "2022-02-17T23:54:08.851465",
     "exception": false,
     "start_time": "2022-02-17T23:54:08.821529",
     "status": "completed"
    },
    "tags": []
   },
   "outputs": [],
   "source": [
    "def get_features(df):\n",
    "    \n",
    "    df = df.set_index('timestamp')\n",
    "    \n",
    "    df['upper_shadow'] = df['High'] / df[['Close', 'Open']].max(axis=1)\n",
    "    df['lower_shadow'] = df[['Close', 'Open']].min(axis=1) / df['Low']\n",
    "    df['open2close'] = df['Close'] / df['Open']\n",
    "    df['high2low'] = df['High'] / df['Low']\n",
    "    \n",
    "    mean_price = df[['Open', 'High', 'Low', 'Close']].mean(axis=1)\n",
    "    median_price = df[['Open', 'High', 'Low', 'Close']].median(axis=1)\n",
    "    \n",
    "    df['high2mean'] = df['High'] / mean_price\n",
    "    df['low2mean'] = df['Low'] / mean_price\n",
    "    df['high2median'] = df['High'] / median_price\n",
    "    df['low2median'] = df['Low'] / median_price\n",
    "    df['volume2count'] = df['Volume'] / (df['Count'] + 1)\n",
    "    \n",
    "    return df    "
   ]
  },
  {
   "cell_type": "code",
   "execution_count": 5,
   "id": "77416a4f",
   "metadata": {
    "execution": {
     "iopub.execute_input": "2022-02-17T23:54:08.891137Z",
     "iopub.status.busy": "2022-02-17T23:54:08.890491Z",
     "iopub.status.idle": "2022-02-17T23:54:08.895891Z",
     "shell.execute_reply": "2022-02-17T23:54:08.896446Z",
     "shell.execute_reply.started": "2022-02-17T23:02:38.450109Z"
    },
    "papermill": {
     "duration": 0.026813,
     "end_time": "2022-02-17T23:54:08.896621",
     "exception": false,
     "start_time": "2022-02-17T23:54:08.869808",
     "status": "completed"
    },
    "tags": []
   },
   "outputs": [],
   "source": [
    "def get_asset_data(df_train, asset_id):\n",
    "    \n",
    "    df = df_train[df_train[\"Asset_ID\"] == asset_id].copy()\n",
    "    df = df.replace([np.inf, -np.inf], np.nan)\n",
    "    y = df['Target'].copy()\n",
    "    y = y.fillna(0)\n",
    "    X = df.drop('Target', axis=1)\n",
    "    \n",
    "    return X, y"
   ]
  },
  {
   "cell_type": "code",
   "execution_count": 6,
   "id": "1847ee8f",
   "metadata": {
    "execution": {
     "iopub.execute_input": "2022-02-17T23:54:08.937092Z",
     "iopub.status.busy": "2022-02-17T23:54:08.936382Z",
     "iopub.status.idle": "2022-02-17T23:54:08.939957Z",
     "shell.execute_reply": "2022-02-17T23:54:08.940518Z",
     "shell.execute_reply.started": "2022-02-17T23:02:38.462451Z"
    },
    "papermill": {
     "duration": 0.025575,
     "end_time": "2022-02-17T23:54:08.940689",
     "exception": false,
     "start_time": "2022-02-17T23:54:08.915114",
     "status": "completed"
    },
    "tags": []
   },
   "outputs": [],
   "source": [
    "def get_corr(y_pred, y):\n",
    "    corr = np.corrcoef(y_pred, y)[0,1]\n",
    "    return corr"
   ]
  },
  {
   "cell_type": "markdown",
   "id": "8630dad1",
   "metadata": {
    "papermill": {
     "duration": 0.018778,
     "end_time": "2022-02-17T23:54:08.978327",
     "exception": false,
     "start_time": "2022-02-17T23:54:08.959549",
     "status": "completed"
    },
    "tags": []
   },
   "source": [
    "# Pipeline"
   ]
  },
  {
   "cell_type": "code",
   "execution_count": 7,
   "id": "71cc17f9",
   "metadata": {
    "execution": {
     "iopub.execute_input": "2022-02-17T23:54:09.023689Z",
     "iopub.status.busy": "2022-02-17T23:54:09.022741Z",
     "iopub.status.idle": "2022-02-17T23:54:11.205797Z",
     "shell.execute_reply": "2022-02-17T23:54:11.205209Z",
     "shell.execute_reply.started": "2022-02-17T23:02:38.472941Z"
    },
    "papermill": {
     "duration": 2.208983,
     "end_time": "2022-02-17T23:54:11.205981",
     "exception": false,
     "start_time": "2022-02-17T23:54:08.996998",
     "status": "completed"
    },
    "tags": []
   },
   "outputs": [
    {
     "data": {
      "text/html": [
       "<style type='text/css'>\n",
       ".datatable table.frame { margin-bottom: 0; }\n",
       ".datatable table.frame thead { border-bottom: none; }\n",
       ".datatable table.frame tr.coltypes td {  color: #FFFFFF;  line-height: 6px;  padding: 0 0.5em;}\n",
       ".datatable .bool    { background: #DDDD99; }\n",
       ".datatable .object  { background: #565656; }\n",
       ".datatable .int     { background: #5D9E5D; }\n",
       ".datatable .float   { background: #4040CC; }\n",
       ".datatable .str     { background: #CC4040; }\n",
       ".datatable .time    { background: #40CC40; }\n",
       ".datatable .row_index {  background: var(--jp-border-color3);  border-right: 1px solid var(--jp-border-color0);  color: var(--jp-ui-font-color3);  font-size: 9px;}\n",
       ".datatable .frame tbody td { text-align: left; }\n",
       ".datatable .frame tr.coltypes .row_index {  background: var(--jp-border-color0);}\n",
       ".datatable th:nth-child(2) { padding-left: 12px; }\n",
       ".datatable .hellipsis {  color: var(--jp-cell-editor-border-color);}\n",
       ".datatable .vellipsis {  background: var(--jp-layout-color0);  color: var(--jp-cell-editor-border-color);}\n",
       ".datatable .na {  color: var(--jp-cell-editor-border-color);  font-size: 80%;}\n",
       ".datatable .sp {  opacity: 0.25;}\n",
       ".datatable .footer { font-size: 9px; }\n",
       ".datatable .frame_dimensions {  background: var(--jp-border-color3);  border-top: 1px solid var(--jp-border-color0);  color: var(--jp-ui-font-color3);  display: inline-block;  opacity: 0.6;  padding: 1px 10px 1px 5px;}\n",
       "</style>\n"
      ],
      "text/plain": [
       "<IPython.core.display.HTML object>"
      ]
     },
     "metadata": {},
     "output_type": "display_data"
    }
   ],
   "source": [
    "from sklearn.preprocessing import StandardScaler\n",
    "from sklearn.compose import ColumnTransformer\n",
    "from sklearn.pipeline import Pipeline\n",
    "# from sklearn.metrics import roc_auc_score\n",
    "from sklearn.model_selection import cross_val_predict\n",
    "from lightgbm import LGBMRegressor\n",
    "from category_encoders import OneHotEncoder\n",
    "\n",
    "import time     # timer\n",
    "\n",
    "# customize class for feature transformation\n",
    "from sklearn.base import BaseEstimator, TransformerMixin\n",
    "\n",
    "class GetFeatureTransformer(BaseEstimator, TransformerMixin):\n",
    "    def __init__(self):\n",
    "        pass\n",
    "    \n",
    "    def fit(self, X, y=None):\n",
    "        return self\n",
    "    \n",
    "    def transform(self, X, y=None):\n",
    "        X_ = get_features(X)\n",
    "        return X_"
   ]
  },
  {
   "cell_type": "code",
   "execution_count": 8,
   "id": "da211455",
   "metadata": {
    "execution": {
     "iopub.execute_input": "2022-02-17T23:54:11.250717Z",
     "iopub.status.busy": "2022-02-17T23:54:11.249732Z",
     "iopub.status.idle": "2022-02-17T23:54:11.252231Z",
     "shell.execute_reply": "2022-02-17T23:54:11.252689Z",
     "shell.execute_reply.started": "2022-02-17T23:02:40.814018Z"
    },
    "papermill": {
     "duration": 0.027187,
     "end_time": "2022-02-17T23:54:11.252859",
     "exception": false,
     "start_time": "2022-02-17T23:54:11.225672",
     "status": "completed"
    },
    "tags": []
   },
   "outputs": [],
   "source": [
    "cat_cols = ['Asset_ID']\n",
    "num_cols = ['Count', 'Open', 'High', 'Low', 'Close', 'Volume', 'VWAP',\n",
    "            'upper_shadow', 'lower_shadow', 'open2close', 'high2low', 'high2mean', 'low2mean', 'high2median', 'low2median', 'volume2count']"
   ]
  },
  {
   "cell_type": "markdown",
   "id": "3c835c1e",
   "metadata": {
    "papermill": {
     "duration": 0.01875,
     "end_time": "2022-02-17T23:54:11.292374",
     "exception": false,
     "start_time": "2022-02-17T23:54:11.273624",
     "status": "completed"
    },
    "tags": []
   },
   "source": [
    "[hyper parameter optimization - suggested parameter grid](https://github.com/Microsoft/LightGBM/issues/695)\n",
    "\n",
    ">For heavily unbalanced datasets such as 1:10000:\n",
    ">\n",
    ">max_bin: keep it only for memory pressure, not to tune (otherwise overfitting)\\\n",
    ">learning rate: keep it only for training speed, not to tune (otherwise overfitting)\\\n",
    ">n_estimators: must be infinite (like 9999999) and use early stopping to auto-tune (otherwise overfitting)\\\n",
    ">num_leaves: [7, 4095]\\\n",
    ">max_depth: [2, 63] and infinite (I personally saw metric performance increases with such 63 depth with small number of leaves on sparse unbalanced datasets)\\\n",
    ">scale_pos_weight: [1, 10000] (if over 10000, something might be wrong because I never saw it that good after 5000)\\\n",
    ">min_child_weight: [0.01, (sample size / 1000)] if you are using logloss (think about the hessian possible value range before putting \"sample size / 1000\", it is dataset-dependent and loss-dependent)\\\n",
    ">subsample: [0.4, 1]\\\n",
    ">bagging_freq: only 1, keep as is (otherwise overfitting)\\\n",
    ">colsample_bytree: [0.4, 1]\\\n",
    ">is_unbalance: false (make your own weighting with scale_pos_weight)\\\n",
    ">USE A CUSTOM METRIC (to reflect reality without weighting, otherwise you have weights inside your metric with premade metrics like xgboost)\\\n",
    ">Never tune these parameters unless you have an explicit requirement to tune them:\n",
    ">\n",
    ">Learning rate (lower means longer to train but more accurate, higher means smaller to train but less accurate)\\\n",
    ">Number of boosting iterations (automatically tuned with early stopping and learning rate)\\\n",
    ">Maximum number of bins (RAM dependent)\n"
   ]
  },
  {
   "cell_type": "code",
   "execution_count": 9,
   "id": "a76d0805",
   "metadata": {
    "execution": {
     "iopub.execute_input": "2022-02-17T23:54:11.336935Z",
     "iopub.status.busy": "2022-02-17T23:54:11.335894Z",
     "iopub.status.idle": "2022-02-17T23:54:11.338876Z",
     "shell.execute_reply": "2022-02-17T23:54:11.338251Z",
     "shell.execute_reply.started": "2022-02-17T23:44:12.613105Z"
    },
    "papermill": {
     "duration": 0.027646,
     "end_time": "2022-02-17T23:54:11.339036",
     "exception": false,
     "start_time": "2022-02-17T23:54:11.311390",
     "status": "completed"
    },
    "tags": []
   },
   "outputs": [],
   "source": [
    "params = {\n",
    "    'n_estimators': 1000,\n",
    "    'objective': 'regression',\n",
    "    'metric': 'rmse',\n",
    "    'boosting_type': 'gbdt',\n",
    "    'max_depth': -1,\n",
    "    'learning_rate': 0.01,\n",
    "    'subsample': 0.72,\n",
    "    'subsample_freq': 4,\n",
    "    'feature_fraction': 0.4,\n",
    "    'lambda_l1': 1,\n",
    "    'lambda_l2': 1   \n",
    "}"
   ]
  },
  {
   "cell_type": "code",
   "execution_count": 10,
   "id": "9f7c1642",
   "metadata": {
    "execution": {
     "iopub.execute_input": "2022-02-17T23:54:11.382312Z",
     "iopub.status.busy": "2022-02-17T23:54:11.379698Z",
     "iopub.status.idle": "2022-02-17T23:54:11.384220Z",
     "shell.execute_reply": "2022-02-17T23:54:11.384747Z",
     "shell.execute_reply.started": "2022-02-17T23:44:18.814031Z"
    },
    "papermill": {
     "duration": 0.026959,
     "end_time": "2022-02-17T23:54:11.384943",
     "exception": false,
     "start_time": "2022-02-17T23:54:11.357984",
     "status": "completed"
    },
    "tags": []
   },
   "outputs": [],
   "source": [
    "pipe_lgbm = Pipeline(steps=[\n",
    "    ('get_feature', GetFeatureTransformer()),\n",
    "    ('transform_columns', ColumnTransformer([\n",
    "        ('tf_num', StandardScaler(), num_cols),\n",
    "        ('tf_cat', OneHotEncoder(), cat_cols)\n",
    "    ])),\n",
    "    ('model', LGBMRegressor(**params))\n",
    "])"
   ]
  },
  {
   "cell_type": "markdown",
   "id": "3afb1b5e",
   "metadata": {
    "papermill": {
     "duration": 0.019109,
     "end_time": "2022-02-17T23:54:11.423659",
     "exception": false,
     "start_time": "2022-02-17T23:54:11.404550",
     "status": "completed"
    },
    "tags": []
   },
   "source": [
    "# Training"
   ]
  },
  {
   "cell_type": "code",
   "execution_count": 11,
   "id": "c7b25e4b",
   "metadata": {
    "execution": {
     "iopub.execute_input": "2022-02-17T23:54:11.464808Z",
     "iopub.status.busy": "2022-02-17T23:54:11.464164Z",
     "iopub.status.idle": "2022-02-18T01:35:07.867765Z",
     "shell.execute_reply": "2022-02-18T01:35:07.868834Z",
     "shell.execute_reply.started": "2022-02-17T23:46:47.009781Z"
    },
    "papermill": {
     "duration": 6056.427496,
     "end_time": "2022-02-18T01:35:07.870114",
     "exception": false,
     "start_time": "2022-02-17T23:54:11.442618",
     "status": "completed"
    },
    "tags": []
   },
   "outputs": [
    {
     "name": "stdout",
     "output_type": "stream",
     "text": [
      "Training model for Bitcoin Cash     (ID=2 )...\n",
      "[LightGBM] [Warning] lambda_l1 is set=1, reg_alpha=0.0 will be ignored. Current value: lambda_l1=1\n",
      "[LightGBM] [Warning] feature_fraction is set=0.4, colsample_bytree=1.0 will be ignored. Current value: feature_fraction=0.4\n",
      "[LightGBM] [Warning] lambda_l2 is set=1, reg_lambda=0.0 will be ignored. Current value: lambda_l2=1\n",
      "[LightGBM] [Warning] lambda_l1 is set=1, reg_alpha=0.0 will be ignored. Current value: lambda_l1=1\n",
      "[LightGBM] [Warning] feature_fraction is set=0.4, colsample_bytree=1.0 will be ignored. Current value: feature_fraction=0.4\n",
      "[LightGBM] [Warning] lambda_l2 is set=1, reg_lambda=0.0 will be ignored. Current value: lambda_l2=1\n",
      "[LightGBM] [Warning] lambda_l1 is set=1, reg_alpha=0.0 will be ignored. Current value: lambda_l1=1\n",
      "[LightGBM] [Warning] feature_fraction is set=0.4, colsample_bytree=1.0 will be ignored. Current value: feature_fraction=0.4\n",
      "[LightGBM] [Warning] lambda_l2 is set=1, reg_lambda=0.0 will be ignored. Current value: lambda_l2=1\n",
      "[LightGBM] [Warning] lambda_l1 is set=1, reg_alpha=0.0 will be ignored. Current value: lambda_l1=1\n",
      "[LightGBM] [Warning] feature_fraction is set=0.4, colsample_bytree=1.0 will be ignored. Current value: feature_fraction=0.4\n",
      "[LightGBM] [Warning] lambda_l2 is set=1, reg_lambda=0.0 will be ignored. Current value: lambda_l2=1\n",
      "[LightGBM] [Warning] lambda_l1 is set=1, reg_alpha=0.0 will be ignored. Current value: lambda_l1=1\n",
      "[LightGBM] [Warning] feature_fraction is set=0.4, colsample_bytree=1.0 will be ignored. Current value: feature_fraction=0.4\n",
      "[LightGBM] [Warning] lambda_l2 is set=1, reg_lambda=0.0 will be ignored. Current value: lambda_l2=1\n",
      "Cross validation test score for Bitcoin Cash     0.0047\n",
      "Time consumption: 6.56min\n",
      "Training model for Binance Coin     (ID=0 )...\n",
      "[LightGBM] [Warning] lambda_l1 is set=1, reg_alpha=0.0 will be ignored. Current value: lambda_l1=1\n",
      "[LightGBM] [Warning] feature_fraction is set=0.4, colsample_bytree=1.0 will be ignored. Current value: feature_fraction=0.4\n",
      "[LightGBM] [Warning] lambda_l2 is set=1, reg_lambda=0.0 will be ignored. Current value: lambda_l2=1\n",
      "[LightGBM] [Warning] lambda_l1 is set=1, reg_alpha=0.0 will be ignored. Current value: lambda_l1=1\n",
      "[LightGBM] [Warning] feature_fraction is set=0.4, colsample_bytree=1.0 will be ignored. Current value: feature_fraction=0.4\n",
      "[LightGBM] [Warning] lambda_l2 is set=1, reg_lambda=0.0 will be ignored. Current value: lambda_l2=1\n",
      "[LightGBM] [Warning] lambda_l1 is set=1, reg_alpha=0.0 will be ignored. Current value: lambda_l1=1\n",
      "[LightGBM] [Warning] feature_fraction is set=0.4, colsample_bytree=1.0 will be ignored. Current value: feature_fraction=0.4\n",
      "[LightGBM] [Warning] lambda_l2 is set=1, reg_lambda=0.0 will be ignored. Current value: lambda_l2=1\n",
      "[LightGBM] [Warning] lambda_l1 is set=1, reg_alpha=0.0 will be ignored. Current value: lambda_l1=1\n",
      "[LightGBM] [Warning] feature_fraction is set=0.4, colsample_bytree=1.0 will be ignored. Current value: feature_fraction=0.4\n",
      "[LightGBM] [Warning] lambda_l2 is set=1, reg_lambda=0.0 will be ignored. Current value: lambda_l2=1\n",
      "[LightGBM] [Warning] lambda_l1 is set=1, reg_alpha=0.0 will be ignored. Current value: lambda_l1=1\n",
      "[LightGBM] [Warning] feature_fraction is set=0.4, colsample_bytree=1.0 will be ignored. Current value: feature_fraction=0.4\n",
      "[LightGBM] [Warning] lambda_l2 is set=1, reg_lambda=0.0 will be ignored. Current value: lambda_l2=1\n",
      "Cross validation test score for Binance Coin     0.0046\n",
      "Time consumption: 7.50min\n",
      "Training model for Bitcoin          (ID=1 )...\n",
      "[LightGBM] [Warning] lambda_l1 is set=1, reg_alpha=0.0 will be ignored. Current value: lambda_l1=1\n",
      "[LightGBM] [Warning] feature_fraction is set=0.4, colsample_bytree=1.0 will be ignored. Current value: feature_fraction=0.4\n",
      "[LightGBM] [Warning] lambda_l2 is set=1, reg_lambda=0.0 will be ignored. Current value: lambda_l2=1\n",
      "[LightGBM] [Warning] lambda_l1 is set=1, reg_alpha=0.0 will be ignored. Current value: lambda_l1=1\n",
      "[LightGBM] [Warning] feature_fraction is set=0.4, colsample_bytree=1.0 will be ignored. Current value: feature_fraction=0.4\n",
      "[LightGBM] [Warning] lambda_l2 is set=1, reg_lambda=0.0 will be ignored. Current value: lambda_l2=1\n",
      "[LightGBM] [Warning] lambda_l1 is set=1, reg_alpha=0.0 will be ignored. Current value: lambda_l1=1\n",
      "[LightGBM] [Warning] feature_fraction is set=0.4, colsample_bytree=1.0 will be ignored. Current value: feature_fraction=0.4\n",
      "[LightGBM] [Warning] lambda_l2 is set=1, reg_lambda=0.0 will be ignored. Current value: lambda_l2=1\n",
      "[LightGBM] [Warning] lambda_l1 is set=1, reg_alpha=0.0 will be ignored. Current value: lambda_l1=1\n",
      "[LightGBM] [Warning] feature_fraction is set=0.4, colsample_bytree=1.0 will be ignored. Current value: feature_fraction=0.4\n",
      "[LightGBM] [Warning] lambda_l2 is set=1, reg_lambda=0.0 will be ignored. Current value: lambda_l2=1\n",
      "[LightGBM] [Warning] lambda_l1 is set=1, reg_alpha=0.0 will be ignored. Current value: lambda_l1=1\n",
      "[LightGBM] [Warning] feature_fraction is set=0.4, colsample_bytree=1.0 will be ignored. Current value: feature_fraction=0.4\n",
      "[LightGBM] [Warning] lambda_l2 is set=1, reg_lambda=0.0 will be ignored. Current value: lambda_l2=1\n",
      "Cross validation test score for Bitcoin          0.0215\n",
      "Time consumption: 9.07min\n",
      "Training model for EOS.IO           (ID=5 )...\n",
      "[LightGBM] [Warning] lambda_l1 is set=1, reg_alpha=0.0 will be ignored. Current value: lambda_l1=1\n",
      "[LightGBM] [Warning] feature_fraction is set=0.4, colsample_bytree=1.0 will be ignored. Current value: feature_fraction=0.4\n",
      "[LightGBM] [Warning] lambda_l2 is set=1, reg_lambda=0.0 will be ignored. Current value: lambda_l2=1\n",
      "[LightGBM] [Warning] lambda_l1 is set=1, reg_alpha=0.0 will be ignored. Current value: lambda_l1=1\n",
      "[LightGBM] [Warning] feature_fraction is set=0.4, colsample_bytree=1.0 will be ignored. Current value: feature_fraction=0.4\n",
      "[LightGBM] [Warning] lambda_l2 is set=1, reg_lambda=0.0 will be ignored. Current value: lambda_l2=1\n",
      "[LightGBM] [Warning] lambda_l1 is set=1, reg_alpha=0.0 will be ignored. Current value: lambda_l1=1\n",
      "[LightGBM] [Warning] feature_fraction is set=0.4, colsample_bytree=1.0 will be ignored. Current value: feature_fraction=0.4\n",
      "[LightGBM] [Warning] lambda_l2 is set=1, reg_lambda=0.0 will be ignored. Current value: lambda_l2=1\n",
      "[LightGBM] [Warning] lambda_l1 is set=1, reg_alpha=0.0 will be ignored. Current value: lambda_l1=1\n",
      "[LightGBM] [Warning] feature_fraction is set=0.4, colsample_bytree=1.0 will be ignored. Current value: feature_fraction=0.4\n",
      "[LightGBM] [Warning] lambda_l2 is set=1, reg_lambda=0.0 will be ignored. Current value: lambda_l2=1\n",
      "[LightGBM] [Warning] lambda_l1 is set=1, reg_alpha=0.0 will be ignored. Current value: lambda_l1=1\n",
      "[LightGBM] [Warning] feature_fraction is set=0.4, colsample_bytree=1.0 will be ignored. Current value: feature_fraction=0.4\n",
      "[LightGBM] [Warning] lambda_l2 is set=1, reg_lambda=0.0 will be ignored. Current value: lambda_l2=1\n",
      "Cross validation test score for EOS.IO           0.0053\n",
      "Time consumption: 8.62min\n",
      "Training model for Ethereum Classic (ID=7 )...\n",
      "[LightGBM] [Warning] lambda_l1 is set=1, reg_alpha=0.0 will be ignored. Current value: lambda_l1=1\n",
      "[LightGBM] [Warning] feature_fraction is set=0.4, colsample_bytree=1.0 will be ignored. Current value: feature_fraction=0.4\n",
      "[LightGBM] [Warning] lambda_l2 is set=1, reg_lambda=0.0 will be ignored. Current value: lambda_l2=1\n",
      "[LightGBM] [Warning] lambda_l1 is set=1, reg_alpha=0.0 will be ignored. Current value: lambda_l1=1\n",
      "[LightGBM] [Warning] feature_fraction is set=0.4, colsample_bytree=1.0 will be ignored. Current value: feature_fraction=0.4\n",
      "[LightGBM] [Warning] lambda_l2 is set=1, reg_lambda=0.0 will be ignored. Current value: lambda_l2=1\n",
      "[LightGBM] [Warning] lambda_l1 is set=1, reg_alpha=0.0 will be ignored. Current value: lambda_l1=1\n",
      "[LightGBM] [Warning] feature_fraction is set=0.4, colsample_bytree=1.0 will be ignored. Current value: feature_fraction=0.4\n",
      "[LightGBM] [Warning] lambda_l2 is set=1, reg_lambda=0.0 will be ignored. Current value: lambda_l2=1\n",
      "[LightGBM] [Warning] lambda_l1 is set=1, reg_alpha=0.0 will be ignored. Current value: lambda_l1=1\n",
      "[LightGBM] [Warning] feature_fraction is set=0.4, colsample_bytree=1.0 will be ignored. Current value: feature_fraction=0.4\n",
      "[LightGBM] [Warning] lambda_l2 is set=1, reg_lambda=0.0 will be ignored. Current value: lambda_l2=1\n",
      "[LightGBM] [Warning] lambda_l1 is set=1, reg_alpha=0.0 will be ignored. Current value: lambda_l1=1\n",
      "[LightGBM] [Warning] feature_fraction is set=0.4, colsample_bytree=1.0 will be ignored. Current value: feature_fraction=0.4\n",
      "[LightGBM] [Warning] lambda_l2 is set=1, reg_lambda=0.0 will be ignored. Current value: lambda_l2=1\n",
      "Cross validation test score for Ethereum Classic 0.0036\n",
      "Time consumption: 6.48min\n",
      "Training model for Ethereum         (ID=6 )...\n",
      "[LightGBM] [Warning] lambda_l1 is set=1, reg_alpha=0.0 will be ignored. Current value: lambda_l1=1\n",
      "[LightGBM] [Warning] feature_fraction is set=0.4, colsample_bytree=1.0 will be ignored. Current value: feature_fraction=0.4\n",
      "[LightGBM] [Warning] lambda_l2 is set=1, reg_lambda=0.0 will be ignored. Current value: lambda_l2=1\n",
      "[LightGBM] [Warning] lambda_l1 is set=1, reg_alpha=0.0 will be ignored. Current value: lambda_l1=1\n",
      "[LightGBM] [Warning] feature_fraction is set=0.4, colsample_bytree=1.0 will be ignored. Current value: feature_fraction=0.4\n",
      "[LightGBM] [Warning] lambda_l2 is set=1, reg_lambda=0.0 will be ignored. Current value: lambda_l2=1\n",
      "[LightGBM] [Warning] lambda_l1 is set=1, reg_alpha=0.0 will be ignored. Current value: lambda_l1=1\n",
      "[LightGBM] [Warning] feature_fraction is set=0.4, colsample_bytree=1.0 will be ignored. Current value: feature_fraction=0.4\n",
      "[LightGBM] [Warning] lambda_l2 is set=1, reg_lambda=0.0 will be ignored. Current value: lambda_l2=1\n",
      "[LightGBM] [Warning] lambda_l1 is set=1, reg_alpha=0.0 will be ignored. Current value: lambda_l1=1\n",
      "[LightGBM] [Warning] feature_fraction is set=0.4, colsample_bytree=1.0 will be ignored. Current value: feature_fraction=0.4\n",
      "[LightGBM] [Warning] lambda_l2 is set=1, reg_lambda=0.0 will be ignored. Current value: lambda_l2=1\n",
      "[LightGBM] [Warning] lambda_l1 is set=1, reg_alpha=0.0 will be ignored. Current value: lambda_l1=1\n",
      "[LightGBM] [Warning] feature_fraction is set=0.4, colsample_bytree=1.0 will be ignored. Current value: feature_fraction=0.4\n",
      "[LightGBM] [Warning] lambda_l2 is set=1, reg_lambda=0.0 will be ignored. Current value: lambda_l2=1\n",
      "Cross validation test score for Ethereum         0.0243\n",
      "Time consumption: 9.21min\n",
      "Training model for Litecoin         (ID=9 )...\n",
      "[LightGBM] [Warning] lambda_l1 is set=1, reg_alpha=0.0 will be ignored. Current value: lambda_l1=1\n",
      "[LightGBM] [Warning] feature_fraction is set=0.4, colsample_bytree=1.0 will be ignored. Current value: feature_fraction=0.4\n",
      "[LightGBM] [Warning] lambda_l2 is set=1, reg_lambda=0.0 will be ignored. Current value: lambda_l2=1\n",
      "[LightGBM] [Warning] lambda_l1 is set=1, reg_alpha=0.0 will be ignored. Current value: lambda_l1=1\n",
      "[LightGBM] [Warning] feature_fraction is set=0.4, colsample_bytree=1.0 will be ignored. Current value: feature_fraction=0.4\n",
      "[LightGBM] [Warning] lambda_l2 is set=1, reg_lambda=0.0 will be ignored. Current value: lambda_l2=1\n",
      "[LightGBM] [Warning] lambda_l1 is set=1, reg_alpha=0.0 will be ignored. Current value: lambda_l1=1\n",
      "[LightGBM] [Warning] feature_fraction is set=0.4, colsample_bytree=1.0 will be ignored. Current value: feature_fraction=0.4\n",
      "[LightGBM] [Warning] lambda_l2 is set=1, reg_lambda=0.0 will be ignored. Current value: lambda_l2=1\n",
      "[LightGBM] [Warning] lambda_l1 is set=1, reg_alpha=0.0 will be ignored. Current value: lambda_l1=1\n",
      "[LightGBM] [Warning] feature_fraction is set=0.4, colsample_bytree=1.0 will be ignored. Current value: feature_fraction=0.4\n",
      "[LightGBM] [Warning] lambda_l2 is set=1, reg_lambda=0.0 will be ignored. Current value: lambda_l2=1\n",
      "[LightGBM] [Warning] lambda_l1 is set=1, reg_alpha=0.0 will be ignored. Current value: lambda_l1=1\n",
      "[LightGBM] [Warning] feature_fraction is set=0.4, colsample_bytree=1.0 will be ignored. Current value: feature_fraction=0.4\n",
      "[LightGBM] [Warning] lambda_l2 is set=1, reg_lambda=0.0 will be ignored. Current value: lambda_l2=1\n",
      "Cross validation test score for Litecoin         0.0065\n",
      "Time consumption: 8.79min\n",
      "Training model for Monero           (ID=11)...\n",
      "[LightGBM] [Warning] lambda_l1 is set=1, reg_alpha=0.0 will be ignored. Current value: lambda_l1=1\n",
      "[LightGBM] [Warning] feature_fraction is set=0.4, colsample_bytree=1.0 will be ignored. Current value: feature_fraction=0.4\n",
      "[LightGBM] [Warning] lambda_l2 is set=1, reg_lambda=0.0 will be ignored. Current value: lambda_l2=1\n",
      "[LightGBM] [Warning] lambda_l1 is set=1, reg_alpha=0.0 will be ignored. Current value: lambda_l1=1\n",
      "[LightGBM] [Warning] feature_fraction is set=0.4, colsample_bytree=1.0 will be ignored. Current value: feature_fraction=0.4\n",
      "[LightGBM] [Warning] lambda_l2 is set=1, reg_lambda=0.0 will be ignored. Current value: lambda_l2=1\n",
      "[LightGBM] [Warning] lambda_l1 is set=1, reg_alpha=0.0 will be ignored. Current value: lambda_l1=1\n",
      "[LightGBM] [Warning] feature_fraction is set=0.4, colsample_bytree=1.0 will be ignored. Current value: feature_fraction=0.4\n",
      "[LightGBM] [Warning] lambda_l2 is set=1, reg_lambda=0.0 will be ignored. Current value: lambda_l2=1\n",
      "[LightGBM] [Warning] lambda_l1 is set=1, reg_alpha=0.0 will be ignored. Current value: lambda_l1=1\n",
      "[LightGBM] [Warning] feature_fraction is set=0.4, colsample_bytree=1.0 will be ignored. Current value: feature_fraction=0.4\n",
      "[LightGBM] [Warning] lambda_l2 is set=1, reg_lambda=0.0 will be ignored. Current value: lambda_l2=1\n",
      "[LightGBM] [Warning] lambda_l1 is set=1, reg_alpha=0.0 will be ignored. Current value: lambda_l1=1\n",
      "[LightGBM] [Warning] feature_fraction is set=0.4, colsample_bytree=1.0 will be ignored. Current value: feature_fraction=0.4\n",
      "[LightGBM] [Warning] lambda_l2 is set=1, reg_lambda=0.0 will be ignored. Current value: lambda_l2=1\n",
      "Cross validation test score for Monero           0.0067\n",
      "Time consumption: 7.64min\n",
      "Training model for TRON             (ID=13)...\n",
      "[LightGBM] [Warning] lambda_l1 is set=1, reg_alpha=0.0 will be ignored. Current value: lambda_l1=1\n",
      "[LightGBM] [Warning] feature_fraction is set=0.4, colsample_bytree=1.0 will be ignored. Current value: feature_fraction=0.4\n",
      "[LightGBM] [Warning] lambda_l2 is set=1, reg_lambda=0.0 will be ignored. Current value: lambda_l2=1\n",
      "[LightGBM] [Warning] lambda_l1 is set=1, reg_alpha=0.0 will be ignored. Current value: lambda_l1=1\n",
      "[LightGBM] [Warning] feature_fraction is set=0.4, colsample_bytree=1.0 will be ignored. Current value: feature_fraction=0.4\n",
      "[LightGBM] [Warning] lambda_l2 is set=1, reg_lambda=0.0 will be ignored. Current value: lambda_l2=1\n",
      "[LightGBM] [Warning] lambda_l1 is set=1, reg_alpha=0.0 will be ignored. Current value: lambda_l1=1\n",
      "[LightGBM] [Warning] feature_fraction is set=0.4, colsample_bytree=1.0 will be ignored. Current value: feature_fraction=0.4\n",
      "[LightGBM] [Warning] lambda_l2 is set=1, reg_lambda=0.0 will be ignored. Current value: lambda_l2=1\n",
      "[LightGBM] [Warning] lambda_l1 is set=1, reg_alpha=0.0 will be ignored. Current value: lambda_l1=1\n",
      "[LightGBM] [Warning] feature_fraction is set=0.4, colsample_bytree=1.0 will be ignored. Current value: feature_fraction=0.4\n",
      "[LightGBM] [Warning] lambda_l2 is set=1, reg_lambda=0.0 will be ignored. Current value: lambda_l2=1\n",
      "[LightGBM] [Warning] lambda_l1 is set=1, reg_alpha=0.0 will be ignored. Current value: lambda_l1=1\n",
      "[LightGBM] [Warning] feature_fraction is set=0.4, colsample_bytree=1.0 will be ignored. Current value: feature_fraction=0.4\n",
      "[LightGBM] [Warning] lambda_l2 is set=1, reg_lambda=0.0 will be ignored. Current value: lambda_l2=1\n",
      "Cross validation test score for TRON             0.0113\n",
      "Time consumption: 7.91min\n",
      "Training model for Stellar          (ID=12)...\n",
      "[LightGBM] [Warning] lambda_l1 is set=1, reg_alpha=0.0 will be ignored. Current value: lambda_l1=1\n",
      "[LightGBM] [Warning] feature_fraction is set=0.4, colsample_bytree=1.0 will be ignored. Current value: feature_fraction=0.4\n",
      "[LightGBM] [Warning] lambda_l2 is set=1, reg_lambda=0.0 will be ignored. Current value: lambda_l2=1\n",
      "[LightGBM] [Warning] lambda_l1 is set=1, reg_alpha=0.0 will be ignored. Current value: lambda_l1=1\n",
      "[LightGBM] [Warning] feature_fraction is set=0.4, colsample_bytree=1.0 will be ignored. Current value: feature_fraction=0.4\n",
      "[LightGBM] [Warning] lambda_l2 is set=1, reg_lambda=0.0 will be ignored. Current value: lambda_l2=1\n",
      "[LightGBM] [Warning] lambda_l1 is set=1, reg_alpha=0.0 will be ignored. Current value: lambda_l1=1\n",
      "[LightGBM] [Warning] feature_fraction is set=0.4, colsample_bytree=1.0 will be ignored. Current value: feature_fraction=0.4\n",
      "[LightGBM] [Warning] lambda_l2 is set=1, reg_lambda=0.0 will be ignored. Current value: lambda_l2=1\n",
      "[LightGBM] [Warning] lambda_l1 is set=1, reg_alpha=0.0 will be ignored. Current value: lambda_l1=1\n",
      "[LightGBM] [Warning] feature_fraction is set=0.4, colsample_bytree=1.0 will be ignored. Current value: feature_fraction=0.4\n",
      "[LightGBM] [Warning] lambda_l2 is set=1, reg_lambda=0.0 will be ignored. Current value: lambda_l2=1\n",
      "[LightGBM] [Warning] lambda_l1 is set=1, reg_alpha=0.0 will be ignored. Current value: lambda_l1=1\n",
      "[LightGBM] [Warning] feature_fraction is set=0.4, colsample_bytree=1.0 will be ignored. Current value: feature_fraction=0.4\n",
      "[LightGBM] [Warning] lambda_l2 is set=1, reg_lambda=0.0 will be ignored. Current value: lambda_l2=1\n",
      "Cross validation test score for Stellar          0.0240\n",
      "Time consumption: 7.18min\n",
      "Training model for Cardano          (ID=3 )...\n",
      "[LightGBM] [Warning] lambda_l1 is set=1, reg_alpha=0.0 will be ignored. Current value: lambda_l1=1\n",
      "[LightGBM] [Warning] feature_fraction is set=0.4, colsample_bytree=1.0 will be ignored. Current value: feature_fraction=0.4\n",
      "[LightGBM] [Warning] lambda_l2 is set=1, reg_lambda=0.0 will be ignored. Current value: lambda_l2=1\n",
      "[LightGBM] [Warning] lambda_l1 is set=1, reg_alpha=0.0 will be ignored. Current value: lambda_l1=1\n",
      "[LightGBM] [Warning] feature_fraction is set=0.4, colsample_bytree=1.0 will be ignored. Current value: feature_fraction=0.4\n",
      "[LightGBM] [Warning] lambda_l2 is set=1, reg_lambda=0.0 will be ignored. Current value: lambda_l2=1\n",
      "[LightGBM] [Warning] lambda_l1 is set=1, reg_alpha=0.0 will be ignored. Current value: lambda_l1=1\n",
      "[LightGBM] [Warning] feature_fraction is set=0.4, colsample_bytree=1.0 will be ignored. Current value: feature_fraction=0.4\n",
      "[LightGBM] [Warning] lambda_l2 is set=1, reg_lambda=0.0 will be ignored. Current value: lambda_l2=1\n",
      "[LightGBM] [Warning] lambda_l1 is set=1, reg_alpha=0.0 will be ignored. Current value: lambda_l1=1\n",
      "[LightGBM] [Warning] feature_fraction is set=0.4, colsample_bytree=1.0 will be ignored. Current value: feature_fraction=0.4\n",
      "[LightGBM] [Warning] lambda_l2 is set=1, reg_lambda=0.0 will be ignored. Current value: lambda_l2=1\n",
      "[LightGBM] [Warning] lambda_l1 is set=1, reg_alpha=0.0 will be ignored. Current value: lambda_l1=1\n",
      "[LightGBM] [Warning] feature_fraction is set=0.4, colsample_bytree=1.0 will be ignored. Current value: feature_fraction=0.4\n",
      "[LightGBM] [Warning] lambda_l2 is set=1, reg_lambda=0.0 will be ignored. Current value: lambda_l2=1\n",
      "Cross validation test score for Cardano          -0.0033\n",
      "Time consumption: 8.14min\n",
      "Training model for IOTA             (ID=8 )...\n",
      "[LightGBM] [Warning] lambda_l1 is set=1, reg_alpha=0.0 will be ignored. Current value: lambda_l1=1\n",
      "[LightGBM] [Warning] feature_fraction is set=0.4, colsample_bytree=1.0 will be ignored. Current value: feature_fraction=0.4\n",
      "[LightGBM] [Warning] lambda_l2 is set=1, reg_lambda=0.0 will be ignored. Current value: lambda_l2=1\n",
      "[LightGBM] [Warning] lambda_l1 is set=1, reg_alpha=0.0 will be ignored. Current value: lambda_l1=1\n",
      "[LightGBM] [Warning] feature_fraction is set=0.4, colsample_bytree=1.0 will be ignored. Current value: feature_fraction=0.4\n",
      "[LightGBM] [Warning] lambda_l2 is set=1, reg_lambda=0.0 will be ignored. Current value: lambda_l2=1\n",
      "[LightGBM] [Warning] lambda_l1 is set=1, reg_alpha=0.0 will be ignored. Current value: lambda_l1=1\n",
      "[LightGBM] [Warning] feature_fraction is set=0.4, colsample_bytree=1.0 will be ignored. Current value: feature_fraction=0.4\n",
      "[LightGBM] [Warning] lambda_l2 is set=1, reg_lambda=0.0 will be ignored. Current value: lambda_l2=1\n",
      "[LightGBM] [Warning] lambda_l1 is set=1, reg_alpha=0.0 will be ignored. Current value: lambda_l1=1\n",
      "[LightGBM] [Warning] feature_fraction is set=0.4, colsample_bytree=1.0 will be ignored. Current value: feature_fraction=0.4\n",
      "[LightGBM] [Warning] lambda_l2 is set=1, reg_lambda=0.0 will be ignored. Current value: lambda_l2=1\n",
      "[LightGBM] [Warning] lambda_l1 is set=1, reg_alpha=0.0 will be ignored. Current value: lambda_l1=1\n",
      "[LightGBM] [Warning] feature_fraction is set=0.4, colsample_bytree=1.0 will be ignored. Current value: feature_fraction=0.4\n",
      "[LightGBM] [Warning] lambda_l2 is set=1, reg_lambda=0.0 will be ignored. Current value: lambda_l2=1\n",
      "Cross validation test score for IOTA             0.0037\n",
      "Time consumption: 6.63min\n",
      "Training model for Maker            (ID=10)...\n",
      "[LightGBM] [Warning] lambda_l1 is set=1, reg_alpha=0.0 will be ignored. Current value: lambda_l1=1\n",
      "[LightGBM] [Warning] feature_fraction is set=0.4, colsample_bytree=1.0 will be ignored. Current value: feature_fraction=0.4\n",
      "[LightGBM] [Warning] lambda_l2 is set=1, reg_lambda=0.0 will be ignored. Current value: lambda_l2=1\n",
      "[LightGBM] [Warning] lambda_l1 is set=1, reg_alpha=0.0 will be ignored. Current value: lambda_l1=1\n",
      "[LightGBM] [Warning] feature_fraction is set=0.4, colsample_bytree=1.0 will be ignored. Current value: feature_fraction=0.4\n",
      "[LightGBM] [Warning] lambda_l2 is set=1, reg_lambda=0.0 will be ignored. Current value: lambda_l2=1\n",
      "[LightGBM] [Warning] lambda_l1 is set=1, reg_alpha=0.0 will be ignored. Current value: lambda_l1=1\n",
      "[LightGBM] [Warning] feature_fraction is set=0.4, colsample_bytree=1.0 will be ignored. Current value: feature_fraction=0.4\n",
      "[LightGBM] [Warning] lambda_l2 is set=1, reg_lambda=0.0 will be ignored. Current value: lambda_l2=1\n",
      "[LightGBM] [Warning] lambda_l1 is set=1, reg_alpha=0.0 will be ignored. Current value: lambda_l1=1\n",
      "[LightGBM] [Warning] feature_fraction is set=0.4, colsample_bytree=1.0 will be ignored. Current value: feature_fraction=0.4\n",
      "[LightGBM] [Warning] lambda_l2 is set=1, reg_lambda=0.0 will be ignored. Current value: lambda_l2=1\n",
      "[LightGBM] [Warning] lambda_l1 is set=1, reg_alpha=0.0 will be ignored. Current value: lambda_l1=1\n",
      "[LightGBM] [Warning] feature_fraction is set=0.4, colsample_bytree=1.0 will be ignored. Current value: feature_fraction=0.4\n",
      "[LightGBM] [Warning] lambda_l2 is set=1, reg_lambda=0.0 will be ignored. Current value: lambda_l2=1\n",
      "Cross validation test score for Maker            -0.0069\n",
      "Time consumption: 3.23min\n",
      "Training model for Dogecoin         (ID=4 )...\n",
      "[LightGBM] [Warning] lambda_l1 is set=1, reg_alpha=0.0 will be ignored. Current value: lambda_l1=1\n",
      "[LightGBM] [Warning] feature_fraction is set=0.4, colsample_bytree=1.0 will be ignored. Current value: feature_fraction=0.4\n",
      "[LightGBM] [Warning] lambda_l2 is set=1, reg_lambda=0.0 will be ignored. Current value: lambda_l2=1\n",
      "[LightGBM] [Warning] lambda_l1 is set=1, reg_alpha=0.0 will be ignored. Current value: lambda_l1=1\n",
      "[LightGBM] [Warning] feature_fraction is set=0.4, colsample_bytree=1.0 will be ignored. Current value: feature_fraction=0.4\n",
      "[LightGBM] [Warning] lambda_l2 is set=1, reg_lambda=0.0 will be ignored. Current value: lambda_l2=1\n",
      "[LightGBM] [Warning] lambda_l1 is set=1, reg_alpha=0.0 will be ignored. Current value: lambda_l1=1\n",
      "[LightGBM] [Warning] feature_fraction is set=0.4, colsample_bytree=1.0 will be ignored. Current value: feature_fraction=0.4\n",
      "[LightGBM] [Warning] lambda_l2 is set=1, reg_lambda=0.0 will be ignored. Current value: lambda_l2=1\n",
      "[LightGBM] [Warning] lambda_l1 is set=1, reg_alpha=0.0 will be ignored. Current value: lambda_l1=1\n",
      "[LightGBM] [Warning] feature_fraction is set=0.4, colsample_bytree=1.0 will be ignored. Current value: feature_fraction=0.4\n",
      "[LightGBM] [Warning] lambda_l2 is set=1, reg_lambda=0.0 will be ignored. Current value: lambda_l2=1\n",
      "[LightGBM] [Warning] lambda_l1 is set=1, reg_alpha=0.0 will be ignored. Current value: lambda_l1=1\n",
      "[LightGBM] [Warning] feature_fraction is set=0.4, colsample_bytree=1.0 will be ignored. Current value: feature_fraction=0.4\n",
      "[LightGBM] [Warning] lambda_l2 is set=1, reg_lambda=0.0 will be ignored. Current value: lambda_l2=1\n",
      "Cross validation test score for Dogecoin         -0.0233\n",
      "Time consumption: 3.97min\n"
     ]
    }
   ],
   "source": [
    "X_train = {}\n",
    "y_train = {}\n",
    "model_lgbm = {}\n",
    "y_insmpl_pred = {}\n",
    "score_insmpl = {}\n",
    "\n",
    "# for asset_id, asset_name in zip([10], ['Maker']):\n",
    "for asset_id, asset_name in zip(df_asset_details['Asset_ID'], df_asset_details['Asset_Name']):\n",
    "    start_ts = time.time()\n",
    "    print(f\"Training model for {asset_name:<16} (ID={asset_id:<2})...\")\n",
    "    \n",
    "    X, y = get_asset_data(df_train, asset_id)\n",
    "    model = pipe_lgbm.fit(X, y)\n",
    "#     y_pred = model.predict(X)\n",
    "    y_pred = cross_val_predict(pipe_lgbm, X, y, cv = 5)\n",
    "\n",
    "    score = get_corr(y_pred, y)\n",
    "    \n",
    "#     print(f\"In-sample test score for {asset_name:<16} {score:.4f}\")\n",
    "    print(f\"Cross validation test score for {asset_name:<16} {score:.4f}\")\n",
    "    \n",
    "    X_train[asset_id] = X\n",
    "    y_train[asset_id] = y\n",
    "    model_lgbm[asset_id] = model\n",
    "    y_insmpl_pred[asset_id] = y_pred\n",
    "    score_insmpl[asset_id] = score\n",
    "    \n",
    "    end_ts = time.time()\n",
    "    print(f\"Time consumption: {(end_ts-start_ts)/60:.2f}min\")"
   ]
  },
  {
   "cell_type": "code",
   "execution_count": 12,
   "id": "34d81597",
   "metadata": {
    "execution": {
     "iopub.execute_input": "2022-02-18T01:35:07.980947Z",
     "iopub.status.busy": "2022-02-18T01:35:07.979952Z",
     "iopub.status.idle": "2022-02-18T01:35:07.987386Z",
     "shell.execute_reply": "2022-02-18T01:35:07.987963Z"
    },
    "papermill": {
     "duration": 0.063836,
     "end_time": "2022-02-18T01:35:07.988148",
     "exception": false,
     "start_time": "2022-02-18T01:35:07.924312",
     "status": "completed"
    },
    "tags": []
   },
   "outputs": [],
   "source": [
    "import traceback\n",
    "\n",
    "df_test_all = {}\n",
    "df_pred_all = {}\n",
    "\n",
    "env = gresearch_crypto.make_env()\n",
    "iter_test = env.iter_test()"
   ]
  },
  {
   "cell_type": "code",
   "execution_count": 13,
   "id": "ff50cda0",
   "metadata": {
    "execution": {
     "iopub.execute_input": "2022-02-18T01:35:08.087310Z",
     "iopub.status.busy": "2022-02-18T01:35:08.086323Z",
     "iopub.status.idle": "2022-02-18T01:35:09.266557Z",
     "shell.execute_reply": "2022-02-18T01:35:09.267200Z"
    },
    "papermill": {
     "duration": 1.228783,
     "end_time": "2022-02-18T01:35:09.267384",
     "exception": false,
     "start_time": "2022-02-18T01:35:08.038601",
     "status": "completed"
    },
    "tags": []
   },
   "outputs": [
    {
     "name": "stdout",
     "output_type": "stream",
     "text": [
      "This version of the API is not optimized and should not be used to estimate the runtime of your code on the hidden test set.\n"
     ]
    }
   ],
   "source": [
    "for i, (df_test, df_pred) in enumerate(iter_test):\n",
    "    \n",
    "    # make predictions\n",
    "    for j, row in df_test.iterrows():\n",
    "        asset_id = row['Asset_ID']\n",
    "        try:\n",
    "            y_pred = model_lgbm[asset_id].predict(row.to_frame().T)[0]\n",
    "        except:\n",
    "            y_pred = 0.0\n",
    "            traceback.print_exc()\n",
    "        df_pred.loc[df_pred['row_id']==row['row_id'], 'Target'] = y_pred\n",
    "        \n",
    "    # store test dataframes\n",
    "    df_test_all[i] = df_test\n",
    "    df_pred_all[i] = df_pred\n",
    "    \n",
    "    # submit predictions\n",
    "    env.predict(df_pred)"
   ]
  },
  {
   "cell_type": "code",
   "execution_count": 14,
   "id": "24811dd6",
   "metadata": {
    "execution": {
     "iopub.execute_input": "2022-02-18T01:35:09.363817Z",
     "iopub.status.busy": "2022-02-18T01:35:09.362787Z",
     "iopub.status.idle": "2022-02-18T01:35:09.368371Z",
     "shell.execute_reply": "2022-02-18T01:35:09.367704Z"
    },
    "papermill": {
     "duration": 0.055927,
     "end_time": "2022-02-18T01:35:09.368528",
     "exception": false,
     "start_time": "2022-02-18T01:35:09.312601",
     "status": "completed"
    },
    "tags": []
   },
   "outputs": [],
   "source": [
    "file_smpl_subm = 'example_sample_submission.csv'\n",
    "df_smpl_subm = pd.read_csv(os.path.join(dir_in, file_smpl_subm))"
   ]
  },
  {
   "cell_type": "code",
   "execution_count": 15,
   "id": "d4e0b9ea",
   "metadata": {
    "execution": {
     "iopub.execute_input": "2022-02-18T01:35:09.468324Z",
     "iopub.status.busy": "2022-02-18T01:35:09.467361Z",
     "iopub.status.idle": "2022-02-18T01:35:09.481091Z",
     "shell.execute_reply": "2022-02-18T01:35:09.481609Z"
    },
    "papermill": {
     "duration": 0.067412,
     "end_time": "2022-02-18T01:35:09.481780",
     "exception": false,
     "start_time": "2022-02-18T01:35:09.414368",
     "status": "completed"
    },
    "tags": []
   },
   "outputs": [
    {
     "data": {
      "text/html": [
       "<div>\n",
       "<style scoped>\n",
       "    .dataframe tbody tr th:only-of-type {\n",
       "        vertical-align: middle;\n",
       "    }\n",
       "\n",
       "    .dataframe tbody tr th {\n",
       "        vertical-align: top;\n",
       "    }\n",
       "\n",
       "    .dataframe thead th {\n",
       "        text-align: right;\n",
       "    }\n",
       "</style>\n",
       "<table border=\"1\" class=\"dataframe\">\n",
       "  <thead>\n",
       "    <tr style=\"text-align: right;\">\n",
       "      <th></th>\n",
       "      <th>group_num</th>\n",
       "      <th>row_id</th>\n",
       "      <th>Target</th>\n",
       "    </tr>\n",
       "  </thead>\n",
       "  <tbody>\n",
       "    <tr>\n",
       "      <th>0</th>\n",
       "      <td>0</td>\n",
       "      <td>0</td>\n",
       "      <td>0</td>\n",
       "    </tr>\n",
       "    <tr>\n",
       "      <th>1</th>\n",
       "      <td>0</td>\n",
       "      <td>1</td>\n",
       "      <td>0</td>\n",
       "    </tr>\n",
       "    <tr>\n",
       "      <th>2</th>\n",
       "      <td>0</td>\n",
       "      <td>2</td>\n",
       "      <td>0</td>\n",
       "    </tr>\n",
       "    <tr>\n",
       "      <th>3</th>\n",
       "      <td>0</td>\n",
       "      <td>3</td>\n",
       "      <td>0</td>\n",
       "    </tr>\n",
       "    <tr>\n",
       "      <th>4</th>\n",
       "      <td>0</td>\n",
       "      <td>4</td>\n",
       "      <td>0</td>\n",
       "    </tr>\n",
       "  </tbody>\n",
       "</table>\n",
       "</div>"
      ],
      "text/plain": [
       "   group_num  row_id  Target\n",
       "0          0       0       0\n",
       "1          0       1       0\n",
       "2          0       2       0\n",
       "3          0       3       0\n",
       "4          0       4       0"
      ]
     },
     "execution_count": 15,
     "metadata": {},
     "output_type": "execute_result"
    }
   ],
   "source": [
    "df_smpl_subm.head()"
   ]
  },
  {
   "cell_type": "code",
   "execution_count": 16,
   "id": "561c672c",
   "metadata": {
    "execution": {
     "iopub.execute_input": "2022-02-18T01:35:09.576858Z",
     "iopub.status.busy": "2022-02-18T01:35:09.576230Z",
     "iopub.status.idle": "2022-02-18T01:35:09.586532Z",
     "shell.execute_reply": "2022-02-18T01:35:09.587105Z"
    },
    "papermill": {
     "duration": 0.059736,
     "end_time": "2022-02-18T01:35:09.587288",
     "exception": false,
     "start_time": "2022-02-18T01:35:09.527552",
     "status": "completed"
    },
    "tags": []
   },
   "outputs": [],
   "source": [
    "df_subm_wgid = pd.DataFrame(columns = df_smpl_subm.columns)\n",
    "df_subm = pd.DataFrame(columns = ['row_id', 'Target'])"
   ]
  },
  {
   "cell_type": "code",
   "execution_count": 17,
   "id": "976d5543",
   "metadata": {
    "execution": {
     "iopub.execute_input": "2022-02-18T01:35:09.683725Z",
     "iopub.status.busy": "2022-02-18T01:35:09.683121Z",
     "iopub.status.idle": "2022-02-18T01:35:09.699943Z",
     "shell.execute_reply": "2022-02-18T01:35:09.700602Z"
    },
    "papermill": {
     "duration": 0.066616,
     "end_time": "2022-02-18T01:35:09.700797",
     "exception": false,
     "start_time": "2022-02-18T01:35:09.634181",
     "status": "completed"
    },
    "tags": []
   },
   "outputs": [],
   "source": [
    "for group_num, df_pred in df_pred_all.items():\n",
    "    df = df_pred.copy()\n",
    "    \n",
    "    # without group_num\n",
    "    df_subm = df_subm.append(df)\n",
    "    \n",
    "    # with group_num\n",
    "    df['group_num'] = group_num\n",
    "    df_subm_wgid = df_subm_wgid.append(df)"
   ]
  },
  {
   "cell_type": "code",
   "execution_count": 18,
   "id": "890b3c96",
   "metadata": {
    "execution": {
     "iopub.execute_input": "2022-02-18T01:35:09.798658Z",
     "iopub.status.busy": "2022-02-18T01:35:09.797901Z",
     "iopub.status.idle": "2022-02-18T01:35:09.808867Z",
     "shell.execute_reply": "2022-02-18T01:35:09.808264Z"
    },
    "papermill": {
     "duration": 0.061066,
     "end_time": "2022-02-18T01:35:09.809031",
     "exception": false,
     "start_time": "2022-02-18T01:35:09.747965",
     "status": "completed"
    },
    "tags": []
   },
   "outputs": [
    {
     "data": {
      "text/html": [
       "<div>\n",
       "<style scoped>\n",
       "    .dataframe tbody tr th:only-of-type {\n",
       "        vertical-align: middle;\n",
       "    }\n",
       "\n",
       "    .dataframe tbody tr th {\n",
       "        vertical-align: top;\n",
       "    }\n",
       "\n",
       "    .dataframe thead th {\n",
       "        text-align: right;\n",
       "    }\n",
       "</style>\n",
       "<table border=\"1\" class=\"dataframe\">\n",
       "  <thead>\n",
       "    <tr style=\"text-align: right;\">\n",
       "      <th></th>\n",
       "      <th>group_num</th>\n",
       "      <th>row_id</th>\n",
       "      <th>Target</th>\n",
       "    </tr>\n",
       "  </thead>\n",
       "  <tbody>\n",
       "    <tr>\n",
       "      <th>0</th>\n",
       "      <td>0</td>\n",
       "      <td>0</td>\n",
       "      <td>-0.001065</td>\n",
       "    </tr>\n",
       "    <tr>\n",
       "      <th>1</th>\n",
       "      <td>0</td>\n",
       "      <td>1</td>\n",
       "      <td>-0.001376</td>\n",
       "    </tr>\n",
       "    <tr>\n",
       "      <th>2</th>\n",
       "      <td>0</td>\n",
       "      <td>2</td>\n",
       "      <td>-0.000756</td>\n",
       "    </tr>\n",
       "    <tr>\n",
       "      <th>3</th>\n",
       "      <td>0</td>\n",
       "      <td>3</td>\n",
       "      <td>-0.000719</td>\n",
       "    </tr>\n",
       "    <tr>\n",
       "      <th>4</th>\n",
       "      <td>0</td>\n",
       "      <td>4</td>\n",
       "      <td>-0.000038</td>\n",
       "    </tr>\n",
       "  </tbody>\n",
       "</table>\n",
       "</div>"
      ],
      "text/plain": [
       "  group_num row_id    Target\n",
       "0         0      0 -0.001065\n",
       "1         0      1 -0.001376\n",
       "2         0      2 -0.000756\n",
       "3         0      3 -0.000719\n",
       "4         0      4 -0.000038"
      ]
     },
     "execution_count": 18,
     "metadata": {},
     "output_type": "execute_result"
    }
   ],
   "source": [
    "df_subm_wgid.head()"
   ]
  },
  {
   "cell_type": "code",
   "execution_count": 19,
   "id": "f6701872",
   "metadata": {
    "execution": {
     "iopub.execute_input": "2022-02-18T01:35:09.909473Z",
     "iopub.status.busy": "2022-02-18T01:35:09.908766Z",
     "iopub.status.idle": "2022-02-18T01:35:09.912281Z",
     "shell.execute_reply": "2022-02-18T01:35:09.912838Z"
    },
    "papermill": {
     "duration": 0.057207,
     "end_time": "2022-02-18T01:35:09.913054",
     "exception": false,
     "start_time": "2022-02-18T01:35:09.855847",
     "status": "completed"
    },
    "tags": []
   },
   "outputs": [],
   "source": [
    "df_subm.to_csv('submission.csv', index=False)\n",
    "df_subm_wgid.to_csv('submission_with_group_num.csv', index=False)"
   ]
  }
 ],
 "metadata": {
  "kernelspec": {
   "display_name": "Python 3",
   "language": "python",
   "name": "python3"
  },
  "language_info": {
   "codemirror_mode": {
    "name": "ipython",
    "version": 3
   },
   "file_extension": ".py",
   "mimetype": "text/x-python",
   "name": "python",
   "nbconvert_exporter": "python",
   "pygments_lexer": "ipython3",
   "version": "3.7.12"
  },
  "papermill": {
   "default_parameters": {},
   "duration": 6134.777022,
   "end_time": "2022-02-18T01:35:11.194692",
   "environment_variables": {},
   "exception": null,
   "input_path": "__notebook__.ipynb",
   "output_path": "__notebook__.ipynb",
   "parameters": {},
   "start_time": "2022-02-17T23:52:56.417670",
   "version": "2.3.3"
  }
 },
 "nbformat": 4,
 "nbformat_minor": 5
}
