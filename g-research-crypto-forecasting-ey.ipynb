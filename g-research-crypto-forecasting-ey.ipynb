{
 "cells": [
  {
   "cell_type": "markdown",
   "id": "d9285147",
   "metadata": {
    "papermill": {
     "duration": 0.049791,
     "end_time": "2022-01-31T04:43:12.044611",
     "exception": false,
     "start_time": "2022-01-31T04:43:11.994820",
     "status": "completed"
    },
    "tags": []
   },
   "source": [
    "## References: \n",
    "\n",
    "[G-Research- Starter LGBM Pipeline](https://www.kaggle.com/julian3833/g-research-starter-lgbm-pipeline)\n"
   ]
  },
  {
   "cell_type": "markdown",
   "id": "71904915",
   "metadata": {
    "papermill": {
     "duration": 0.044842,
     "end_time": "2022-01-31T04:43:12.137457",
     "exception": false,
     "start_time": "2022-01-31T04:43:12.092615",
     "status": "completed"
    },
    "tags": []
   },
   "source": [
    "# Environment Setup"
   ]
  },
  {
   "cell_type": "code",
   "execution_count": 1,
   "id": "aabde03e",
   "metadata": {
    "_cell_guid": "b1076dfc-b9ad-4769-8c92-a6c4dae69d19",
    "_kg_hide-output": true,
    "_uuid": "8f2839f25d086af736a60e9eeb907d3b93b6e0e5",
    "execution": {
     "iopub.execute_input": "2022-01-31T04:43:12.235883Z",
     "iopub.status.busy": "2022-01-31T04:43:12.235328Z",
     "iopub.status.idle": "2022-01-31T04:43:12.247760Z",
     "shell.execute_reply": "2022-01-31T04:43:12.246863Z",
     "shell.execute_reply.started": "2022-01-31T02:37:15.228012Z"
    },
    "papermill": {
     "duration": 0.065286,
     "end_time": "2022-01-31T04:43:12.247967",
     "exception": false,
     "start_time": "2022-01-31T04:43:12.182681",
     "status": "completed"
    },
    "tags": []
   },
   "outputs": [
    {
     "name": "stdout",
     "output_type": "stream",
     "text": [
      "/kaggle/input/g-research-crypto-forecasting/example_sample_submission.csv\n",
      "/kaggle/input/g-research-crypto-forecasting/asset_details.csv\n",
      "/kaggle/input/g-research-crypto-forecasting/example_test.csv\n",
      "/kaggle/input/g-research-crypto-forecasting/train.csv\n",
      "/kaggle/input/g-research-crypto-forecasting/supplemental_train.csv\n",
      "/kaggle/input/g-research-crypto-forecasting/gresearch_crypto/competition.cpython-37m-x86_64-linux-gnu.so\n",
      "/kaggle/input/g-research-crypto-forecasting/gresearch_crypto/__init__.py\n"
     ]
    }
   ],
   "source": [
    "import numpy as np # linear algebra\n",
    "import pandas as pd # data processing, CSV file I/O (e.g. pd.read_csv)\n",
    "\n",
    "import os\n",
    "for dirname, _, filenames in os.walk('/kaggle/input'):\n",
    "    for filename in filenames:\n",
    "        print(os.path.join(dirname, filename))\n"
   ]
  },
  {
   "cell_type": "code",
   "execution_count": 2,
   "id": "36d56cd1",
   "metadata": {
    "execution": {
     "iopub.execute_input": "2022-01-31T04:43:12.362535Z",
     "iopub.status.busy": "2022-01-31T04:43:12.361751Z",
     "iopub.status.idle": "2022-01-31T04:44:04.460329Z",
     "shell.execute_reply": "2022-01-31T04:44:04.459771Z",
     "shell.execute_reply.started": "2022-01-31T02:37:15.255649Z"
    },
    "papermill": {
     "duration": 52.160272,
     "end_time": "2022-01-31T04:44:04.460490",
     "exception": false,
     "start_time": "2022-01-31T04:43:12.300218",
     "status": "completed"
    },
    "tags": []
   },
   "outputs": [],
   "source": [
    "import gresearch_crypto\n",
    "import time\n",
    "from datetime import datetime\n",
    "\n",
    "dir_in = '/kaggle/input/g-research-crypto-forecasting/'\n",
    "file_train = 'train.csv'\n",
    "file_asset_details = 'asset_details.csv'\n",
    "\n",
    "df_train = pd.read_csv(os.path.join(dir_in, file_train))\n",
    "df_asset_details = pd.read_csv(os.path.join(dir_in, file_asset_details))"
   ]
  },
  {
   "cell_type": "code",
   "execution_count": 3,
   "id": "2f0bdba0",
   "metadata": {
    "execution": {
     "iopub.execute_input": "2022-01-31T04:44:04.554194Z",
     "iopub.status.busy": "2022-01-31T04:44:04.553641Z",
     "iopub.status.idle": "2022-01-31T04:44:04.556835Z",
     "shell.execute_reply": "2022-01-31T04:44:04.557261Z",
     "shell.execute_reply.started": "2022-01-31T02:38:11.112875Z"
    },
    "papermill": {
     "duration": 0.05144,
     "end_time": "2022-01-31T04:44:04.557438",
     "exception": false,
     "start_time": "2022-01-31T04:44:04.505998",
     "status": "completed"
    },
    "tags": []
   },
   "outputs": [],
   "source": [
    "# set seed\n",
    "\n",
    "seed = 2021\n",
    "\n",
    "def fix_all_seeds(seed):\n",
    "    os.environ['PYTHONHASHSEED'] = str(seed)\n",
    "    \n",
    "fix_all_seeds(seed)    "
   ]
  },
  {
   "cell_type": "code",
   "execution_count": 4,
   "id": "f2d4f32d",
   "metadata": {
    "execution": {
     "iopub.execute_input": "2022-01-31T04:44:04.656929Z",
     "iopub.status.busy": "2022-01-31T04:44:04.656347Z",
     "iopub.status.idle": "2022-01-31T04:44:04.673152Z",
     "shell.execute_reply": "2022-01-31T04:44:04.673621Z",
     "shell.execute_reply.started": "2022-01-31T02:38:11.122918Z"
    },
    "papermill": {
     "duration": 0.070618,
     "end_time": "2022-01-31T04:44:04.673783",
     "exception": false,
     "start_time": "2022-01-31T04:44:04.603165",
     "status": "completed"
    },
    "tags": []
   },
   "outputs": [
    {
     "data": {
      "text/html": [
       "<div>\n",
       "<style scoped>\n",
       "    .dataframe tbody tr th:only-of-type {\n",
       "        vertical-align: middle;\n",
       "    }\n",
       "\n",
       "    .dataframe tbody tr th {\n",
       "        vertical-align: top;\n",
       "    }\n",
       "\n",
       "    .dataframe thead th {\n",
       "        text-align: right;\n",
       "    }\n",
       "</style>\n",
       "<table border=\"1\" class=\"dataframe\">\n",
       "  <thead>\n",
       "    <tr style=\"text-align: right;\">\n",
       "      <th></th>\n",
       "      <th>timestamp</th>\n",
       "      <th>Asset_ID</th>\n",
       "      <th>Count</th>\n",
       "      <th>Open</th>\n",
       "      <th>High</th>\n",
       "      <th>Low</th>\n",
       "      <th>Close</th>\n",
       "      <th>Volume</th>\n",
       "      <th>VWAP</th>\n",
       "      <th>Target</th>\n",
       "    </tr>\n",
       "  </thead>\n",
       "  <tbody>\n",
       "    <tr>\n",
       "      <th>0</th>\n",
       "      <td>1514764860</td>\n",
       "      <td>2</td>\n",
       "      <td>40.0</td>\n",
       "      <td>2376.5800</td>\n",
       "      <td>2399.5000</td>\n",
       "      <td>2357.1400</td>\n",
       "      <td>2374.5900</td>\n",
       "      <td>19.233005</td>\n",
       "      <td>2373.116392</td>\n",
       "      <td>-0.004218</td>\n",
       "    </tr>\n",
       "    <tr>\n",
       "      <th>1</th>\n",
       "      <td>1514764860</td>\n",
       "      <td>0</td>\n",
       "      <td>5.0</td>\n",
       "      <td>8.5300</td>\n",
       "      <td>8.5300</td>\n",
       "      <td>8.5300</td>\n",
       "      <td>8.5300</td>\n",
       "      <td>78.380000</td>\n",
       "      <td>8.530000</td>\n",
       "      <td>-0.014399</td>\n",
       "    </tr>\n",
       "    <tr>\n",
       "      <th>2</th>\n",
       "      <td>1514764860</td>\n",
       "      <td>1</td>\n",
       "      <td>229.0</td>\n",
       "      <td>13835.1940</td>\n",
       "      <td>14013.8000</td>\n",
       "      <td>13666.1100</td>\n",
       "      <td>13850.1760</td>\n",
       "      <td>31.550062</td>\n",
       "      <td>13827.062093</td>\n",
       "      <td>-0.014643</td>\n",
       "    </tr>\n",
       "    <tr>\n",
       "      <th>3</th>\n",
       "      <td>1514764860</td>\n",
       "      <td>5</td>\n",
       "      <td>32.0</td>\n",
       "      <td>7.6596</td>\n",
       "      <td>7.6596</td>\n",
       "      <td>7.6567</td>\n",
       "      <td>7.6576</td>\n",
       "      <td>6626.713370</td>\n",
       "      <td>7.657713</td>\n",
       "      <td>-0.013922</td>\n",
       "    </tr>\n",
       "    <tr>\n",
       "      <th>4</th>\n",
       "      <td>1514764860</td>\n",
       "      <td>7</td>\n",
       "      <td>5.0</td>\n",
       "      <td>25.9200</td>\n",
       "      <td>25.9200</td>\n",
       "      <td>25.8740</td>\n",
       "      <td>25.8770</td>\n",
       "      <td>121.087310</td>\n",
       "      <td>25.891363</td>\n",
       "      <td>-0.008264</td>\n",
       "    </tr>\n",
       "  </tbody>\n",
       "</table>\n",
       "</div>"
      ],
      "text/plain": [
       "    timestamp  Asset_ID  Count        Open        High         Low  \\\n",
       "0  1514764860         2   40.0   2376.5800   2399.5000   2357.1400   \n",
       "1  1514764860         0    5.0      8.5300      8.5300      8.5300   \n",
       "2  1514764860         1  229.0  13835.1940  14013.8000  13666.1100   \n",
       "3  1514764860         5   32.0      7.6596      7.6596      7.6567   \n",
       "4  1514764860         7    5.0     25.9200     25.9200     25.8740   \n",
       "\n",
       "        Close       Volume          VWAP    Target  \n",
       "0   2374.5900    19.233005   2373.116392 -0.004218  \n",
       "1      8.5300    78.380000      8.530000 -0.014399  \n",
       "2  13850.1760    31.550062  13827.062093 -0.014643  \n",
       "3      7.6576  6626.713370      7.657713 -0.013922  \n",
       "4     25.8770   121.087310     25.891363 -0.008264  "
      ]
     },
     "execution_count": 4,
     "metadata": {},
     "output_type": "execute_result"
    }
   ],
   "source": [
    "df_train.head()"
   ]
  },
  {
   "cell_type": "code",
   "execution_count": 5,
   "id": "b4fa2b50",
   "metadata": {
    "execution": {
     "iopub.execute_input": "2022-01-31T04:44:04.778661Z",
     "iopub.status.busy": "2022-01-31T04:44:04.777768Z",
     "iopub.status.idle": "2022-01-31T04:44:04.781460Z",
     "shell.execute_reply": "2022-01-31T04:44:04.781855Z",
     "shell.execute_reply.started": "2022-01-31T02:38:11.166945Z"
    },
    "papermill": {
     "duration": 0.059786,
     "end_time": "2022-01-31T04:44:04.782016",
     "exception": false,
     "start_time": "2022-01-31T04:44:04.722230",
     "status": "completed"
    },
    "tags": []
   },
   "outputs": [
    {
     "data": {
      "text/html": [
       "<div>\n",
       "<style scoped>\n",
       "    .dataframe tbody tr th:only-of-type {\n",
       "        vertical-align: middle;\n",
       "    }\n",
       "\n",
       "    .dataframe tbody tr th {\n",
       "        vertical-align: top;\n",
       "    }\n",
       "\n",
       "    .dataframe thead th {\n",
       "        text-align: right;\n",
       "    }\n",
       "</style>\n",
       "<table border=\"1\" class=\"dataframe\">\n",
       "  <thead>\n",
       "    <tr style=\"text-align: right;\">\n",
       "      <th></th>\n",
       "      <th>Asset_ID</th>\n",
       "      <th>Weight</th>\n",
       "      <th>Asset_Name</th>\n",
       "    </tr>\n",
       "  </thead>\n",
       "  <tbody>\n",
       "    <tr>\n",
       "      <th>0</th>\n",
       "      <td>2</td>\n",
       "      <td>2.397895</td>\n",
       "      <td>Bitcoin Cash</td>\n",
       "    </tr>\n",
       "    <tr>\n",
       "      <th>1</th>\n",
       "      <td>0</td>\n",
       "      <td>4.304065</td>\n",
       "      <td>Binance Coin</td>\n",
       "    </tr>\n",
       "    <tr>\n",
       "      <th>2</th>\n",
       "      <td>1</td>\n",
       "      <td>6.779922</td>\n",
       "      <td>Bitcoin</td>\n",
       "    </tr>\n",
       "    <tr>\n",
       "      <th>3</th>\n",
       "      <td>5</td>\n",
       "      <td>1.386294</td>\n",
       "      <td>EOS.IO</td>\n",
       "    </tr>\n",
       "    <tr>\n",
       "      <th>4</th>\n",
       "      <td>7</td>\n",
       "      <td>2.079442</td>\n",
       "      <td>Ethereum Classic</td>\n",
       "    </tr>\n",
       "    <tr>\n",
       "      <th>5</th>\n",
       "      <td>6</td>\n",
       "      <td>5.894403</td>\n",
       "      <td>Ethereum</td>\n",
       "    </tr>\n",
       "    <tr>\n",
       "      <th>6</th>\n",
       "      <td>9</td>\n",
       "      <td>2.397895</td>\n",
       "      <td>Litecoin</td>\n",
       "    </tr>\n",
       "    <tr>\n",
       "      <th>7</th>\n",
       "      <td>11</td>\n",
       "      <td>1.609438</td>\n",
       "      <td>Monero</td>\n",
       "    </tr>\n",
       "    <tr>\n",
       "      <th>8</th>\n",
       "      <td>13</td>\n",
       "      <td>1.791759</td>\n",
       "      <td>TRON</td>\n",
       "    </tr>\n",
       "    <tr>\n",
       "      <th>9</th>\n",
       "      <td>12</td>\n",
       "      <td>2.079442</td>\n",
       "      <td>Stellar</td>\n",
       "    </tr>\n",
       "    <tr>\n",
       "      <th>10</th>\n",
       "      <td>3</td>\n",
       "      <td>4.406719</td>\n",
       "      <td>Cardano</td>\n",
       "    </tr>\n",
       "    <tr>\n",
       "      <th>11</th>\n",
       "      <td>8</td>\n",
       "      <td>1.098612</td>\n",
       "      <td>IOTA</td>\n",
       "    </tr>\n",
       "    <tr>\n",
       "      <th>12</th>\n",
       "      <td>10</td>\n",
       "      <td>1.098612</td>\n",
       "      <td>Maker</td>\n",
       "    </tr>\n",
       "    <tr>\n",
       "      <th>13</th>\n",
       "      <td>4</td>\n",
       "      <td>3.555348</td>\n",
       "      <td>Dogecoin</td>\n",
       "    </tr>\n",
       "  </tbody>\n",
       "</table>\n",
       "</div>"
      ],
      "text/plain": [
       "    Asset_ID    Weight        Asset_Name\n",
       "0          2  2.397895      Bitcoin Cash\n",
       "1          0  4.304065      Binance Coin\n",
       "2          1  6.779922           Bitcoin\n",
       "3          5  1.386294            EOS.IO\n",
       "4          7  2.079442  Ethereum Classic\n",
       "5          6  5.894403          Ethereum\n",
       "6          9  2.397895          Litecoin\n",
       "7         11  1.609438            Monero\n",
       "8         13  1.791759              TRON\n",
       "9         12  2.079442           Stellar\n",
       "10         3  4.406719           Cardano\n",
       "11         8  1.098612              IOTA\n",
       "12        10  1.098612             Maker\n",
       "13         4  3.555348          Dogecoin"
      ]
     },
     "execution_count": 5,
     "metadata": {},
     "output_type": "execute_result"
    }
   ],
   "source": [
    "df_asset_details"
   ]
  },
  {
   "cell_type": "markdown",
   "id": "3c83a5ed",
   "metadata": {
    "papermill": {
     "duration": 0.045774,
     "end_time": "2022-01-31T04:44:04.873972",
     "exception": false,
     "start_time": "2022-01-31T04:44:04.828198",
     "status": "completed"
    },
    "tags": []
   },
   "source": [
    "# Training"
   ]
  },
  {
   "cell_type": "markdown",
   "id": "2d96fb10",
   "metadata": {
    "papermill": {
     "duration": 0.045433,
     "end_time": "2022-01-31T04:44:04.965437",
     "exception": false,
     "start_time": "2022-01-31T04:44:04.920004",
     "status": "completed"
    },
    "tags": []
   },
   "source": [
    "## Linear Regression - Test on BTC and ETH"
   ]
  },
  {
   "cell_type": "code",
   "execution_count": 6,
   "id": "d4cd209e",
   "metadata": {
    "execution": {
     "iopub.execute_input": "2022-01-31T04:44:05.060664Z",
     "iopub.status.busy": "2022-01-31T04:44:05.059794Z",
     "iopub.status.idle": "2022-01-31T04:44:05.064712Z",
     "shell.execute_reply": "2022-01-31T04:44:05.065128Z",
     "shell.execute_reply.started": "2022-01-31T02:38:11.184204Z"
    },
    "papermill": {
     "duration": 0.053997,
     "end_time": "2022-01-31T04:44:05.065274",
     "exception": false,
     "start_time": "2022-01-31T04:44:05.011277",
     "status": "completed"
    },
    "tags": []
   },
   "outputs": [],
   "source": [
    "def upper_shadow(df):\n",
    "    return df['High'] - np.maximum(df['Close'], df['Open'])\n",
    "\n",
    "def lower_shadow(df):\n",
    "    return np.minimum(df['Close'], df['Open']) - df['Low']\n",
    "\n",
    "def log_return(series, periods=1):\n",
    "    return np.log(series).diff(periods=periods)\n",
    "\n",
    "def totimestamp(ts):\n",
    "    return np.int32(time.mktime(datetime.strptime(ts, \"%d/%m/%Y\").timetuple()))"
   ]
  },
  {
   "cell_type": "code",
   "execution_count": 7,
   "id": "68336e95",
   "metadata": {
    "execution": {
     "iopub.execute_input": "2022-01-31T04:44:05.161911Z",
     "iopub.status.busy": "2022-01-31T04:44:05.161038Z",
     "iopub.status.idle": "2022-01-31T04:44:05.165077Z",
     "shell.execute_reply": "2022-01-31T04:44:05.165533Z",
     "shell.execute_reply.started": "2022-01-31T02:38:11.196823Z"
    },
    "papermill": {
     "duration": 0.053907,
     "end_time": "2022-01-31T04:44:05.165700",
     "exception": false,
     "start_time": "2022-01-31T04:44:05.111793",
     "status": "completed"
    },
    "tags": []
   },
   "outputs": [],
   "source": [
    "def get_features(df):\n",
    "    df_feat = df[['VWAP', 'Open', 'High', 'Low', 'Close']].copy()\n",
    "    df_feat['Upper_Shadow'] = upper_shadow(df_feat)\n",
    "    df_feat['Lower_Shadow'] = lower_shadow(df_feat)\n",
    "#     df_feat['Log_Return_5min'] = log_return(df_feat['VWAP'], periods=5)\n",
    "#     df_feat['Log_Return_1min_abs'] = log_return(df_feat['VWAP'], periods=1).abs()\n",
    "    \n",
    "    return df_feat"
   ]
  },
  {
   "cell_type": "code",
   "execution_count": 8,
   "id": "0d78cd37",
   "metadata": {
    "execution": {
     "iopub.execute_input": "2022-01-31T04:44:05.260726Z",
     "iopub.status.busy": "2022-01-31T04:44:05.260180Z",
     "iopub.status.idle": "2022-01-31T04:44:05.263398Z",
     "shell.execute_reply": "2022-01-31T04:44:05.263892Z",
     "shell.execute_reply.started": "2022-01-31T02:38:11.216515Z"
    },
    "papermill": {
     "duration": 0.05225,
     "end_time": "2022-01-31T04:44:05.264044",
     "exception": false,
     "start_time": "2022-01-31T04:44:05.211794",
     "status": "completed"
    },
    "tags": []
   },
   "outputs": [],
   "source": [
    "def fill_time_gap(df):\n",
    "    return df.reindex(range(df.index[0], df.index[-1]+60, 60), method='ffill')"
   ]
  },
  {
   "cell_type": "code",
   "execution_count": 9,
   "id": "2cde5e90",
   "metadata": {
    "execution": {
     "iopub.execute_input": "2022-01-31T04:44:05.358862Z",
     "iopub.status.busy": "2022-01-31T04:44:05.358322Z",
     "iopub.status.idle": "2022-01-31T04:44:05.362140Z",
     "shell.execute_reply": "2022-01-31T04:44:05.362648Z",
     "shell.execute_reply.started": "2022-01-31T02:38:11.230584Z"
    },
    "papermill": {
     "duration": 0.052647,
     "end_time": "2022-01-31T04:44:05.362792",
     "exception": false,
     "start_time": "2022-01-31T04:44:05.310145",
     "status": "completed"
    },
    "tags": []
   },
   "outputs": [],
   "source": [
    "# mini modeling\n",
    "\n",
    "train_window = [totimestamp(\"01/05/2021\"), totimestamp(\"30/05/2021\")]\n",
    "test_window = [totimestamp(\"01/06/2021\"), totimestamp(\"30/06/2021\")]"
   ]
  },
  {
   "cell_type": "code",
   "execution_count": 10,
   "id": "e80cdfe1",
   "metadata": {
    "execution": {
     "iopub.execute_input": "2022-01-31T04:44:05.458598Z",
     "iopub.status.busy": "2022-01-31T04:44:05.457999Z",
     "iopub.status.idle": "2022-01-31T04:44:06.069664Z",
     "shell.execute_reply": "2022-01-31T04:44:06.069143Z",
     "shell.execute_reply.started": "2022-01-31T02:38:11.247597Z"
    },
    "papermill": {
     "duration": 0.660278,
     "end_time": "2022-01-31T04:44:06.069812",
     "exception": false,
     "start_time": "2022-01-31T04:44:05.409534",
     "status": "completed"
    },
    "tags": []
   },
   "outputs": [],
   "source": [
    "btc = df_train[df_train[\"Asset_ID\"]==1].copy().set_index(\"timestamp\")\n",
    "eth = df_train[df_train[\"Asset_ID\"]==6].copy().set_index(\"timestamp\")"
   ]
  },
  {
   "cell_type": "code",
   "execution_count": 11,
   "id": "a808ff93",
   "metadata": {
    "execution": {
     "iopub.execute_input": "2022-01-31T04:44:06.170427Z",
     "iopub.status.busy": "2022-01-31T04:44:06.169840Z",
     "iopub.status.idle": "2022-01-31T04:44:06.217555Z",
     "shell.execute_reply": "2022-01-31T04:44:06.217985Z",
     "shell.execute_reply.started": "2022-01-31T02:38:12.188076Z"
    },
    "papermill": {
     "duration": 0.101582,
     "end_time": "2022-01-31T04:44:06.218153",
     "exception": false,
     "start_time": "2022-01-31T04:44:06.116571",
     "status": "completed"
    },
    "tags": []
   },
   "outputs": [
    {
     "name": "stdout",
     "output_type": "stream",
     "text": [
      "<class 'pandas.core.frame.DataFrame'>\n",
      "Int64Index: 1956282 entries, 1514764860 to 1632182400\n",
      "Data columns (total 9 columns):\n",
      " #   Column    Non-Null Count    Dtype  \n",
      "---  ------    --------------    -----  \n",
      " 0   Asset_ID  1956282 non-null  int64  \n",
      " 1   Count     1956282 non-null  float64\n",
      " 2   Open      1956282 non-null  float64\n",
      " 3   High      1956282 non-null  float64\n",
      " 4   Low       1956282 non-null  float64\n",
      " 5   Close     1956282 non-null  float64\n",
      " 6   Volume    1956282 non-null  float64\n",
      " 7   VWAP      1956282 non-null  float64\n",
      " 8   Target    1955978 non-null  float64\n",
      "dtypes: float64(8), int64(1)\n",
      "memory usage: 149.3 MB\n"
     ]
    }
   ],
   "source": [
    "btc.info(show_counts = True)"
   ]
  },
  {
   "cell_type": "code",
   "execution_count": 12,
   "id": "3bea7f20",
   "metadata": {
    "execution": {
     "iopub.execute_input": "2022-01-31T04:44:06.313778Z",
     "iopub.status.busy": "2022-01-31T04:44:06.313234Z",
     "iopub.status.idle": "2022-01-31T04:44:06.358370Z",
     "shell.execute_reply": "2022-01-31T04:44:06.358868Z",
     "shell.execute_reply.started": "2022-01-31T02:38:12.242014Z"
    },
    "papermill": {
     "duration": 0.094172,
     "end_time": "2022-01-31T04:44:06.359049",
     "exception": false,
     "start_time": "2022-01-31T04:44:06.264877",
     "status": "completed"
    },
    "tags": []
   },
   "outputs": [
    {
     "name": "stdout",
     "output_type": "stream",
     "text": [
      "<class 'pandas.core.frame.DataFrame'>\n",
      "Int64Index: 1956200 entries, 1514764860 to 1632182400\n",
      "Data columns (total 9 columns):\n",
      " #   Column    Non-Null Count    Dtype  \n",
      "---  ------    --------------    -----  \n",
      " 0   Asset_ID  1956200 non-null  int64  \n",
      " 1   Count     1956200 non-null  float64\n",
      " 2   Open      1956200 non-null  float64\n",
      " 3   High      1956200 non-null  float64\n",
      " 4   Low       1956200 non-null  float64\n",
      " 5   Close     1956200 non-null  float64\n",
      " 6   Volume    1956200 non-null  float64\n",
      " 7   VWAP      1956200 non-null  float64\n",
      " 8   Target    1955860 non-null  float64\n",
      "dtypes: float64(8), int64(1)\n",
      "memory usage: 149.2 MB\n"
     ]
    }
   ],
   "source": [
    "eth.info(show_counts = True)"
   ]
  },
  {
   "cell_type": "code",
   "execution_count": 13,
   "id": "b5d9d872",
   "metadata": {
    "execution": {
     "iopub.execute_input": "2022-01-31T04:44:06.457998Z",
     "iopub.status.busy": "2022-01-31T04:44:06.457369Z",
     "iopub.status.idle": "2022-01-31T04:44:06.555556Z",
     "shell.execute_reply": "2022-01-31T04:44:06.554985Z",
     "shell.execute_reply.started": "2022-01-31T02:38:12.295287Z"
    },
    "papermill": {
     "duration": 0.149224,
     "end_time": "2022-01-31T04:44:06.555704",
     "exception": false,
     "start_time": "2022-01-31T04:44:06.406480",
     "status": "completed"
    },
    "tags": []
   },
   "outputs": [],
   "source": [
    "# slice the dataframes for mini modeling\n",
    "\n",
    "btc_mini = btc.copy().loc[train_window[0]:test_window[1]]\n",
    "eth_mini = eth.copy().loc[train_window[0]:test_window[1]]"
   ]
  },
  {
   "cell_type": "code",
   "execution_count": 14,
   "id": "ad411c28",
   "metadata": {
    "execution": {
     "iopub.execute_input": "2022-01-31T04:44:06.652945Z",
     "iopub.status.busy": "2022-01-31T04:44:06.652069Z",
     "iopub.status.idle": "2022-01-31T04:44:06.670144Z",
     "shell.execute_reply": "2022-01-31T04:44:06.670561Z",
     "shell.execute_reply.started": "2022-01-31T02:38:12.445497Z"
    },
    "papermill": {
     "duration": 0.068671,
     "end_time": "2022-01-31T04:44:06.670747",
     "exception": false,
     "start_time": "2022-01-31T04:44:06.602076",
     "status": "completed"
    },
    "tags": []
   },
   "outputs": [
    {
     "name": "stdout",
     "output_type": "stream",
     "text": [
      "<class 'pandas.core.frame.DataFrame'>\n",
      "Int64Index: 86399 entries, 1619827260 to 1625011200\n",
      "Data columns (total 9 columns):\n",
      " #   Column    Non-Null Count  Dtype  \n",
      "---  ------    --------------  -----  \n",
      " 0   Asset_ID  86399 non-null  int64  \n",
      " 1   Count     86399 non-null  float64\n",
      " 2   Open      86399 non-null  float64\n",
      " 3   High      86399 non-null  float64\n",
      " 4   Low       86399 non-null  float64\n",
      " 5   Close     86399 non-null  float64\n",
      " 6   Volume    86399 non-null  float64\n",
      " 7   VWAP      86399 non-null  float64\n",
      " 8   Target    86399 non-null  float64\n",
      "dtypes: float64(8), int64(1)\n",
      "memory usage: 6.6 MB\n",
      "start timestamp: 2021-05-01 00:01:00; end timestamp: 2021-06-30 00:00:00\n",
      "start timestamp: 2021-05-01 00:01:00+00:00; end timestamp: 2021-06-30 00:00:00+00:00\n",
      "start timestamp: 2021-05-01T00:01:00; end timestamp: 2021-06-30T00:00:00\n"
     ]
    }
   ],
   "source": [
    "btc_mini.info(show_counts = True)\n",
    "\n",
    "print(\"start timestamp: {}; end timestamp: {}\".format(pd.to_datetime(btc_mini.index[0], unit='s'),\n",
    "                                                      pd.to_datetime(btc_mini.index[-1], unit='s')))\n",
    "\n",
    "print(\"start timestamp: {}; end timestamp: {}\".format(pd.to_datetime(btc_mini.index[0], unit='s', utc=True),\n",
    "                                                      pd.to_datetime(btc_mini.index[-1], unit='s', utc=True)))\n",
    "\n",
    "print(\"start timestamp: {}; end timestamp: {}\".format(btc_mini.index[0].astype('datetime64[s]'),\n",
    "                                                      btc_mini.index[-1].astype('datetime64[s]')))"
   ]
  },
  {
   "cell_type": "code",
   "execution_count": 15,
   "id": "16f20a5e",
   "metadata": {
    "execution": {
     "iopub.execute_input": "2022-01-31T04:44:06.768094Z",
     "iopub.status.busy": "2022-01-31T04:44:06.767517Z",
     "iopub.status.idle": "2022-01-31T04:44:06.780413Z",
     "shell.execute_reply": "2022-01-31T04:44:06.780836Z",
     "shell.execute_reply.started": "2022-01-31T02:38:12.510756Z"
    },
    "papermill": {
     "duration": 0.063461,
     "end_time": "2022-01-31T04:44:06.780998",
     "exception": false,
     "start_time": "2022-01-31T04:44:06.717537",
     "status": "completed"
    },
    "tags": []
   },
   "outputs": [
    {
     "name": "stdout",
     "output_type": "stream",
     "text": [
      "<class 'pandas.core.frame.DataFrame'>\n",
      "Int64Index: 86396 entries, 1619827260 to 1625011200\n",
      "Data columns (total 9 columns):\n",
      " #   Column    Non-Null Count  Dtype  \n",
      "---  ------    --------------  -----  \n",
      " 0   Asset_ID  86396 non-null  int64  \n",
      " 1   Count     86396 non-null  float64\n",
      " 2   Open      86396 non-null  float64\n",
      " 3   High      86396 non-null  float64\n",
      " 4   Low       86396 non-null  float64\n",
      " 5   Close     86396 non-null  float64\n",
      " 6   Volume    86396 non-null  float64\n",
      " 7   VWAP      86396 non-null  float64\n",
      " 8   Target    86392 non-null  float64\n",
      "dtypes: float64(8), int64(1)\n",
      "memory usage: 6.6 MB\n",
      "start timestamp: 2021-05-01T00:01:00; end timestamp: 2021-06-30T00:00:00\n"
     ]
    }
   ],
   "source": [
    "eth_mini.info(show_counts = True)\n",
    "\n",
    "print(\"start timestamp: {}; end timestamp: {}\".format(eth_mini.index[0].astype('datetime64[s]'),\n",
    "                                                      eth_mini.index[-1].astype('datetime64[s]')))"
   ]
  },
  {
   "cell_type": "code",
   "execution_count": 16,
   "id": "80308253",
   "metadata": {
    "execution": {
     "iopub.execute_input": "2022-01-31T04:44:06.880356Z",
     "iopub.status.busy": "2022-01-31T04:44:06.879728Z",
     "iopub.status.idle": "2022-01-31T04:44:06.897618Z",
     "shell.execute_reply": "2022-01-31T04:44:06.897107Z",
     "shell.execute_reply.started": "2022-01-31T02:38:12.535988Z"
    },
    "papermill": {
     "duration": 0.069269,
     "end_time": "2022-01-31T04:44:06.897755",
     "exception": false,
     "start_time": "2022-01-31T04:44:06.828486",
     "status": "completed"
    },
    "tags": []
   },
   "outputs": [],
   "source": [
    "# fill up missing timestamps\n",
    "\n",
    "btc_mini = fill_time_gap(btc_mini)\n",
    "eth_mini = fill_time_gap(eth_mini)\n"
   ]
  },
  {
   "cell_type": "code",
   "execution_count": 17,
   "id": "6169dbf2",
   "metadata": {
    "execution": {
     "iopub.execute_input": "2022-01-31T04:44:06.998932Z",
     "iopub.status.busy": "2022-01-31T04:44:06.998267Z",
     "iopub.status.idle": "2022-01-31T04:44:07.009467Z",
     "shell.execute_reply": "2022-01-31T04:44:07.008858Z",
     "shell.execute_reply.started": "2022-01-31T02:38:12.565397Z"
    },
    "papermill": {
     "duration": 0.063944,
     "end_time": "2022-01-31T04:44:07.009598",
     "exception": false,
     "start_time": "2022-01-31T04:44:06.945654",
     "status": "completed"
    },
    "tags": []
   },
   "outputs": [
    {
     "name": "stdout",
     "output_type": "stream",
     "text": [
      "<class 'pandas.core.frame.DataFrame'>\n",
      "RangeIndex: 86400 entries, 1619827260 to 1625011200\n",
      "Data columns (total 9 columns):\n",
      " #   Column    Non-Null Count  Dtype  \n",
      "---  ------    --------------  -----  \n",
      " 0   Asset_ID  86400 non-null  int64  \n",
      " 1   Count     86400 non-null  float64\n",
      " 2   Open      86400 non-null  float64\n",
      " 3   High      86400 non-null  float64\n",
      " 4   Low       86400 non-null  float64\n",
      " 5   Close     86400 non-null  float64\n",
      " 6   Volume    86400 non-null  float64\n",
      " 7   VWAP      86400 non-null  float64\n",
      " 8   Target    86400 non-null  float64\n",
      "dtypes: float64(8), int64(1)\n",
      "memory usage: 5.9 MB\n"
     ]
    }
   ],
   "source": [
    "btc_mini.info(show_counts = True)"
   ]
  },
  {
   "cell_type": "code",
   "execution_count": 18,
   "id": "567c7c74",
   "metadata": {
    "execution": {
     "iopub.execute_input": "2022-01-31T04:44:07.109980Z",
     "iopub.status.busy": "2022-01-31T04:44:07.109086Z",
     "iopub.status.idle": "2022-01-31T04:44:07.122471Z",
     "shell.execute_reply": "2022-01-31T04:44:07.121969Z",
     "shell.execute_reply.started": "2022-01-31T02:38:12.584368Z"
    },
    "papermill": {
     "duration": 0.065086,
     "end_time": "2022-01-31T04:44:07.122637",
     "exception": false,
     "start_time": "2022-01-31T04:44:07.057551",
     "status": "completed"
    },
    "tags": []
   },
   "outputs": [
    {
     "name": "stdout",
     "output_type": "stream",
     "text": [
      "<class 'pandas.core.frame.DataFrame'>\n",
      "RangeIndex: 86400 entries, 1619827260 to 1625011200\n",
      "Data columns (total 9 columns):\n",
      " #   Column    Non-Null Count  Dtype  \n",
      "---  ------    --------------  -----  \n",
      " 0   Asset_ID  86400 non-null  int64  \n",
      " 1   Count     86400 non-null  float64\n",
      " 2   Open      86400 non-null  float64\n",
      " 3   High      86400 non-null  float64\n",
      " 4   Low       86400 non-null  float64\n",
      " 5   Close     86400 non-null  float64\n",
      " 6   Volume    86400 non-null  float64\n",
      " 7   VWAP      86400 non-null  float64\n",
      " 8   Target    86393 non-null  float64\n",
      "dtypes: float64(8), int64(1)\n",
      "memory usage: 5.9 MB\n"
     ]
    }
   ],
   "source": [
    "eth_mini.info(show_counts = True)"
   ]
  },
  {
   "cell_type": "code",
   "execution_count": 19,
   "id": "f73ea949",
   "metadata": {
    "execution": {
     "iopub.execute_input": "2022-01-31T04:44:07.222327Z",
     "iopub.status.busy": "2022-01-31T04:44:07.221746Z",
     "iopub.status.idle": "2022-01-31T04:44:07.223161Z",
     "shell.execute_reply": "2022-01-31T04:44:07.223705Z",
     "shell.execute_reply.started": "2022-01-31T02:38:12.602073Z"
    },
    "papermill": {
     "duration": 0.05361,
     "end_time": "2022-01-31T04:44:07.223854",
     "exception": false,
     "start_time": "2022-01-31T04:44:07.170244",
     "status": "completed"
    },
    "tags": []
   },
   "outputs": [],
   "source": [
    "# # train-test split\n",
    "\n",
    "# X_btc_train = get_features(\n",
    "#     btc_mini.loc[train_window[0]:train_window[1]]\n",
    "# ).fillna(0).to_numpy()\n",
    "# y_btc_train = btc_mini['Target'].loc[train_window[0]:train_window[1]].fillna(0).to_numpy()\n",
    "\n",
    "# X_eth_train = get_features(\n",
    "#     eth_mini.loc[train_window[0]:train_window[1]]\n",
    "# ).fillna(0).to_numpy()\n",
    "# y_eth_train = eth_mini['Target'].loc[train_window[0]:train_window[1]].fillna(0).to_numpy()\n",
    "\n",
    "# X_btc_test = get_features(\n",
    "#     btc_mini.loc[test_window[0]:test_window[1]]\n",
    "# ).fillna(0).to_numpy()\n",
    "# y_btc_test = btc_mini['Target'].loc[test_window[0]:test_window[1]].fillna(0).to_numpy()\n",
    "\n",
    "# X_eth_test = get_features(\n",
    "#     eth_mini.loc[test_window[0]:test_window[1]]\n",
    "# ).fillna(0).to_numpy()\n",
    "# y_eth_train = eth_mini['Target'].loc[test_window[0]:test_window[1]].fillna(0).to_numpy()\n"
   ]
  },
  {
   "cell_type": "markdown",
   "id": "08723649",
   "metadata": {
    "papermill": {
     "duration": 0.04741,
     "end_time": "2022-01-31T04:44:07.318648",
     "exception": false,
     "start_time": "2022-01-31T04:44:07.271238",
     "status": "completed"
    },
    "tags": []
   },
   "source": [
    "Comment: Here I just fill with 0 now, but it's probably not a good method.\n",
    "\n",
    "Reference: [Imputing the Time-Series Using Python](https://drnesr.medium.com/filling-gaps-of-a-time-series-using-python-d4bfddd8c460#:~:text=To%20apply%20machine%20learning%20models,or%20filled%20with%20appropriate%20values.&text=However%2C%20this%20is%20not%20applicable%20in%20the%20time%20series.)"
   ]
  },
  {
   "cell_type": "code",
   "execution_count": 20,
   "id": "b00bfd4c",
   "metadata": {
    "execution": {
     "iopub.execute_input": "2022-01-31T04:44:07.416597Z",
     "iopub.status.busy": "2022-01-31T04:44:07.416001Z",
     "iopub.status.idle": "2022-01-31T04:44:07.448445Z",
     "shell.execute_reply": "2022-01-31T04:44:07.448920Z",
     "shell.execute_reply.started": "2022-01-31T02:38:12.611067Z"
    },
    "papermill": {
     "duration": 0.083326,
     "end_time": "2022-01-31T04:44:07.449092",
     "exception": false,
     "start_time": "2022-01-31T04:44:07.365766",
     "status": "completed"
    },
    "tags": []
   },
   "outputs": [],
   "source": [
    "# train-test split\n",
    "\n",
    "X_btc_train = get_features(\n",
    "    btc_mini.loc[train_window[0]:train_window[1]]\n",
    ").fillna(0)\n",
    "y_btc_train = btc_mini['Target'].copy().loc[train_window[0]:train_window[1]].fillna(0)\n",
    "\n",
    "X_btc_test = get_features(\n",
    "    btc_mini.loc[test_window[0]:test_window[1]]\n",
    ").fillna(0)\n",
    "y_btc_test = btc_mini['Target'].loc[test_window[0]:test_window[1]].fillna(0)\n",
    "\n",
    "\n",
    "X_eth_train = get_features(\n",
    "    eth_mini.loc[train_window[0]:train_window[1]]\n",
    ").fillna(0)\n",
    "y_eth_train = eth_mini['Target'].loc[train_window[0]:train_window[1]].fillna(0)\n",
    "\n",
    "X_eth_test = get_features(\n",
    "    eth_mini.loc[test_window[0]:test_window[1]]\n",
    ").fillna(0)\n",
    "y_eth_test = eth_mini['Target'].loc[test_window[0]:test_window[1]].fillna(0)\n"
   ]
  },
  {
   "cell_type": "code",
   "execution_count": 21,
   "id": "e365dbf3",
   "metadata": {
    "execution": {
     "iopub.execute_input": "2022-01-31T04:44:07.547856Z",
     "iopub.status.busy": "2022-01-31T04:44:07.547271Z",
     "iopub.status.idle": "2022-01-31T04:44:07.553164Z",
     "shell.execute_reply": "2022-01-31T04:44:07.552525Z",
     "shell.execute_reply.started": "2022-01-31T02:38:12.659543Z"
    },
    "papermill": {
     "duration": 0.056733,
     "end_time": "2022-01-31T04:44:07.553354",
     "exception": false,
     "start_time": "2022-01-31T04:44:07.496621",
     "status": "completed"
    },
    "tags": []
   },
   "outputs": [
    {
     "name": "stdout",
     "output_type": "stream",
     "text": [
      "(41760, 7)\n",
      "(41760,)\n",
      "(41761, 7)\n"
     ]
    }
   ],
   "source": [
    "print(X_btc_train.shape)\n",
    "print(y_btc_train.shape)\n",
    "print(X_btc_test.shape)"
   ]
  },
  {
   "cell_type": "code",
   "execution_count": 22,
   "id": "a1512ef2",
   "metadata": {
    "execution": {
     "iopub.execute_input": "2022-01-31T04:44:07.652244Z",
     "iopub.status.busy": "2022-01-31T04:44:07.651691Z",
     "iopub.status.idle": "2022-01-31T04:44:07.656061Z",
     "shell.execute_reply": "2022-01-31T04:44:07.656502Z",
     "shell.execute_reply.started": "2022-01-31T02:38:12.667921Z"
    },
    "papermill": {
     "duration": 0.054987,
     "end_time": "2022-01-31T04:44:07.656651",
     "exception": false,
     "start_time": "2022-01-31T04:44:07.601664",
     "status": "completed"
    },
    "tags": []
   },
   "outputs": [
    {
     "name": "stdout",
     "output_type": "stream",
     "text": [
      "(41760, 7)\n",
      "(41760,)\n",
      "(41761, 7)\n"
     ]
    }
   ],
   "source": [
    "print(X_eth_train.shape)\n",
    "print(y_eth_train.shape)\n",
    "print(X_eth_test.shape)"
   ]
  },
  {
   "cell_type": "code",
   "execution_count": 23,
   "id": "625adc0e",
   "metadata": {
    "execution": {
     "iopub.execute_input": "2022-01-31T04:44:07.756270Z",
     "iopub.status.busy": "2022-01-31T04:44:07.755682Z",
     "iopub.status.idle": "2022-01-31T04:44:07.760040Z",
     "shell.execute_reply": "2022-01-31T04:44:07.760498Z",
     "shell.execute_reply.started": "2022-01-31T02:38:12.683574Z"
    },
    "papermill": {
     "duration": 0.055633,
     "end_time": "2022-01-31T04:44:07.760655",
     "exception": false,
     "start_time": "2022-01-31T04:44:07.705022",
     "status": "completed"
    },
    "tags": []
   },
   "outputs": [],
   "source": [
    "# train-test split\n",
    "\n",
    "X_btc_train = X_btc_train.to_numpy()\n",
    "y_btc_train = y_btc_train.to_numpy()\n",
    "\n",
    "X_btc_test = X_btc_test.to_numpy()\n",
    "y_btc_test = y_btc_test.to_numpy()\n",
    "\n",
    "\n",
    "X_eth_train = X_eth_train.to_numpy()\n",
    "y_eth_train = y_eth_train.to_numpy()\n",
    "\n",
    "X_eth_test = X_eth_test.to_numpy()\n",
    "y_eth_test = y_eth_test.to_numpy()\n"
   ]
  },
  {
   "cell_type": "code",
   "execution_count": 24,
   "id": "2f19af06",
   "metadata": {
    "execution": {
     "iopub.execute_input": "2022-01-31T04:44:07.861505Z",
     "iopub.status.busy": "2022-01-31T04:44:07.860886Z",
     "iopub.status.idle": "2022-01-31T04:44:08.717963Z",
     "shell.execute_reply": "2022-01-31T04:44:08.717438Z",
     "shell.execute_reply.started": "2022-01-31T02:38:12.697189Z"
    },
    "papermill": {
     "duration": 0.909415,
     "end_time": "2022-01-31T04:44:08.718095",
     "exception": false,
     "start_time": "2022-01-31T04:44:07.808680",
     "status": "completed"
    },
    "tags": []
   },
   "outputs": [],
   "source": [
    "from sklearn.preprocessing import StandardScaler\n",
    "\n",
    "standard_scaler = StandardScaler()\n",
    "\n",
    "X_btc_train = standard_scaler.fit_transform(X_btc_train)\n",
    "X_btc_test = standard_scaler.fit_transform(X_btc_test)\n",
    "\n",
    "X_eth_train = standard_scaler.fit_transform(X_eth_train)\n",
    "X_eth_test = standard_scaler.fit_transform(X_eth_test)\n",
    "\n",
    "# note that it's not easy to describe each column's statistics since the object is array"
   ]
  },
  {
   "cell_type": "code",
   "execution_count": 25,
   "id": "f6cc7908",
   "metadata": {
    "execution": {
     "iopub.execute_input": "2022-01-31T04:44:08.817790Z",
     "iopub.status.busy": "2022-01-31T04:44:08.817213Z",
     "iopub.status.idle": "2022-01-31T04:44:08.960341Z",
     "shell.execute_reply": "2022-01-31T04:44:08.961141Z",
     "shell.execute_reply.started": "2022-01-31T02:38:13.422919Z"
    },
    "papermill": {
     "duration": 0.195598,
     "end_time": "2022-01-31T04:44:08.961435",
     "exception": false,
     "start_time": "2022-01-31T04:44:08.765837",
     "status": "completed"
    },
    "tags": []
   },
   "outputs": [],
   "source": [
    "from sklearn.linear_model import LinearRegression\n",
    "\n",
    "lr = LinearRegression()\n",
    "\n",
    "lr.fit(X_btc_train, y_btc_train)\n",
    "y_btc_pred = lr.predict(X_btc_test)\n",
    "\n",
    "lr.fit(X_eth_train, y_eth_train)\n",
    "y_eth_pred = lr.predict(X_eth_test)"
   ]
  },
  {
   "cell_type": "code",
   "execution_count": 26,
   "id": "7050a1aa",
   "metadata": {
    "execution": {
     "iopub.execute_input": "2022-01-31T04:44:09.121570Z",
     "iopub.status.busy": "2022-01-31T04:44:09.120991Z",
     "iopub.status.idle": "2022-01-31T04:44:09.127090Z",
     "shell.execute_reply": "2022-01-31T04:44:09.126429Z",
     "shell.execute_reply.started": "2022-01-31T02:38:13.539169Z"
    },
    "papermill": {
     "duration": 0.068874,
     "end_time": "2022-01-31T04:44:09.127256",
     "exception": false,
     "start_time": "2022-01-31T04:44:09.058382",
     "status": "completed"
    },
    "tags": []
   },
   "outputs": [
    {
     "name": "stdout",
     "output_type": "stream",
     "text": [
      "Test score for Linear Regression - BTC: 0.0024\n",
      "Test score for Linear Regression - ETH: 0.0194\n"
     ]
    }
   ],
   "source": [
    "# evaluation\n",
    "\n",
    "score_btc = np.corrcoef(y_btc_pred, y_btc_test)[0,1]\n",
    "score_eth = np.corrcoef(y_eth_pred, y_eth_test)[0,1]\n",
    "\n",
    "print(\"Test score for Linear Regression - BTC: {:.4f}\".format(score_btc))\n",
    "print(\"Test score for Linear Regression - ETH: {:.4f}\".format(score_eth))"
   ]
  },
  {
   "cell_type": "markdown",
   "id": "c531dd4e",
   "metadata": {
    "papermill": {
     "duration": 0.048055,
     "end_time": "2022-01-31T04:44:09.224212",
     "exception": false,
     "start_time": "2022-01-31T04:44:09.176157",
     "status": "completed"
    },
    "tags": []
   },
   "source": [
    "# Pipeline"
   ]
  },
  {
   "cell_type": "code",
   "execution_count": 27,
   "id": "d30c2a30",
   "metadata": {
    "execution": {
     "iopub.execute_input": "2022-01-31T04:44:09.339780Z",
     "iopub.status.busy": "2022-01-31T04:44:09.339130Z",
     "iopub.status.idle": "2022-01-31T04:44:09.343067Z",
     "shell.execute_reply": "2022-01-31T04:44:09.343678Z",
     "shell.execute_reply.started": "2022-01-31T02:38:13.552850Z"
    },
    "papermill": {
     "duration": 0.069413,
     "end_time": "2022-01-31T04:44:09.343887",
     "exception": false,
     "start_time": "2022-01-31T04:44:09.274474",
     "status": "completed"
    },
    "tags": []
   },
   "outputs": [],
   "source": [
    "# wrap the training-data-only preprocessing steps into a single function\n",
    "# steps only applies to train set: fill up time gap \n",
    "# however, there is no point handling the time gap if I just fill all missing values with 0s"
   ]
  },
  {
   "cell_type": "markdown",
   "id": "ca6ffef0",
   "metadata": {
    "papermill": {
     "duration": 0.048182,
     "end_time": "2022-01-31T04:44:09.446472",
     "exception": false,
     "start_time": "2022-01-31T04:44:09.398290",
     "status": "completed"
    },
    "tags": []
   },
   "source": [
    "Reference: \n",
    "- [How to use sklearn fit_transform with pandas and return dataframe instead of numpy array?](https://stackoverflow.com/questions/35723472/how-to-use-sklearn-fit-transform-with-pandas-and-return-dataframe-instead-of-num)\n",
    "- [Build your first Machine Learning pipeline using scikit-learn!](https://www.analyticsvidhya.com/blog/2020/01/build-your-first-machine-learning-pipeline-using-scikit-learn/)\n",
    "- [Creating Custom Transformers Using Scikit-Learn](https://www.kaggle.com/ksvmuralidhar/creating-custom-transformers-using-scikit-learn)\n",
    "- [Pipelines & Custom Transformers in scikit-learn: The step-by-step guide (with Python code)](https://towardsdatascience.com/pipelines-custom-transformers-in-scikit-learn-the-step-by-step-guide-with-python-code-4a7d9b068156)\n",
    "- [ML Data Pipelines with Custom Transformers in Python](https://towardsdatascience.com/custom-transformers-and-ml-data-pipelines-with-python-20ea2a7adb65)"
   ]
  },
  {
   "cell_type": "code",
   "execution_count": 28,
   "id": "b083786e",
   "metadata": {
    "execution": {
     "iopub.execute_input": "2022-01-31T04:44:09.544883Z",
     "iopub.status.busy": "2022-01-31T04:44:09.544324Z",
     "iopub.status.idle": "2022-01-31T04:44:09.551484Z",
     "shell.execute_reply": "2022-01-31T04:44:09.551911Z",
     "shell.execute_reply.started": "2022-01-31T02:38:13.566928Z"
    },
    "papermill": {
     "duration": 0.057716,
     "end_time": "2022-01-31T04:44:09.552065",
     "exception": false,
     "start_time": "2022-01-31T04:44:09.494349",
     "status": "completed"
    },
    "tags": []
   },
   "outputs": [],
   "source": [
    "# customize class for feature transformation\n",
    "from sklearn.base import BaseEstimator, TransformerMixin\n",
    "\n",
    "class GetFeatureTransformer(BaseEstimator, TransformerMixin):\n",
    "    def __init__(self):\n",
    "        pass\n",
    "    \n",
    "    def fit(self, X, y=None):\n",
    "        return self\n",
    "    \n",
    "    def transform(self, X, y=None):\n",
    "        X_ = get_features(X)\n",
    "        return X_\n",
    "    \n",
    "class FillNaTransformer(BaseEstimator, TransformerMixin):\n",
    "    def __init__(self):\n",
    "        pass\n",
    "    \n",
    "    def fit(self, X, y=None):\n",
    "        return self\n",
    "    \n",
    "    def transform(self, X, y=None):\n",
    "        X_ = X.fillna(0.0001)  # prevent log() error  \n",
    "        X_ = X_.replace(0, 0.0001)  # prevent log() error\n",
    "        X_ = X_.replace((np.inf, -np.inf), 0.0001)  # handle infinite values in original dataset\n",
    "        return X_"
   ]
  },
  {
   "cell_type": "code",
   "execution_count": 29,
   "id": "a1f79f22",
   "metadata": {
    "execution": {
     "iopub.execute_input": "2022-01-31T04:44:09.652614Z",
     "iopub.status.busy": "2022-01-31T04:44:09.652068Z",
     "iopub.status.idle": "2022-01-31T04:44:09.656177Z",
     "shell.execute_reply": "2022-01-31T04:44:09.656715Z",
     "shell.execute_reply.started": "2022-01-31T02:38:13.583279Z"
    },
    "papermill": {
     "duration": 0.056887,
     "end_time": "2022-01-31T04:44:09.656859",
     "exception": false,
     "start_time": "2022-01-31T04:44:09.599972",
     "status": "completed"
    },
    "tags": []
   },
   "outputs": [],
   "source": [
    "# assamble the pipeline\n",
    "from sklearn.pipeline import Pipeline\n",
    "\n",
    "pipe_lr = Pipeline(steps=[\n",
    "    ('impute_r1', FillNaTransformer()),\n",
    "    ('get_feature', GetFeatureTransformer()),\n",
    "    ('impute_r2', FillNaTransformer()),\n",
    "    ('scale', StandardScaler()),\n",
    "    ('model', LinearRegression())\n",
    "])"
   ]
  },
  {
   "cell_type": "markdown",
   "id": "8902975b",
   "metadata": {
    "papermill": {
     "duration": 0.047679,
     "end_time": "2022-01-31T04:44:09.752419",
     "exception": false,
     "start_time": "2022-01-31T04:44:09.704740",
     "status": "completed"
    },
    "tags": []
   },
   "source": [
    "# Loop training"
   ]
  },
  {
   "cell_type": "code",
   "execution_count": 30,
   "id": "fbcf419e",
   "metadata": {
    "execution": {
     "iopub.execute_input": "2022-01-31T04:44:09.854190Z",
     "iopub.status.busy": "2022-01-31T04:44:09.853346Z",
     "iopub.status.idle": "2022-01-31T04:44:09.855923Z",
     "shell.execute_reply": "2022-01-31T04:44:09.855376Z",
     "shell.execute_reply.started": "2022-01-31T02:38:13.598545Z"
    },
    "papermill": {
     "duration": 0.055833,
     "end_time": "2022-01-31T04:44:09.856048",
     "exception": false,
     "start_time": "2022-01-31T04:44:09.800215",
     "status": "completed"
    },
    "tags": []
   },
   "outputs": [],
   "source": [
    "def get_asset_data(df_train, asset_id):\n",
    "    df_i = df_train[df_train['Asset_ID'] == asset_id].copy()\n",
    "#     df_i = fill_time_gap(df_i)\n",
    "    y = df_i['Target'].copy()\n",
    "    y = y.fillna(0)\n",
    "    X = df_i.drop('Target', axis=1)\n",
    "    \n",
    "    return X, y\n",
    "\n",
    "\n",
    "def get_corr(y_pred, y):\n",
    "    corr = np.corrcoef(y_pred, y)[0,1]\n",
    "    return corr"
   ]
  },
  {
   "cell_type": "markdown",
   "id": "3e141e49",
   "metadata": {
    "papermill": {
     "duration": 0.049506,
     "end_time": "2022-01-31T04:44:09.954417",
     "exception": false,
     "start_time": "2022-01-31T04:44:09.904911",
     "status": "completed"
    },
    "tags": []
   },
   "source": [
    "## Training - test on Maker\n",
    "Edge case with Inf values in the dataset"
   ]
  },
  {
   "cell_type": "code",
   "execution_count": 31,
   "id": "bdf4c3ca",
   "metadata": {
    "execution": {
     "iopub.execute_input": "2022-01-31T04:44:10.065642Z",
     "iopub.status.busy": "2022-01-31T04:44:10.064582Z",
     "iopub.status.idle": "2022-01-31T04:44:10.177974Z",
     "shell.execute_reply": "2022-01-31T04:44:10.178441Z",
     "shell.execute_reply.started": "2022-01-31T02:38:13.622418Z"
    },
    "papermill": {
     "duration": 0.175255,
     "end_time": "2022-01-31T04:44:10.178634",
     "exception": false,
     "start_time": "2022-01-31T04:44:10.003379",
     "status": "completed"
    },
    "tags": []
   },
   "outputs": [],
   "source": [
    "# use BTC to test interface\n",
    "# X_tt, y_tt = get_asset_data(df_train, 1)\n",
    "\n",
    "# troubleshooting Maker fitting\n",
    "X_tt, y_tt = get_asset_data(df_train, 10)"
   ]
  },
  {
   "cell_type": "code",
   "execution_count": 32,
   "id": "5f3f9f61",
   "metadata": {
    "execution": {
     "iopub.execute_input": "2022-01-31T04:44:10.278806Z",
     "iopub.status.busy": "2022-01-31T04:44:10.277815Z",
     "iopub.status.idle": "2022-01-31T04:44:10.290837Z",
     "shell.execute_reply": "2022-01-31T04:44:10.291214Z",
     "shell.execute_reply.started": "2022-01-31T02:38:13.783742Z"
    },
    "papermill": {
     "duration": 0.064309,
     "end_time": "2022-01-31T04:44:10.291387",
     "exception": false,
     "start_time": "2022-01-31T04:44:10.227078",
     "status": "completed"
    },
    "tags": []
   },
   "outputs": [
    {
     "data": {
      "text/html": [
       "<div>\n",
       "<style scoped>\n",
       "    .dataframe tbody tr th:only-of-type {\n",
       "        vertical-align: middle;\n",
       "    }\n",
       "\n",
       "    .dataframe tbody tr th {\n",
       "        vertical-align: top;\n",
       "    }\n",
       "\n",
       "    .dataframe thead th {\n",
       "        text-align: right;\n",
       "    }\n",
       "</style>\n",
       "<table border=\"1\" class=\"dataframe\">\n",
       "  <thead>\n",
       "    <tr style=\"text-align: right;\">\n",
       "      <th></th>\n",
       "      <th>timestamp</th>\n",
       "      <th>Asset_ID</th>\n",
       "      <th>Count</th>\n",
       "      <th>Open</th>\n",
       "      <th>High</th>\n",
       "      <th>Low</th>\n",
       "      <th>Close</th>\n",
       "      <th>Volume</th>\n",
       "      <th>VWAP</th>\n",
       "    </tr>\n",
       "  </thead>\n",
       "  <tbody>\n",
       "    <tr>\n",
       "      <th>1634867</th>\n",
       "      <td>1525965660</td>\n",
       "      <td>10</td>\n",
       "      <td>1.0</td>\n",
       "      <td>1182.0</td>\n",
       "      <td>1182.0</td>\n",
       "      <td>1182.0</td>\n",
       "      <td>1182.0</td>\n",
       "      <td>0.045492</td>\n",
       "      <td>1182.000000</td>\n",
       "    </tr>\n",
       "    <tr>\n",
       "      <th>1635142</th>\n",
       "      <td>1525967220</td>\n",
       "      <td>10</td>\n",
       "      <td>1.0</td>\n",
       "      <td>1496.0</td>\n",
       "      <td>1496.0</td>\n",
       "      <td>1496.0</td>\n",
       "      <td>1496.0</td>\n",
       "      <td>0.195000</td>\n",
       "      <td>1496.000000</td>\n",
       "    </tr>\n",
       "    <tr>\n",
       "      <th>1635229</th>\n",
       "      <td>1525967700</td>\n",
       "      <td>10</td>\n",
       "      <td>2.0</td>\n",
       "      <td>1496.0</td>\n",
       "      <td>1496.0</td>\n",
       "      <td>1496.0</td>\n",
       "      <td>1496.0</td>\n",
       "      <td>0.070000</td>\n",
       "      <td>1496.000000</td>\n",
       "    </tr>\n",
       "    <tr>\n",
       "      <th>1635389</th>\n",
       "      <td>1525968600</td>\n",
       "      <td>10</td>\n",
       "      <td>3.0</td>\n",
       "      <td>1100.2</td>\n",
       "      <td>1100.2</td>\n",
       "      <td>1090.7</td>\n",
       "      <td>1100.2</td>\n",
       "      <td>0.069860</td>\n",
       "      <td>1091.692637</td>\n",
       "    </tr>\n",
       "    <tr>\n",
       "      <th>1636138</th>\n",
       "      <td>1525972740</td>\n",
       "      <td>10</td>\n",
       "      <td>1.0</td>\n",
       "      <td>1488.0</td>\n",
       "      <td>1488.0</td>\n",
       "      <td>1488.0</td>\n",
       "      <td>1488.0</td>\n",
       "      <td>0.001000</td>\n",
       "      <td>1488.000000</td>\n",
       "    </tr>\n",
       "  </tbody>\n",
       "</table>\n",
       "</div>"
      ],
      "text/plain": [
       "          timestamp  Asset_ID  Count    Open    High     Low   Close  \\\n",
       "1634867  1525965660        10    1.0  1182.0  1182.0  1182.0  1182.0   \n",
       "1635142  1525967220        10    1.0  1496.0  1496.0  1496.0  1496.0   \n",
       "1635229  1525967700        10    2.0  1496.0  1496.0  1496.0  1496.0   \n",
       "1635389  1525968600        10    3.0  1100.2  1100.2  1090.7  1100.2   \n",
       "1636138  1525972740        10    1.0  1488.0  1488.0  1488.0  1488.0   \n",
       "\n",
       "           Volume         VWAP  \n",
       "1634867  0.045492  1182.000000  \n",
       "1635142  0.195000  1496.000000  \n",
       "1635229  0.070000  1496.000000  \n",
       "1635389  0.069860  1091.692637  \n",
       "1636138  0.001000  1488.000000  "
      ]
     },
     "execution_count": 32,
     "metadata": {},
     "output_type": "execute_result"
    }
   ],
   "source": [
    "X_tt.head()"
   ]
  },
  {
   "cell_type": "code",
   "execution_count": 33,
   "id": "07e5d3ca",
   "metadata": {
    "execution": {
     "iopub.execute_input": "2022-01-31T04:44:10.392475Z",
     "iopub.status.busy": "2022-01-31T04:44:10.391618Z",
     "iopub.status.idle": "2022-01-31T04:44:10.397576Z",
     "shell.execute_reply": "2022-01-31T04:44:10.398002Z",
     "shell.execute_reply.started": "2022-01-31T02:38:13.806667Z"
    },
    "papermill": {
     "duration": 0.057964,
     "end_time": "2022-01-31T04:44:10.398154",
     "exception": false,
     "start_time": "2022-01-31T04:44:10.340190",
     "status": "completed"
    },
    "tags": []
   },
   "outputs": [
    {
     "data": {
      "text/plain": [
       "1634867    0.0\n",
       "1635142    0.0\n",
       "1635229    0.0\n",
       "1635389    0.0\n",
       "1636138    0.0\n",
       "Name: Target, dtype: float64"
      ]
     },
     "execution_count": 33,
     "metadata": {},
     "output_type": "execute_result"
    }
   ],
   "source": [
    "y_tt.head()"
   ]
  },
  {
   "cell_type": "code",
   "execution_count": 34,
   "id": "2d1e8b49",
   "metadata": {
    "execution": {
     "iopub.execute_input": "2022-01-31T04:44:10.499099Z",
     "iopub.status.busy": "2022-01-31T04:44:10.498246Z",
     "iopub.status.idle": "2022-01-31T04:44:10.520723Z",
     "shell.execute_reply": "2022-01-31T04:44:10.520244Z",
     "shell.execute_reply.started": "2022-01-31T02:38:13.821395Z"
    },
    "papermill": {
     "duration": 0.073715,
     "end_time": "2022-01-31T04:44:10.520853",
     "exception": false,
     "start_time": "2022-01-31T04:44:10.447138",
     "status": "completed"
    },
    "tags": []
   },
   "outputs": [
    {
     "name": "stdout",
     "output_type": "stream",
     "text": [
      "<class 'pandas.core.frame.DataFrame'>\n",
      "Int64Index: 670497 entries, 1634867 to 24236802\n",
      "Data columns (total 9 columns):\n",
      " #   Column     Non-Null Count   Dtype  \n",
      "---  ------     --------------   -----  \n",
      " 0   timestamp  670497 non-null  int64  \n",
      " 1   Asset_ID   670497 non-null  int64  \n",
      " 2   Count      670497 non-null  float64\n",
      " 3   Open       670497 non-null  float64\n",
      " 4   High       670497 non-null  float64\n",
      " 5   Low        670497 non-null  float64\n",
      " 6   Close      670497 non-null  float64\n",
      " 7   Volume     670497 non-null  float64\n",
      " 8   VWAP       670488 non-null  float64\n",
      "dtypes: float64(7), int64(2)\n",
      "memory usage: 51.2 MB\n"
     ]
    }
   ],
   "source": [
    "X_tt.info(show_counts = True)\n",
    "# BTC: 403948 non-null\n",
    "# Maker: 376700 non-null\n",
    "# without the fill_time_gap() process, 670488 non-null"
   ]
  },
  {
   "cell_type": "code",
   "execution_count": 35,
   "id": "de5da237",
   "metadata": {
    "execution": {
     "iopub.execute_input": "2022-01-31T04:44:10.622727Z",
     "iopub.status.busy": "2022-01-31T04:44:10.622176Z",
     "iopub.status.idle": "2022-01-31T04:44:10.808283Z",
     "shell.execute_reply": "2022-01-31T04:44:10.807722Z",
     "shell.execute_reply.started": "2022-01-31T02:38:13.863419Z"
    },
    "papermill": {
     "duration": 0.23782,
     "end_time": "2022-01-31T04:44:10.808443",
     "exception": false,
     "start_time": "2022-01-31T04:44:10.570623",
     "status": "completed"
    },
    "tags": []
   },
   "outputs": [
    {
     "data": {
      "text/html": [
       "<div>\n",
       "<style scoped>\n",
       "    .dataframe tbody tr th:only-of-type {\n",
       "        vertical-align: middle;\n",
       "    }\n",
       "\n",
       "    .dataframe tbody tr th {\n",
       "        vertical-align: top;\n",
       "    }\n",
       "\n",
       "    .dataframe thead th {\n",
       "        text-align: right;\n",
       "    }\n",
       "</style>\n",
       "<table border=\"1\" class=\"dataframe\">\n",
       "  <thead>\n",
       "    <tr style=\"text-align: right;\">\n",
       "      <th></th>\n",
       "      <th>timestamp</th>\n",
       "      <th>Asset_ID</th>\n",
       "      <th>Count</th>\n",
       "      <th>Open</th>\n",
       "      <th>High</th>\n",
       "      <th>Low</th>\n",
       "      <th>Close</th>\n",
       "      <th>Volume</th>\n",
       "      <th>VWAP</th>\n",
       "    </tr>\n",
       "  </thead>\n",
       "  <tbody>\n",
       "    <tr>\n",
       "      <th>count</th>\n",
       "      <td>6.704970e+05</td>\n",
       "      <td>670497.0</td>\n",
       "      <td>670497.000000</td>\n",
       "      <td>670497.000000</td>\n",
       "      <td>670497.000000</td>\n",
       "      <td>670497.000000</td>\n",
       "      <td>670497.000000</td>\n",
       "      <td>670497.000000</td>\n",
       "      <td>6.704880e+05</td>\n",
       "    </tr>\n",
       "    <tr>\n",
       "      <th>mean</th>\n",
       "      <td>1.611197e+09</td>\n",
       "      <td>10.0</td>\n",
       "      <td>49.941090</td>\n",
       "      <td>1820.200936</td>\n",
       "      <td>1823.634975</td>\n",
       "      <td>1817.007973</td>\n",
       "      <td>1820.190846</td>\n",
       "      <td>8.235375</td>\n",
       "      <td>NaN</td>\n",
       "    </tr>\n",
       "    <tr>\n",
       "      <th>std</th>\n",
       "      <td>1.404353e+07</td>\n",
       "      <td>0.0</td>\n",
       "      <td>106.711867</td>\n",
       "      <td>1347.895142</td>\n",
       "      <td>1351.104027</td>\n",
       "      <td>1345.147613</td>\n",
       "      <td>1347.878172</td>\n",
       "      <td>20.960418</td>\n",
       "      <td>NaN</td>\n",
       "    </tr>\n",
       "    <tr>\n",
       "      <th>min</th>\n",
       "      <td>1.525966e+09</td>\n",
       "      <td>10.0</td>\n",
       "      <td>1.000000</td>\n",
       "      <td>166.500000</td>\n",
       "      <td>166.500000</td>\n",
       "      <td>42.000000</td>\n",
       "      <td>166.500000</td>\n",
       "      <td>-0.366281</td>\n",
       "      <td>-inf</td>\n",
       "    </tr>\n",
       "    <tr>\n",
       "      <th>25%</th>\n",
       "      <td>1.601981e+09</td>\n",
       "      <td>10.0</td>\n",
       "      <td>10.000000</td>\n",
       "      <td>548.531600</td>\n",
       "      <td>549.360000</td>\n",
       "      <td>547.570000</td>\n",
       "      <td>548.536200</td>\n",
       "      <td>0.716103</td>\n",
       "      <td>5.485552e+02</td>\n",
       "    </tr>\n",
       "    <tr>\n",
       "      <th>50%</th>\n",
       "      <td>1.612039e+09</td>\n",
       "      <td>10.0</td>\n",
       "      <td>21.000000</td>\n",
       "      <td>1544.528667</td>\n",
       "      <td>1549.440000</td>\n",
       "      <td>1540.530000</td>\n",
       "      <td>1544.512667</td>\n",
       "      <td>2.495282</td>\n",
       "      <td>1.544957e+03</td>\n",
       "    </tr>\n",
       "    <tr>\n",
       "      <th>75%</th>\n",
       "      <td>1.622097e+09</td>\n",
       "      <td>10.0</td>\n",
       "      <td>50.000000</td>\n",
       "      <td>2790.545600</td>\n",
       "      <td>2793.898300</td>\n",
       "      <td>2787.000000</td>\n",
       "      <td>2790.534025</td>\n",
       "      <td>7.470480</td>\n",
       "      <td>2.790477e+03</td>\n",
       "    </tr>\n",
       "    <tr>\n",
       "      <th>max</th>\n",
       "      <td>1.632182e+09</td>\n",
       "      <td>10.0</td>\n",
       "      <td>8885.000000</td>\n",
       "      <td>6337.542817</td>\n",
       "      <td>10000.000000</td>\n",
       "      <td>6308.590000</td>\n",
       "      <td>6342.712780</td>\n",
       "      <td>1618.904780</td>\n",
       "      <td>inf</td>\n",
       "    </tr>\n",
       "  </tbody>\n",
       "</table>\n",
       "</div>"
      ],
      "text/plain": [
       "          timestamp  Asset_ID          Count           Open           High  \\\n",
       "count  6.704970e+05  670497.0  670497.000000  670497.000000  670497.000000   \n",
       "mean   1.611197e+09      10.0      49.941090    1820.200936    1823.634975   \n",
       "std    1.404353e+07       0.0     106.711867    1347.895142    1351.104027   \n",
       "min    1.525966e+09      10.0       1.000000     166.500000     166.500000   \n",
       "25%    1.601981e+09      10.0      10.000000     548.531600     549.360000   \n",
       "50%    1.612039e+09      10.0      21.000000    1544.528667    1549.440000   \n",
       "75%    1.622097e+09      10.0      50.000000    2790.545600    2793.898300   \n",
       "max    1.632182e+09      10.0    8885.000000    6337.542817   10000.000000   \n",
       "\n",
       "                 Low          Close         Volume          VWAP  \n",
       "count  670497.000000  670497.000000  670497.000000  6.704880e+05  \n",
       "mean     1817.007973    1820.190846       8.235375           NaN  \n",
       "std      1345.147613    1347.878172      20.960418           NaN  \n",
       "min        42.000000     166.500000      -0.366281          -inf  \n",
       "25%       547.570000     548.536200       0.716103  5.485552e+02  \n",
       "50%      1540.530000    1544.512667       2.495282  1.544957e+03  \n",
       "75%      2787.000000    2790.534025       7.470480  2.790477e+03  \n",
       "max      6308.590000    6342.712780    1618.904780           inf  "
      ]
     },
     "execution_count": 35,
     "metadata": {},
     "output_type": "execute_result"
    }
   ],
   "source": [
    "X_tt.describe()"
   ]
  },
  {
   "cell_type": "code",
   "execution_count": 36,
   "id": "124aea2d",
   "metadata": {
    "execution": {
     "iopub.execute_input": "2022-01-31T04:44:10.913803Z",
     "iopub.status.busy": "2022-01-31T04:44:10.912941Z",
     "iopub.status.idle": "2022-01-31T04:44:10.918497Z",
     "shell.execute_reply": "2022-01-31T04:44:10.917781Z",
     "shell.execute_reply.started": "2022-01-31T02:38:14.105896Z"
    },
    "papermill": {
     "duration": 0.060393,
     "end_time": "2022-01-31T04:44:10.918671",
     "exception": false,
     "start_time": "2022-01-31T04:44:10.858278",
     "status": "completed"
    },
    "tags": []
   },
   "outputs": [
    {
     "name": "stdout",
     "output_type": "stream",
     "text": [
      "670497\n"
     ]
    }
   ],
   "source": [
    "print(y_tt.size - np.isnan(y_tt).sum())\n",
    "# BTC: 403948\n",
    "# Maker: 376700\n",
    "# Maker without reindexing time: 670497"
   ]
  },
  {
   "cell_type": "code",
   "execution_count": 37,
   "id": "404a0730",
   "metadata": {
    "execution": {
     "iopub.execute_input": "2022-01-31T04:44:11.024134Z",
     "iopub.status.busy": "2022-01-31T04:44:11.023221Z",
     "iopub.status.idle": "2022-01-31T04:44:11.043569Z",
     "shell.execute_reply": "2022-01-31T04:44:11.044226Z",
     "shell.execute_reply.started": "2022-01-31T02:38:14.117815Z"
    },
    "papermill": {
     "duration": 0.074347,
     "end_time": "2022-01-31T04:44:11.044505",
     "exception": false,
     "start_time": "2022-01-31T04:44:10.970158",
     "status": "completed"
    },
    "tags": []
   },
   "outputs": [
    {
     "name": "stdout",
     "output_type": "stream",
     "text": [
      "True\n",
      "True\n",
      "False\n",
      "False\n"
     ]
    }
   ],
   "source": [
    "print(np.any(np.isnan(X_tt)))\n",
    "#print(np.all(np.isfinite(X_tt)))\n",
    "print(np.any(np.isinf(X_tt)))\n",
    "\n",
    "print(np.any(np.isnan(y_tt)))\n",
    "# print(np.all(np.isfinite(y_tt)))\n",
    "print(np.any(np.isinf(y_tt)))"
   ]
  },
  {
   "cell_type": "code",
   "execution_count": 38,
   "id": "a40feb26",
   "metadata": {
    "execution": {
     "iopub.execute_input": "2022-01-31T04:44:11.149473Z",
     "iopub.status.busy": "2022-01-31T04:44:11.148877Z",
     "iopub.status.idle": "2022-01-31T04:44:11.170754Z",
     "shell.execute_reply": "2022-01-31T04:44:11.171289Z",
     "shell.execute_reply.started": "2022-01-31T02:38:14.155070Z"
    },
    "papermill": {
     "duration": 0.075574,
     "end_time": "2022-01-31T04:44:11.171462",
     "exception": false,
     "start_time": "2022-01-31T04:44:11.095888",
     "status": "completed"
    },
    "tags": []
   },
   "outputs": [
    {
     "data": {
      "text/html": [
       "<div>\n",
       "<style scoped>\n",
       "    .dataframe tbody tr th:only-of-type {\n",
       "        vertical-align: middle;\n",
       "    }\n",
       "\n",
       "    .dataframe tbody tr th {\n",
       "        vertical-align: top;\n",
       "    }\n",
       "\n",
       "    .dataframe thead th {\n",
       "        text-align: right;\n",
       "    }\n",
       "</style>\n",
       "<table border=\"1\" class=\"dataframe\">\n",
       "  <thead>\n",
       "    <tr style=\"text-align: right;\">\n",
       "      <th></th>\n",
       "      <th>timestamp</th>\n",
       "      <th>Asset_ID</th>\n",
       "      <th>Count</th>\n",
       "      <th>Open</th>\n",
       "      <th>High</th>\n",
       "      <th>Low</th>\n",
       "      <th>Close</th>\n",
       "      <th>Volume</th>\n",
       "      <th>VWAP</th>\n",
       "    </tr>\n",
       "  </thead>\n",
       "  <tbody>\n",
       "    <tr>\n",
       "      <th>15008467</th>\n",
       "      <td>1592193180</td>\n",
       "      <td>10</td>\n",
       "      <td>51.0</td>\n",
       "      <td>477.39785</td>\n",
       "      <td>480.9100</td>\n",
       "      <td>471.9999</td>\n",
       "      <td>476.91790</td>\n",
       "      <td>61.646140</td>\n",
       "      <td>inf</td>\n",
       "    </tr>\n",
       "    <tr>\n",
       "      <th>15021332</th>\n",
       "      <td>1592251080</td>\n",
       "      <td>10</td>\n",
       "      <td>12.0</td>\n",
       "      <td>522.36745</td>\n",
       "      <td>526.6249</td>\n",
       "      <td>518.1000</td>\n",
       "      <td>522.04785</td>\n",
       "      <td>2.320164</td>\n",
       "      <td>inf</td>\n",
       "    </tr>\n",
       "    <tr>\n",
       "      <th>15039285</th>\n",
       "      <td>1592333460</td>\n",
       "      <td>10</td>\n",
       "      <td>25.0</td>\n",
       "      <td>530.29270</td>\n",
       "      <td>530.9067</td>\n",
       "      <td>529.8700</td>\n",
       "      <td>529.98460</td>\n",
       "      <td>7.682915</td>\n",
       "      <td>inf</td>\n",
       "    </tr>\n",
       "    <tr>\n",
       "      <th>15087923</th>\n",
       "      <td>1592560440</td>\n",
       "      <td>10</td>\n",
       "      <td>7.0</td>\n",
       "      <td>515.25575</td>\n",
       "      <td>517.1000</td>\n",
       "      <td>513.4096</td>\n",
       "      <td>516.01280</td>\n",
       "      <td>0.197087</td>\n",
       "      <td>inf</td>\n",
       "    </tr>\n",
       "    <tr>\n",
       "      <th>15113365</th>\n",
       "      <td>1592680740</td>\n",
       "      <td>10</td>\n",
       "      <td>5.0</td>\n",
       "      <td>512.00460</td>\n",
       "      <td>512.9992</td>\n",
       "      <td>511.0000</td>\n",
       "      <td>512.00460</td>\n",
       "      <td>0.500000</td>\n",
       "      <td>inf</td>\n",
       "    </tr>\n",
       "    <tr>\n",
       "      <th>15143374</th>\n",
       "      <td>1592824560</td>\n",
       "      <td>10</td>\n",
       "      <td>6.0</td>\n",
       "      <td>503.60000</td>\n",
       "      <td>503.6000</td>\n",
       "      <td>502.0000</td>\n",
       "      <td>503.60000</td>\n",
       "      <td>0.000000</td>\n",
       "      <td>-inf</td>\n",
       "    </tr>\n",
       "    <tr>\n",
       "      <th>15143593</th>\n",
       "      <td>1592825580</td>\n",
       "      <td>10</td>\n",
       "      <td>20.0</td>\n",
       "      <td>500.90000</td>\n",
       "      <td>502.0000</td>\n",
       "      <td>499.8000</td>\n",
       "      <td>500.97995</td>\n",
       "      <td>8.106645</td>\n",
       "      <td>inf</td>\n",
       "    </tr>\n",
       "  </tbody>\n",
       "</table>\n",
       "</div>"
      ],
      "text/plain": [
       "           timestamp  Asset_ID  Count       Open      High       Low  \\\n",
       "15008467  1592193180        10   51.0  477.39785  480.9100  471.9999   \n",
       "15021332  1592251080        10   12.0  522.36745  526.6249  518.1000   \n",
       "15039285  1592333460        10   25.0  530.29270  530.9067  529.8700   \n",
       "15087923  1592560440        10    7.0  515.25575  517.1000  513.4096   \n",
       "15113365  1592680740        10    5.0  512.00460  512.9992  511.0000   \n",
       "15143374  1592824560        10    6.0  503.60000  503.6000  502.0000   \n",
       "15143593  1592825580        10   20.0  500.90000  502.0000  499.8000   \n",
       "\n",
       "              Close     Volume  VWAP  \n",
       "15008467  476.91790  61.646140   inf  \n",
       "15021332  522.04785   2.320164   inf  \n",
       "15039285  529.98460   7.682915   inf  \n",
       "15087923  516.01280   0.197087   inf  \n",
       "15113365  512.00460   0.500000   inf  \n",
       "15143374  503.60000   0.000000  -inf  \n",
       "15143593  500.97995   8.106645   inf  "
      ]
     },
     "execution_count": 38,
     "metadata": {},
     "output_type": "execute_result"
    }
   ],
   "source": [
    "X_tt.loc[np.isinf(X_tt).any(1)]"
   ]
  },
  {
   "cell_type": "code",
   "execution_count": 39,
   "id": "bce52977",
   "metadata": {
    "execution": {
     "iopub.execute_input": "2022-01-31T04:44:11.275753Z",
     "iopub.status.busy": "2022-01-31T04:44:11.275221Z",
     "iopub.status.idle": "2022-01-31T04:44:11.297769Z",
     "shell.execute_reply": "2022-01-31T04:44:11.298308Z",
     "shell.execute_reply.started": "2022-01-31T02:38:14.187645Z"
    },
    "papermill": {
     "duration": 0.076123,
     "end_time": "2022-01-31T04:44:11.298469",
     "exception": false,
     "start_time": "2022-01-31T04:44:11.222346",
     "status": "completed"
    },
    "tags": []
   },
   "outputs": [
    {
     "data": {
      "text/html": [
       "<div>\n",
       "<style scoped>\n",
       "    .dataframe tbody tr th:only-of-type {\n",
       "        vertical-align: middle;\n",
       "    }\n",
       "\n",
       "    .dataframe tbody tr th {\n",
       "        vertical-align: top;\n",
       "    }\n",
       "\n",
       "    .dataframe thead th {\n",
       "        text-align: right;\n",
       "    }\n",
       "</style>\n",
       "<table border=\"1\" class=\"dataframe\">\n",
       "  <thead>\n",
       "    <tr style=\"text-align: right;\">\n",
       "      <th></th>\n",
       "      <th>timestamp</th>\n",
       "      <th>Asset_ID</th>\n",
       "      <th>Count</th>\n",
       "      <th>Open</th>\n",
       "      <th>High</th>\n",
       "      <th>Low</th>\n",
       "      <th>Close</th>\n",
       "      <th>Volume</th>\n",
       "      <th>VWAP</th>\n",
       "    </tr>\n",
       "  </thead>\n",
       "  <tbody>\n",
       "    <tr>\n",
       "      <th>15004269</th>\n",
       "      <td>1592173560</td>\n",
       "      <td>10</td>\n",
       "      <td>2.0</td>\n",
       "      <td>501.00</td>\n",
       "      <td>501.00</td>\n",
       "      <td>501.00</td>\n",
       "      <td>501.00</td>\n",
       "      <td>0.0</td>\n",
       "      <td>NaN</td>\n",
       "    </tr>\n",
       "    <tr>\n",
       "      <th>15004283</th>\n",
       "      <td>1592173620</td>\n",
       "      <td>10</td>\n",
       "      <td>4.0</td>\n",
       "      <td>501.00</td>\n",
       "      <td>501.00</td>\n",
       "      <td>501.00</td>\n",
       "      <td>501.00</td>\n",
       "      <td>0.0</td>\n",
       "      <td>NaN</td>\n",
       "    </tr>\n",
       "    <tr>\n",
       "      <th>15059232</th>\n",
       "      <td>1592426160</td>\n",
       "      <td>10</td>\n",
       "      <td>2.0</td>\n",
       "      <td>529.77</td>\n",
       "      <td>529.77</td>\n",
       "      <td>529.77</td>\n",
       "      <td>529.77</td>\n",
       "      <td>0.0</td>\n",
       "      <td>NaN</td>\n",
       "    </tr>\n",
       "    <tr>\n",
       "      <th>15143187</th>\n",
       "      <td>1592823720</td>\n",
       "      <td>10</td>\n",
       "      <td>2.0</td>\n",
       "      <td>503.60</td>\n",
       "      <td>503.60</td>\n",
       "      <td>503.60</td>\n",
       "      <td>503.60</td>\n",
       "      <td>0.0</td>\n",
       "      <td>NaN</td>\n",
       "    </tr>\n",
       "    <tr>\n",
       "      <th>15183088</th>\n",
       "      <td>1593008940</td>\n",
       "      <td>10</td>\n",
       "      <td>2.0</td>\n",
       "      <td>484.16</td>\n",
       "      <td>484.16</td>\n",
       "      <td>484.16</td>\n",
       "      <td>484.16</td>\n",
       "      <td>0.0</td>\n",
       "      <td>NaN</td>\n",
       "    </tr>\n",
       "    <tr>\n",
       "      <th>15184216</th>\n",
       "      <td>1593013920</td>\n",
       "      <td>10</td>\n",
       "      <td>2.0</td>\n",
       "      <td>480.00</td>\n",
       "      <td>480.00</td>\n",
       "      <td>480.00</td>\n",
       "      <td>480.00</td>\n",
       "      <td>0.0</td>\n",
       "      <td>NaN</td>\n",
       "    </tr>\n",
       "    <tr>\n",
       "      <th>15184243</th>\n",
       "      <td>1593014040</td>\n",
       "      <td>10</td>\n",
       "      <td>2.0</td>\n",
       "      <td>480.00</td>\n",
       "      <td>480.00</td>\n",
       "      <td>480.00</td>\n",
       "      <td>480.00</td>\n",
       "      <td>0.0</td>\n",
       "      <td>NaN</td>\n",
       "    </tr>\n",
       "    <tr>\n",
       "      <th>15184309</th>\n",
       "      <td>1593014340</td>\n",
       "      <td>10</td>\n",
       "      <td>6.0</td>\n",
       "      <td>479.07</td>\n",
       "      <td>479.07</td>\n",
       "      <td>479.07</td>\n",
       "      <td>479.07</td>\n",
       "      <td>0.0</td>\n",
       "      <td>NaN</td>\n",
       "    </tr>\n",
       "    <tr>\n",
       "      <th>15184778</th>\n",
       "      <td>1593016440</td>\n",
       "      <td>10</td>\n",
       "      <td>4.0</td>\n",
       "      <td>478.00</td>\n",
       "      <td>478.00</td>\n",
       "      <td>475.00</td>\n",
       "      <td>478.00</td>\n",
       "      <td>0.0</td>\n",
       "      <td>NaN</td>\n",
       "    </tr>\n",
       "  </tbody>\n",
       "</table>\n",
       "</div>"
      ],
      "text/plain": [
       "           timestamp  Asset_ID  Count    Open    High     Low   Close  Volume  \\\n",
       "15004269  1592173560        10    2.0  501.00  501.00  501.00  501.00     0.0   \n",
       "15004283  1592173620        10    4.0  501.00  501.00  501.00  501.00     0.0   \n",
       "15059232  1592426160        10    2.0  529.77  529.77  529.77  529.77     0.0   \n",
       "15143187  1592823720        10    2.0  503.60  503.60  503.60  503.60     0.0   \n",
       "15183088  1593008940        10    2.0  484.16  484.16  484.16  484.16     0.0   \n",
       "15184216  1593013920        10    2.0  480.00  480.00  480.00  480.00     0.0   \n",
       "15184243  1593014040        10    2.0  480.00  480.00  480.00  480.00     0.0   \n",
       "15184309  1593014340        10    6.0  479.07  479.07  479.07  479.07     0.0   \n",
       "15184778  1593016440        10    4.0  478.00  478.00  475.00  478.00     0.0   \n",
       "\n",
       "          VWAP  \n",
       "15004269   NaN  \n",
       "15004283   NaN  \n",
       "15059232   NaN  \n",
       "15143187   NaN  \n",
       "15183088   NaN  \n",
       "15184216   NaN  \n",
       "15184243   NaN  \n",
       "15184309   NaN  \n",
       "15184778   NaN  "
      ]
     },
     "execution_count": 39,
     "metadata": {},
     "output_type": "execute_result"
    }
   ],
   "source": [
    "X_tt.loc[np.isnan(X_tt).any(1)]"
   ]
  },
  {
   "cell_type": "code",
   "execution_count": 40,
   "id": "cc69483d",
   "metadata": {
    "execution": {
     "iopub.execute_input": "2022-01-31T04:44:11.405524Z",
     "iopub.status.busy": "2022-01-31T04:44:11.404648Z",
     "iopub.status.idle": "2022-01-31T04:44:11.427076Z",
     "shell.execute_reply": "2022-01-31T04:44:11.427520Z",
     "shell.execute_reply.started": "2022-01-31T02:38:14.221628Z"
    },
    "papermill": {
     "duration": 0.078288,
     "end_time": "2022-01-31T04:44:11.427677",
     "exception": false,
     "start_time": "2022-01-31T04:44:11.349389",
     "status": "completed"
    },
    "tags": []
   },
   "outputs": [
    {
     "data": {
      "text/html": [
       "<div>\n",
       "<style scoped>\n",
       "    .dataframe tbody tr th:only-of-type {\n",
       "        vertical-align: middle;\n",
       "    }\n",
       "\n",
       "    .dataframe tbody tr th {\n",
       "        vertical-align: top;\n",
       "    }\n",
       "\n",
       "    .dataframe thead th {\n",
       "        text-align: right;\n",
       "    }\n",
       "</style>\n",
       "<table border=\"1\" class=\"dataframe\">\n",
       "  <thead>\n",
       "    <tr style=\"text-align: right;\">\n",
       "      <th></th>\n",
       "      <th>timestamp</th>\n",
       "      <th>Asset_ID</th>\n",
       "      <th>Count</th>\n",
       "      <th>Open</th>\n",
       "      <th>High</th>\n",
       "      <th>Low</th>\n",
       "      <th>Close</th>\n",
       "      <th>Volume</th>\n",
       "      <th>VWAP</th>\n",
       "    </tr>\n",
       "  </thead>\n",
       "  <tbody>\n",
       "    <tr>\n",
       "      <th>15004269</th>\n",
       "      <td>1592173560</td>\n",
       "      <td>10</td>\n",
       "      <td>2.0</td>\n",
       "      <td>501.00</td>\n",
       "      <td>501.00</td>\n",
       "      <td>501.00</td>\n",
       "      <td>501.00</td>\n",
       "      <td>0.0</td>\n",
       "      <td>NaN</td>\n",
       "    </tr>\n",
       "    <tr>\n",
       "      <th>15004283</th>\n",
       "      <td>1592173620</td>\n",
       "      <td>10</td>\n",
       "      <td>4.0</td>\n",
       "      <td>501.00</td>\n",
       "      <td>501.00</td>\n",
       "      <td>501.00</td>\n",
       "      <td>501.00</td>\n",
       "      <td>0.0</td>\n",
       "      <td>NaN</td>\n",
       "    </tr>\n",
       "    <tr>\n",
       "      <th>15059232</th>\n",
       "      <td>1592426160</td>\n",
       "      <td>10</td>\n",
       "      <td>2.0</td>\n",
       "      <td>529.77</td>\n",
       "      <td>529.77</td>\n",
       "      <td>529.77</td>\n",
       "      <td>529.77</td>\n",
       "      <td>0.0</td>\n",
       "      <td>NaN</td>\n",
       "    </tr>\n",
       "    <tr>\n",
       "      <th>15143187</th>\n",
       "      <td>1592823720</td>\n",
       "      <td>10</td>\n",
       "      <td>2.0</td>\n",
       "      <td>503.60</td>\n",
       "      <td>503.60</td>\n",
       "      <td>503.60</td>\n",
       "      <td>503.60</td>\n",
       "      <td>0.0</td>\n",
       "      <td>NaN</td>\n",
       "    </tr>\n",
       "    <tr>\n",
       "      <th>15143374</th>\n",
       "      <td>1592824560</td>\n",
       "      <td>10</td>\n",
       "      <td>6.0</td>\n",
       "      <td>503.60</td>\n",
       "      <td>503.60</td>\n",
       "      <td>502.00</td>\n",
       "      <td>503.60</td>\n",
       "      <td>0.0</td>\n",
       "      <td>-inf</td>\n",
       "    </tr>\n",
       "    <tr>\n",
       "      <th>15183088</th>\n",
       "      <td>1593008940</td>\n",
       "      <td>10</td>\n",
       "      <td>2.0</td>\n",
       "      <td>484.16</td>\n",
       "      <td>484.16</td>\n",
       "      <td>484.16</td>\n",
       "      <td>484.16</td>\n",
       "      <td>0.0</td>\n",
       "      <td>NaN</td>\n",
       "    </tr>\n",
       "    <tr>\n",
       "      <th>15184216</th>\n",
       "      <td>1593013920</td>\n",
       "      <td>10</td>\n",
       "      <td>2.0</td>\n",
       "      <td>480.00</td>\n",
       "      <td>480.00</td>\n",
       "      <td>480.00</td>\n",
       "      <td>480.00</td>\n",
       "      <td>0.0</td>\n",
       "      <td>NaN</td>\n",
       "    </tr>\n",
       "    <tr>\n",
       "      <th>15184243</th>\n",
       "      <td>1593014040</td>\n",
       "      <td>10</td>\n",
       "      <td>2.0</td>\n",
       "      <td>480.00</td>\n",
       "      <td>480.00</td>\n",
       "      <td>480.00</td>\n",
       "      <td>480.00</td>\n",
       "      <td>0.0</td>\n",
       "      <td>NaN</td>\n",
       "    </tr>\n",
       "    <tr>\n",
       "      <th>15184309</th>\n",
       "      <td>1593014340</td>\n",
       "      <td>10</td>\n",
       "      <td>6.0</td>\n",
       "      <td>479.07</td>\n",
       "      <td>479.07</td>\n",
       "      <td>479.07</td>\n",
       "      <td>479.07</td>\n",
       "      <td>0.0</td>\n",
       "      <td>NaN</td>\n",
       "    </tr>\n",
       "    <tr>\n",
       "      <th>15184778</th>\n",
       "      <td>1593016440</td>\n",
       "      <td>10</td>\n",
       "      <td>4.0</td>\n",
       "      <td>478.00</td>\n",
       "      <td>478.00</td>\n",
       "      <td>475.00</td>\n",
       "      <td>478.00</td>\n",
       "      <td>0.0</td>\n",
       "      <td>NaN</td>\n",
       "    </tr>\n",
       "  </tbody>\n",
       "</table>\n",
       "</div>"
      ],
      "text/plain": [
       "           timestamp  Asset_ID  Count    Open    High     Low   Close  Volume  \\\n",
       "15004269  1592173560        10    2.0  501.00  501.00  501.00  501.00     0.0   \n",
       "15004283  1592173620        10    4.0  501.00  501.00  501.00  501.00     0.0   \n",
       "15059232  1592426160        10    2.0  529.77  529.77  529.77  529.77     0.0   \n",
       "15143187  1592823720        10    2.0  503.60  503.60  503.60  503.60     0.0   \n",
       "15143374  1592824560        10    6.0  503.60  503.60  502.00  503.60     0.0   \n",
       "15183088  1593008940        10    2.0  484.16  484.16  484.16  484.16     0.0   \n",
       "15184216  1593013920        10    2.0  480.00  480.00  480.00  480.00     0.0   \n",
       "15184243  1593014040        10    2.0  480.00  480.00  480.00  480.00     0.0   \n",
       "15184309  1593014340        10    6.0  479.07  479.07  479.07  479.07     0.0   \n",
       "15184778  1593016440        10    4.0  478.00  478.00  475.00  478.00     0.0   \n",
       "\n",
       "          VWAP  \n",
       "15004269   NaN  \n",
       "15004283   NaN  \n",
       "15059232   NaN  \n",
       "15143187   NaN  \n",
       "15143374  -inf  \n",
       "15183088   NaN  \n",
       "15184216   NaN  \n",
       "15184243   NaN  \n",
       "15184309   NaN  \n",
       "15184778   NaN  "
      ]
     },
     "execution_count": 40,
     "metadata": {},
     "output_type": "execute_result"
    }
   ],
   "source": [
    "X_tt.loc[(X_tt==0).any(1)]"
   ]
  },
  {
   "cell_type": "code",
   "execution_count": 41,
   "id": "8ecf1852",
   "metadata": {
    "execution": {
     "iopub.execute_input": "2022-01-31T04:44:11.533055Z",
     "iopub.status.busy": "2022-01-31T04:44:11.532499Z",
     "iopub.status.idle": "2022-01-31T04:44:11.534977Z",
     "shell.execute_reply": "2022-01-31T04:44:11.535436Z",
     "shell.execute_reply.started": "2022-01-31T02:38:14.266712Z"
    },
    "papermill": {
     "duration": 0.056482,
     "end_time": "2022-01-31T04:44:11.535585",
     "exception": false,
     "start_time": "2022-01-31T04:44:11.479103",
     "status": "completed"
    },
    "tags": []
   },
   "outputs": [],
   "source": [
    "# X_tt = X_tt.replace((np.inf, -np.inf), 0.0001)\n",
    "# RuntimeWarning: divide by zero encountered in log\n",
    "# assign to a very small number instead of 0"
   ]
  },
  {
   "cell_type": "code",
   "execution_count": 42,
   "id": "4ce4a18e",
   "metadata": {
    "execution": {
     "iopub.execute_input": "2022-01-31T04:44:11.641444Z",
     "iopub.status.busy": "2022-01-31T04:44:11.640875Z",
     "iopub.status.idle": "2022-01-31T04:44:11.643770Z",
     "shell.execute_reply": "2022-01-31T04:44:11.644199Z",
     "shell.execute_reply.started": "2022-01-31T02:38:14.273415Z"
    },
    "papermill": {
     "duration": 0.057136,
     "end_time": "2022-01-31T04:44:11.644369",
     "exception": false,
     "start_time": "2022-01-31T04:44:11.587233",
     "status": "completed"
    },
    "tags": []
   },
   "outputs": [],
   "source": [
    "# X_tt = X_tt.fillna(0.0001)"
   ]
  },
  {
   "cell_type": "code",
   "execution_count": 43,
   "id": "3febdf19",
   "metadata": {
    "execution": {
     "iopub.execute_input": "2022-01-31T04:44:11.750076Z",
     "iopub.status.busy": "2022-01-31T04:44:11.749502Z",
     "iopub.status.idle": "2022-01-31T04:44:11.752162Z",
     "shell.execute_reply": "2022-01-31T04:44:11.752600Z",
     "shell.execute_reply.started": "2022-01-31T02:38:14.288378Z"
    },
    "papermill": {
     "duration": 0.057189,
     "end_time": "2022-01-31T04:44:11.752760",
     "exception": false,
     "start_time": "2022-01-31T04:44:11.695571",
     "status": "completed"
    },
    "tags": []
   },
   "outputs": [],
   "source": [
    "# X_tt = get_features(X_tt)"
   ]
  },
  {
   "cell_type": "code",
   "execution_count": 44,
   "id": "c75338d4",
   "metadata": {
    "execution": {
     "iopub.execute_input": "2022-01-31T04:44:11.858857Z",
     "iopub.status.busy": "2022-01-31T04:44:11.858284Z",
     "iopub.status.idle": "2022-01-31T04:44:11.860865Z",
     "shell.execute_reply": "2022-01-31T04:44:11.861271Z",
     "shell.execute_reply.started": "2022-01-31T02:38:14.301933Z"
    },
    "papermill": {
     "duration": 0.057195,
     "end_time": "2022-01-31T04:44:11.861453",
     "exception": false,
     "start_time": "2022-01-31T04:44:11.804258",
     "status": "completed"
    },
    "tags": []
   },
   "outputs": [],
   "source": [
    "# X_tt = X_tt.fillna(0.0001)"
   ]
  },
  {
   "cell_type": "code",
   "execution_count": 45,
   "id": "30579461",
   "metadata": {
    "execution": {
     "iopub.execute_input": "2022-01-31T04:44:11.968937Z",
     "iopub.status.busy": "2022-01-31T04:44:11.967896Z",
     "iopub.status.idle": "2022-01-31T04:44:11.970687Z",
     "shell.execute_reply": "2022-01-31T04:44:11.971117Z",
     "shell.execute_reply.started": "2022-01-31T02:38:14.315717Z"
    },
    "papermill": {
     "duration": 0.057908,
     "end_time": "2022-01-31T04:44:11.971265",
     "exception": false,
     "start_time": "2022-01-31T04:44:11.913357",
     "status": "completed"
    },
    "tags": []
   },
   "outputs": [],
   "source": [
    "# X_tt = standard_scaler.fit_transform(X_tt)"
   ]
  },
  {
   "cell_type": "code",
   "execution_count": 46,
   "id": "c2457b06",
   "metadata": {
    "execution": {
     "iopub.execute_input": "2022-01-31T04:44:12.077254Z",
     "iopub.status.busy": "2022-01-31T04:44:12.076670Z",
     "iopub.status.idle": "2022-01-31T04:44:12.079744Z",
     "shell.execute_reply": "2022-01-31T04:44:12.079285Z",
     "shell.execute_reply.started": "2022-01-31T02:38:14.329311Z"
    },
    "papermill": {
     "duration": 0.057283,
     "end_time": "2022-01-31T04:44:12.079862",
     "exception": false,
     "start_time": "2022-01-31T04:44:12.022579",
     "status": "completed"
    },
    "tags": []
   },
   "outputs": [],
   "source": [
    "# X_tt[:5]"
   ]
  },
  {
   "cell_type": "code",
   "execution_count": 47,
   "id": "de191831",
   "metadata": {
    "execution": {
     "iopub.execute_input": "2022-01-31T04:44:12.185811Z",
     "iopub.status.busy": "2022-01-31T04:44:12.185261Z",
     "iopub.status.idle": "2022-01-31T04:44:12.187726Z",
     "shell.execute_reply": "2022-01-31T04:44:12.188119Z",
     "shell.execute_reply.started": "2022-01-31T02:38:14.345355Z"
    },
    "papermill": {
     "duration": 0.056425,
     "end_time": "2022-01-31T04:44:12.188270",
     "exception": false,
     "start_time": "2022-01-31T04:44:12.131845",
     "status": "completed"
    },
    "tags": []
   },
   "outputs": [],
   "source": [
    "# X_tt = X_tt.fillna(0.0001)"
   ]
  },
  {
   "cell_type": "code",
   "execution_count": 48,
   "id": "b0c758cb",
   "metadata": {
    "execution": {
     "iopub.execute_input": "2022-01-31T04:44:12.300064Z",
     "iopub.status.busy": "2022-01-31T04:44:12.299513Z",
     "iopub.status.idle": "2022-01-31T04:44:12.417434Z",
     "shell.execute_reply": "2022-01-31T04:44:12.417925Z",
     "shell.execute_reply.started": "2022-01-31T02:38:14.357731Z"
    },
    "papermill": {
     "duration": 0.178347,
     "end_time": "2022-01-31T04:44:12.418097",
     "exception": false,
     "start_time": "2022-01-31T04:44:12.239750",
     "status": "completed"
    },
    "tags": []
   },
   "outputs": [
    {
     "name": "stdout",
     "output_type": "stream",
     "text": [
      "0\n",
      "0\n"
     ]
    }
   ],
   "source": [
    "print(sum(np.isnan(y_tt)))\n",
    "print(sum(np.isinf(y_tt)))"
   ]
  },
  {
   "cell_type": "code",
   "execution_count": 49,
   "id": "08d23991",
   "metadata": {
    "execution": {
     "iopub.execute_input": "2022-01-31T04:44:12.526030Z",
     "iopub.status.busy": "2022-01-31T04:44:12.525146Z",
     "iopub.status.idle": "2022-01-31T04:44:12.528010Z",
     "shell.execute_reply": "2022-01-31T04:44:12.528565Z",
     "shell.execute_reply.started": "2022-01-31T02:38:14.560770Z"
    },
    "papermill": {
     "duration": 0.058087,
     "end_time": "2022-01-31T04:44:12.528715",
     "exception": false,
     "start_time": "2022-01-31T04:44:12.470628",
     "status": "completed"
    },
    "tags": []
   },
   "outputs": [],
   "source": [
    "# lr.fit(X_tt, y_tt)"
   ]
  },
  {
   "cell_type": "code",
   "execution_count": 50,
   "id": "a6fb1bc0",
   "metadata": {
    "execution": {
     "iopub.execute_input": "2022-01-31T04:44:12.635751Z",
     "iopub.status.busy": "2022-01-31T04:44:12.635211Z",
     "iopub.status.idle": "2022-01-31T04:44:12.637199Z",
     "shell.execute_reply": "2022-01-31T04:44:12.637635Z",
     "shell.execute_reply.started": "2022-01-31T02:38:14.566846Z"
    },
    "papermill": {
     "duration": 0.057321,
     "end_time": "2022-01-31T04:44:12.637776",
     "exception": false,
     "start_time": "2022-01-31T04:44:12.580455",
     "status": "completed"
    },
    "tags": []
   },
   "outputs": [],
   "source": [
    "# model_tt = pipe_lr.fit(X_tt, y_tt)"
   ]
  },
  {
   "cell_type": "code",
   "execution_count": 51,
   "id": "46fa36ea",
   "metadata": {
    "execution": {
     "iopub.execute_input": "2022-01-31T04:44:12.744091Z",
     "iopub.status.busy": "2022-01-31T04:44:12.743550Z",
     "iopub.status.idle": "2022-01-31T04:44:12.747416Z",
     "shell.execute_reply": "2022-01-31T04:44:12.746919Z",
     "shell.execute_reply.started": "2022-01-31T02:38:14.581291Z"
    },
    "papermill": {
     "duration": 0.058114,
     "end_time": "2022-01-31T04:44:12.747546",
     "exception": false,
     "start_time": "2022-01-31T04:44:12.689432",
     "status": "completed"
    },
    "tags": []
   },
   "outputs": [],
   "source": [
    "# in-sample prediction\n",
    "\n",
    "# y_tt_pred = model_tt.predict(X_tt)\n",
    "# # print(\"In-sample test score for Linear Regression - BTC: {:.4f}\".format(get_corr(y_tt_pred, y_tt)))\n",
    "# print(\"In-sample test score for Linear Regression - Maker: {:.4f}\".format(get_corr(y_tt_pred, y_tt)))   # 0.0309"
   ]
  },
  {
   "cell_type": "code",
   "execution_count": 52,
   "id": "9b6a3c99",
   "metadata": {
    "execution": {
     "iopub.execute_input": "2022-01-31T04:44:12.854340Z",
     "iopub.status.busy": "2022-01-31T04:44:12.853733Z",
     "iopub.status.idle": "2022-01-31T04:44:12.859323Z",
     "shell.execute_reply": "2022-01-31T04:44:12.859761Z",
     "shell.execute_reply.started": "2022-01-31T02:38:14.594908Z"
    },
    "papermill": {
     "duration": 0.060543,
     "end_time": "2022-01-31T04:44:12.859929",
     "exception": false,
     "start_time": "2022-01-31T04:44:12.799386",
     "status": "completed"
    },
    "tags": []
   },
   "outputs": [],
   "source": [
    "dict_pred = {\n",
    "    'row_id': np.arange(50),\n",
    "    'Target': np.zeros(50)\n",
    "}\n",
    "\n",
    "# df_pred = pd.DataFrame(np.array([[0,0]]),\n",
    "#                        columns=['row_id', 'Target'])\n",
    "df_pred = pd.DataFrame(data=dict_pred)\n",
    "\n",
    "df_test = X_tt[:50].copy()\n",
    "df_test.insert(0, 'row_id', np.arange(len(df_test)))               "
   ]
  },
  {
   "cell_type": "code",
   "execution_count": 53,
   "id": "b0acaa69",
   "metadata": {
    "execution": {
     "iopub.execute_input": "2022-01-31T04:44:12.966202Z",
     "iopub.status.busy": "2022-01-31T04:44:12.965636Z",
     "iopub.status.idle": "2022-01-31T04:44:12.972671Z",
     "shell.execute_reply": "2022-01-31T04:44:12.973176Z",
     "shell.execute_reply.started": "2022-01-31T03:07:40.753681Z"
    },
    "papermill": {
     "duration": 0.061404,
     "end_time": "2022-01-31T04:44:12.973342",
     "exception": false,
     "start_time": "2022-01-31T04:44:12.911938",
     "status": "completed"
    },
    "tags": []
   },
   "outputs": [
    {
     "data": {
      "text/html": [
       "<div>\n",
       "<style scoped>\n",
       "    .dataframe tbody tr th:only-of-type {\n",
       "        vertical-align: middle;\n",
       "    }\n",
       "\n",
       "    .dataframe tbody tr th {\n",
       "        vertical-align: top;\n",
       "    }\n",
       "\n",
       "    .dataframe thead th {\n",
       "        text-align: right;\n",
       "    }\n",
       "</style>\n",
       "<table border=\"1\" class=\"dataframe\">\n",
       "  <thead>\n",
       "    <tr style=\"text-align: right;\">\n",
       "      <th></th>\n",
       "      <th>row_id</th>\n",
       "      <th>Target</th>\n",
       "    </tr>\n",
       "  </thead>\n",
       "  <tbody>\n",
       "    <tr>\n",
       "      <th>0</th>\n",
       "      <td>0</td>\n",
       "      <td>0.0</td>\n",
       "    </tr>\n",
       "    <tr>\n",
       "      <th>1</th>\n",
       "      <td>1</td>\n",
       "      <td>0.0</td>\n",
       "    </tr>\n",
       "    <tr>\n",
       "      <th>2</th>\n",
       "      <td>2</td>\n",
       "      <td>0.0</td>\n",
       "    </tr>\n",
       "    <tr>\n",
       "      <th>3</th>\n",
       "      <td>3</td>\n",
       "      <td>0.0</td>\n",
       "    </tr>\n",
       "    <tr>\n",
       "      <th>4</th>\n",
       "      <td>4</td>\n",
       "      <td>0.0</td>\n",
       "    </tr>\n",
       "  </tbody>\n",
       "</table>\n",
       "</div>"
      ],
      "text/plain": [
       "   row_id  Target\n",
       "0       0     0.0\n",
       "1       1     0.0\n",
       "2       2     0.0\n",
       "3       3     0.0\n",
       "4       4     0.0"
      ]
     },
     "execution_count": 53,
     "metadata": {},
     "output_type": "execute_result"
    }
   ],
   "source": [
    "df_pred.head()"
   ]
  },
  {
   "cell_type": "code",
   "execution_count": 54,
   "id": "9ee8a4e1",
   "metadata": {
    "execution": {
     "iopub.execute_input": "2022-01-31T04:44:13.080553Z",
     "iopub.status.busy": "2022-01-31T04:44:13.079916Z",
     "iopub.status.idle": "2022-01-31T04:44:13.093217Z",
     "shell.execute_reply": "2022-01-31T04:44:13.092684Z",
     "shell.execute_reply.started": "2022-01-31T02:38:14.628496Z"
    },
    "papermill": {
     "duration": 0.067895,
     "end_time": "2022-01-31T04:44:13.093357",
     "exception": false,
     "start_time": "2022-01-31T04:44:13.025462",
     "status": "completed"
    },
    "tags": []
   },
   "outputs": [
    {
     "data": {
      "text/html": [
       "<div>\n",
       "<style scoped>\n",
       "    .dataframe tbody tr th:only-of-type {\n",
       "        vertical-align: middle;\n",
       "    }\n",
       "\n",
       "    .dataframe tbody tr th {\n",
       "        vertical-align: top;\n",
       "    }\n",
       "\n",
       "    .dataframe thead th {\n",
       "        text-align: right;\n",
       "    }\n",
       "</style>\n",
       "<table border=\"1\" class=\"dataframe\">\n",
       "  <thead>\n",
       "    <tr style=\"text-align: right;\">\n",
       "      <th></th>\n",
       "      <th>row_id</th>\n",
       "      <th>timestamp</th>\n",
       "      <th>Asset_ID</th>\n",
       "      <th>Count</th>\n",
       "      <th>Open</th>\n",
       "      <th>High</th>\n",
       "      <th>Low</th>\n",
       "      <th>Close</th>\n",
       "      <th>Volume</th>\n",
       "      <th>VWAP</th>\n",
       "    </tr>\n",
       "  </thead>\n",
       "  <tbody>\n",
       "    <tr>\n",
       "      <th>1634867</th>\n",
       "      <td>0</td>\n",
       "      <td>1525965660</td>\n",
       "      <td>10</td>\n",
       "      <td>1.0</td>\n",
       "      <td>1182.0</td>\n",
       "      <td>1182.0</td>\n",
       "      <td>1182.0</td>\n",
       "      <td>1182.0</td>\n",
       "      <td>0.045492</td>\n",
       "      <td>1182.000000</td>\n",
       "    </tr>\n",
       "    <tr>\n",
       "      <th>1635142</th>\n",
       "      <td>1</td>\n",
       "      <td>1525967220</td>\n",
       "      <td>10</td>\n",
       "      <td>1.0</td>\n",
       "      <td>1496.0</td>\n",
       "      <td>1496.0</td>\n",
       "      <td>1496.0</td>\n",
       "      <td>1496.0</td>\n",
       "      <td>0.195000</td>\n",
       "      <td>1496.000000</td>\n",
       "    </tr>\n",
       "    <tr>\n",
       "      <th>1635229</th>\n",
       "      <td>2</td>\n",
       "      <td>1525967700</td>\n",
       "      <td>10</td>\n",
       "      <td>2.0</td>\n",
       "      <td>1496.0</td>\n",
       "      <td>1496.0</td>\n",
       "      <td>1496.0</td>\n",
       "      <td>1496.0</td>\n",
       "      <td>0.070000</td>\n",
       "      <td>1496.000000</td>\n",
       "    </tr>\n",
       "    <tr>\n",
       "      <th>1635389</th>\n",
       "      <td>3</td>\n",
       "      <td>1525968600</td>\n",
       "      <td>10</td>\n",
       "      <td>3.0</td>\n",
       "      <td>1100.2</td>\n",
       "      <td>1100.2</td>\n",
       "      <td>1090.7</td>\n",
       "      <td>1100.2</td>\n",
       "      <td>0.069860</td>\n",
       "      <td>1091.692637</td>\n",
       "    </tr>\n",
       "    <tr>\n",
       "      <th>1636138</th>\n",
       "      <td>4</td>\n",
       "      <td>1525972740</td>\n",
       "      <td>10</td>\n",
       "      <td>1.0</td>\n",
       "      <td>1488.0</td>\n",
       "      <td>1488.0</td>\n",
       "      <td>1488.0</td>\n",
       "      <td>1488.0</td>\n",
       "      <td>0.001000</td>\n",
       "      <td>1488.000000</td>\n",
       "    </tr>\n",
       "  </tbody>\n",
       "</table>\n",
       "</div>"
      ],
      "text/plain": [
       "         row_id   timestamp  Asset_ID  Count    Open    High     Low   Close  \\\n",
       "1634867       0  1525965660        10    1.0  1182.0  1182.0  1182.0  1182.0   \n",
       "1635142       1  1525967220        10    1.0  1496.0  1496.0  1496.0  1496.0   \n",
       "1635229       2  1525967700        10    2.0  1496.0  1496.0  1496.0  1496.0   \n",
       "1635389       3  1525968600        10    3.0  1100.2  1100.2  1090.7  1100.2   \n",
       "1636138       4  1525972740        10    1.0  1488.0  1488.0  1488.0  1488.0   \n",
       "\n",
       "           Volume         VWAP  \n",
       "1634867  0.045492  1182.000000  \n",
       "1635142  0.195000  1496.000000  \n",
       "1635229  0.070000  1496.000000  \n",
       "1635389  0.069860  1091.692637  \n",
       "1636138  0.001000  1488.000000  "
      ]
     },
     "execution_count": 54,
     "metadata": {},
     "output_type": "execute_result"
    }
   ],
   "source": [
    "df_test.head()"
   ]
  },
  {
   "cell_type": "code",
   "execution_count": 55,
   "id": "15082ac7",
   "metadata": {
    "execution": {
     "iopub.execute_input": "2022-01-31T04:44:13.205490Z",
     "iopub.status.busy": "2022-01-31T04:44:13.204878Z",
     "iopub.status.idle": "2022-01-31T04:44:13.209338Z",
     "shell.execute_reply": "2022-01-31T04:44:13.208762Z",
     "shell.execute_reply.started": "2022-01-31T03:05:54.011155Z"
    },
    "papermill": {
     "duration": 0.062635,
     "end_time": "2022-01-31T04:44:13.209476",
     "exception": false,
     "start_time": "2022-01-31T04:44:13.146841",
     "status": "completed"
    },
    "tags": []
   },
   "outputs": [
    {
     "name": "stdout",
     "output_type": "stream",
     "text": [
      "row_id       0.000000e+00\n",
      "timestamp    1.525966e+09\n",
      "Asset_ID     1.000000e+01\n",
      "Count        1.000000e+00\n",
      "Open         1.182000e+03\n",
      "High         1.182000e+03\n",
      "Low          1.182000e+03\n",
      "Close        1.182000e+03\n",
      "Volume       4.549208e-02\n",
      "VWAP         1.182000e+03\n",
      "Name: 1634867, dtype: float64\n"
     ]
    }
   ],
   "source": [
    "k = 0\n",
    "for j, row in df_test.iterrows():\n",
    "    if k == 1:\n",
    "        break\n",
    "    print(row)\n",
    "    k += 1"
   ]
  },
  {
   "cell_type": "markdown",
   "id": "90ddb4c3",
   "metadata": {
    "papermill": {
     "duration": 0.053264,
     "end_time": "2022-01-31T04:44:13.319517",
     "exception": false,
     "start_time": "2022-01-31T04:44:13.266253",
     "status": "completed"
    },
    "tags": []
   },
   "source": [
    "A problem I encountered: not able to break at j==5. The loop just kept running until all the rows are returned.\\\n",
    "Solution: \n",
    "[While Loop does not break and runs infinitely (Python)](https://stackoverflow.com/questions/58974030/while-loop-does-not-break-and-runs-infinitely-python)"
   ]
  },
  {
   "cell_type": "code",
   "execution_count": 56,
   "id": "a3b2808a",
   "metadata": {
    "execution": {
     "iopub.execute_input": "2022-01-31T04:44:13.444042Z",
     "iopub.status.busy": "2022-01-31T04:44:13.443429Z",
     "iopub.status.idle": "2022-01-31T04:44:44.044242Z",
     "shell.execute_reply": "2022-01-31T04:44:44.044774Z",
     "shell.execute_reply.started": "2022-01-31T02:47:23.543982Z"
    },
    "papermill": {
     "duration": 30.672484,
     "end_time": "2022-01-31T04:44:44.044943",
     "exception": false,
     "start_time": "2022-01-31T04:44:13.372459",
     "status": "completed"
    },
    "tags": []
   },
   "outputs": [
    {
     "name": "stdout",
     "output_type": "stream",
     "text": [
      "Training model for Bitcoin Cash     (ID=2 )...\n",
      "In-sample test score for Bitcoin Cash     0.0150\n",
      "Training model for Binance Coin     (ID=0 )...\n",
      "In-sample test score for Binance Coin     0.0086\n",
      "Training model for Bitcoin          (ID=1 )...\n",
      "In-sample test score for Bitcoin          0.0159\n",
      "Training model for EOS.IO           (ID=5 )...\n",
      "In-sample test score for EOS.IO           0.0241\n",
      "Training model for Ethereum Classic (ID=7 )...\n",
      "In-sample test score for Ethereum Classic 0.0155\n",
      "Training model for Ethereum         (ID=6 )...\n",
      "In-sample test score for Ethereum         0.0189\n",
      "Training model for Litecoin         (ID=9 )...\n",
      "In-sample test score for Litecoin         0.0198\n",
      "Training model for Monero           (ID=11)...\n",
      "In-sample test score for Monero           0.0203\n",
      "Training model for TRON             (ID=13)...\n",
      "In-sample test score for TRON             0.0328\n",
      "Training model for Stellar          (ID=12)...\n",
      "In-sample test score for Stellar          0.0146\n",
      "Training model for Cardano          (ID=3 )...\n",
      "In-sample test score for Cardano          0.0344\n",
      "Training model for IOTA             (ID=8 )...\n",
      "In-sample test score for IOTA             0.0060\n",
      "Training model for Maker            (ID=10)...\n",
      "In-sample test score for Maker            0.0309\n",
      "Training model for Dogecoin         (ID=4 )...\n",
      "In-sample test score for Dogecoin         0.0315\n"
     ]
    }
   ],
   "source": [
    "X_train = {}\n",
    "y_train = {}\n",
    "model_lr = {}\n",
    "y_insmpl_pred = {}\n",
    "score_insmpl = {}\n",
    "\n",
    "for asset_id, asset_name in zip(df_asset_details['Asset_ID'], df_asset_details['Asset_Name']):\n",
    "    print(f\"Training model for {asset_name:<16} (ID={asset_id:<2})...\")\n",
    "    \n",
    "    X_train[asset_id], y_train[asset_id] = get_asset_data(df_train, asset_id)\n",
    "    model_lr[asset_id] = pipe_lr.fit(X_train[asset_id], y_train[asset_id])\n",
    "    y_insmpl_pred[asset_id] = model_lr[asset_id].predict(X_train[asset_id])\n",
    "    score_insmpl[asset_id] = get_corr(y_insmpl_pred[asset_id], y_train[asset_id])\n",
    "    \n",
    "    print(f\"In-sample test score for {asset_name:<16} {score_insmpl[asset_id]:.4f}\")"
   ]
  },
  {
   "cell_type": "markdown",
   "id": "d0175076",
   "metadata": {
    "papermill": {
     "duration": 0.055647,
     "end_time": "2022-01-31T04:44:44.157045",
     "exception": false,
     "start_time": "2022-01-31T04:44:44.101398",
     "status": "completed"
    },
    "tags": []
   },
   "source": [
    "RuntimeWarning: invalid value encountered in reduce\\\n",
    "      9 \\\n",
    "     10     X_train[asset_id], y_train[asset_id] = get_asset_data(df_train, asset_id)\\\n",
    "---> 11     model_lr[asset_id] = pipe_lr.fit(X_train[asset_id], y_train[asset_id])\\\n",
    "     12     y_insmpl_pred[asset_id] = model_lr[asset_id].predict(X_train[asset_id])\\\n",
    "     13     score_insmpl[asset_id] = get_corr(y_insmpl_pred[asset_id], y_train[asset_id])"
   ]
  },
  {
   "cell_type": "markdown",
   "id": "35e356a4",
   "metadata": {
    "papermill": {
     "duration": 0.056093,
     "end_time": "2022-01-31T04:44:44.269160",
     "exception": false,
     "start_time": "2022-01-31T04:44:44.213067",
     "status": "completed"
    },
    "tags": []
   },
   "source": [
    "01/30/2022    changed preprocessing to handle Inf, NaN, and 0s\n",
    "```\n",
    "Training model for Bitcoin Cash     (ID=2 )...\n",
    "In-sample test score for Bitcoin Cash     0.0311\n",
    "Training model for Binance Coin     (ID=0 )...\n",
    "In-sample test score for Binance Coin     0.0265\n",
    "Training model for Bitcoin          (ID=1 )...\n",
    "In-sample test score for Bitcoin          0.0333\n",
    "Training model for EOS.IO           (ID=5 )...\n",
    "In-sample test score for EOS.IO           0.0348\n",
    "Training model for Ethereum Classic (ID=7 )...\n",
    "In-sample test score for Ethereum Classic 0.0348\n",
    "Training model for Ethereum         (ID=6 )...\n",
    "In-sample test score for Ethereum         0.0433\n",
    "Training model for Litecoin         (ID=9 )...\n",
    "In-sample test score for Litecoin         0.0435\n",
    "Training model for Monero           (ID=11)...\n",
    "In-sample test score for Monero           0.0224\n",
    "Training model for TRON             (ID=13)...\n",
    "In-sample test score for TRON             0.0328\n",
    "Training model for Stellar          (ID=12)...\n",
    "In-sample test score for Stellar          0.0146\n",
    "Training model for Cardano          (ID=3 )...\n",
    "In-sample test score for Cardano          0.0392\n",
    "Training model for IOTA             (ID=8 )...\n",
    "In-sample test score for IOTA             0.0082\n",
    "Training model for Maker            (ID=10)...\n",
    "/opt/conda/lib/python3.7/site-packages/pandas/core/arraylike.py:364: RuntimeWarning: invalid value encountered in log\n",
    "  result = getattr(ufunc, method)(*inputs, **kwargs)\n",
    "/opt/conda/lib/python3.7/site-packages/pandas/core/arraylike.py:364: RuntimeWarning: invalid value encountered in log\n",
    "  result = getattr(ufunc, method)(*inputs, **kwargs)\n",
    "In-sample test score for Maker            0.0307\n",
    "Training model for Dogecoin         (ID=4 )...\n",
    "In-sample test score for Dogecoin         0.0388\n",
    "```"
   ]
  },
  {
   "cell_type": "markdown",
   "id": "3afe932e",
   "metadata": {
    "papermill": {
     "duration": 0.05589,
     "end_time": "2022-01-31T04:44:44.381510",
     "exception": false,
     "start_time": "2022-01-31T04:44:44.325620",
     "status": "completed"
    },
    "tags": []
   },
   "source": [
    "01/30/2022    Abandoned log return as predictors because the test dataframes don't have continuous timeseries data\n",
    "```\n",
    "Training model for Bitcoin Cash     (ID=2 )...\n",
    "In-sample test score for Bitcoin Cash     0.0150\n",
    "Training model for Binance Coin     (ID=0 )...\n",
    "In-sample test score for Binance Coin     0.0086\n",
    "Training model for Bitcoin          (ID=1 )...\n",
    "In-sample test score for Bitcoin          0.0159\n",
    "Training model for EOS.IO           (ID=5 )...\n",
    "In-sample test score for EOS.IO           0.0241\n",
    "Training model for Ethereum Classic (ID=7 )...\n",
    "In-sample test score for Ethereum Classic 0.0155\n",
    "Training model for Ethereum         (ID=6 )...\n",
    "In-sample test score for Ethereum         0.0189\n",
    "Training model for Litecoin         (ID=9 )...\n",
    "In-sample test score for Litecoin         0.0198\n",
    "Training model for Monero           (ID=11)...\n",
    "In-sample test score for Monero           0.0203\n",
    "Training model for TRON             (ID=13)...\n",
    "In-sample test score for TRON             0.0328\n",
    "Training model for Stellar          (ID=12)...\n",
    "In-sample test score for Stellar          0.0146\n",
    "Training model for Cardano          (ID=3 )...\n",
    "In-sample test score for Cardano          0.0344\n",
    "Training model for IOTA             (ID=8 )...\n",
    "In-sample test score for IOTA             0.0060\n",
    "Training model for Maker            (ID=10)...\n",
    "In-sample test score for Maker            0.0309\n",
    "Training model for Dogecoin         (ID=4 )...\n",
    "In-sample test score for Dogecoin         0.0315\n",
    "```"
   ]
  },
  {
   "cell_type": "code",
   "execution_count": 57,
   "id": "b726d66f",
   "metadata": {
    "execution": {
     "iopub.execute_input": "2022-01-31T04:44:44.602508Z",
     "iopub.status.busy": "2022-01-31T04:44:44.507575Z",
     "iopub.status.idle": "2022-01-31T04:44:44.784569Z",
     "shell.execute_reply": "2022-01-31T04:44:44.783886Z",
     "shell.execute_reply.started": "2022-01-31T02:50:26.149871Z"
    },
    "papermill": {
     "duration": 0.347295,
     "end_time": "2022-01-31T04:44:44.784710",
     "exception": false,
     "start_time": "2022-01-31T04:44:44.437415",
     "status": "completed"
    },
    "tags": []
   },
   "outputs": [],
   "source": [
    "# make predictions - TEST\n",
    "for j, row in df_test.iterrows():\n",
    "    asset_id = row['Asset_ID']\n",
    "    y_pred = model_lr[asset_id].predict(row.to_frame().T)[0]\n",
    "#     y_pred = model_lr[asset_id].predict([row])[0] # 'list' object has no attribute 'fillna'\n",
    "    df_pred.loc[df_pred['row_id']==row['row_id'], 'Target'] = y_pred\n",
    "        "
   ]
  },
  {
   "cell_type": "code",
   "execution_count": 58,
   "id": "b1bad6de",
   "metadata": {
    "execution": {
     "iopub.execute_input": "2022-01-31T04:44:44.902055Z",
     "iopub.status.busy": "2022-01-31T04:44:44.901216Z",
     "iopub.status.idle": "2022-01-31T04:44:44.903880Z",
     "shell.execute_reply": "2022-01-31T04:44:44.903443Z",
     "shell.execute_reply.started": "2022-01-31T03:07:52.682406Z"
    },
    "papermill": {
     "duration": 0.063184,
     "end_time": "2022-01-31T04:44:44.904006",
     "exception": false,
     "start_time": "2022-01-31T04:44:44.840822",
     "status": "completed"
    },
    "tags": []
   },
   "outputs": [],
   "source": [
    "import traceback\n",
    "\n",
    "df_test_all = {}\n",
    "df_pred_all = {}\n",
    "\n",
    "env = gresearch_crypto.make_env()\n",
    "iter_test = env.iter_test()\n"
   ]
  },
  {
   "cell_type": "code",
   "execution_count": 59,
   "id": "a8a81b74",
   "metadata": {
    "execution": {
     "iopub.execute_input": "2022-01-31T04:44:45.022451Z",
     "iopub.status.busy": "2022-01-31T04:44:45.021845Z",
     "iopub.status.idle": "2022-01-31T04:44:45.329850Z",
     "shell.execute_reply": "2022-01-31T04:44:45.329330Z",
     "shell.execute_reply.started": "2022-01-31T03:14:28.548587Z"
    },
    "papermill": {
     "duration": 0.369843,
     "end_time": "2022-01-31T04:44:45.329981",
     "exception": false,
     "start_time": "2022-01-31T04:44:44.960138",
     "status": "completed"
    },
    "tags": []
   },
   "outputs": [
    {
     "name": "stdout",
     "output_type": "stream",
     "text": [
      "This version of the API is not optimized and should not be used to estimate the runtime of your code on the hidden test set.\n"
     ]
    }
   ],
   "source": [
    "for i, (df_test, df_pred) in enumerate(iter_test):\n",
    "    \n",
    "    # make predictions\n",
    "    for j, row in df_test.iterrows():\n",
    "        asset_id = row['Asset_ID']\n",
    "        try:\n",
    "            y_pred = model_lr[asset_id].predict(row.to_frame().T)[0]\n",
    "        except:\n",
    "            y_pred = 0.0\n",
    "            traceback.print_exc()\n",
    "        df_pred.loc[df_pred['row_id']==row['row_id'], 'Target'] = y_pred\n",
    "        \n",
    "    # store test dataframes\n",
    "    df_test_all[i] = df_test\n",
    "    df_pred_all[i] = df_pred\n",
    "    \n",
    "    # submit predictions\n",
    "    env.predict(df_pred)"
   ]
  },
  {
   "cell_type": "markdown",
   "id": "ddc942b5",
   "metadata": {
    "papermill": {
     "duration": 0.055874,
     "end_time": "2022-01-31T04:44:45.442275",
     "exception": false,
     "start_time": "2022-01-31T04:44:45.386401",
     "status": "completed"
    },
    "tags": []
   },
   "source": [
    "Ran into problem with row level prediction because 1 row cannot calculate lag(n) return.\n",
    "```\n",
    "AttributeError: 'numpy.float64' object has no attribute 'diff'\n",
    "```"
   ]
  },
  {
   "cell_type": "markdown",
   "id": "103a76e7",
   "metadata": {
    "papermill": {
     "duration": 0.056096,
     "end_time": "2022-01-31T04:44:45.555253",
     "exception": false,
     "start_time": "2022-01-31T04:44:45.499157",
     "status": "completed"
    },
    "tags": []
   },
   "source": [
    "ValueError: Expected 2D array, got 1D array instead:\n",
    "array=[1.48143939e+00 1.47855583e+00 1.48603000e+00 1.47800000e+00\n",
    " 1.48368133e+00 2.34866667e-03 5.55833333e-04].\n",
    "Reshape your data either using array.reshape(-1, 1) if your data has a single feature or array.reshape(1, -1) if it contains a single sample."
   ]
  },
  {
   "cell_type": "markdown",
   "id": "58c410fa",
   "metadata": {
    "papermill": {
     "duration": 0.055572,
     "end_time": "2022-01-31T04:44:45.666968",
     "exception": false,
     "start_time": "2022-01-31T04:44:45.611396",
     "status": "completed"
    },
    "tags": []
   },
   "source": [
    "----> 1 for i, (df_test, df_pred) in enumerate(iter_test):\n",
    "      2 \n",
    "      3     # make predictions\n",
    "      4     for j, row in df_test.iterrows():\n",
    "      5         asset_id = row['Asset_ID']\n",
    "\n",
    "TypeError: cannot unpack non-iterable NoneType object"
   ]
  },
  {
   "cell_type": "code",
   "execution_count": 60,
   "id": "92637489",
   "metadata": {
    "execution": {
     "iopub.execute_input": "2022-01-31T04:44:45.801044Z",
     "iopub.status.busy": "2022-01-31T04:44:45.800447Z",
     "iopub.status.idle": "2022-01-31T04:44:45.804010Z",
     "shell.execute_reply": "2022-01-31T04:44:45.803553Z",
     "shell.execute_reply.started": "2022-01-31T03:14:43.600659Z"
    },
    "papermill": {
     "duration": 0.081119,
     "end_time": "2022-01-31T04:44:45.804135",
     "exception": false,
     "start_time": "2022-01-31T04:44:45.723016",
     "status": "completed"
    },
    "tags": []
   },
   "outputs": [
    {
     "data": {
      "text/plain": [
       "{0:      timestamp  Asset_ID  Count          Open          High           Low  \\\n",
       " 0   1623542400         3   1201      1.478556      1.486030      1.478000   \n",
       " 1   1623542400         2   1020    580.306667    583.890000    579.910000   \n",
       " 2   1623542400         0    626    343.789500    345.108000    343.640000   \n",
       " 3   1623542400         1   2888  35554.289632  35652.464650  35502.670000   \n",
       " 4   1623542400         4    433      0.312167      0.312600      0.311920   \n",
       " 5   1623542400         5    359      4.832550      4.845900      4.822900   \n",
       " 6   1623542400         7    541     55.223080     55.494000     55.182000   \n",
       " 7   1623542400         6   2186   2371.194286   2379.200000   2369.670000   \n",
       " 8   1623542400         8     35      1.003150      1.019800      0.987300   \n",
       " 9   1623542400         9    560    161.933429    162.480000    161.730000   \n",
       " 10  1623542400        10     61   2939.862750   2952.160000   2936.230000   \n",
       " 11  1623542400        13    229      0.068132      0.068240      0.068038   \n",
       " 12  1623542400        12    383      0.327973      0.329272      0.327650   \n",
       " 13  1623542400        11    123    243.137500    243.810000    242.960000   \n",
       " \n",
       "            Close        Volume          VWAP  row_id  \n",
       " 0       1.483681  6.547996e+05      1.481439       0  \n",
       " 1     582.276667  1.227988e+03    581.697038       1  \n",
       " 2     344.598000  1.718833e+03    344.441729       2  \n",
       " 3   35602.004286  1.638115e+02  35583.469303       3  \n",
       " 4       0.312208  5.855774e+05      0.312154       4  \n",
       " 5       4.837583  4.714355e+04      4.836607       5  \n",
       " 6      55.344680  6.625202e+03     55.298816       6  \n",
       " 7    2374.380714  1.214129e+03   2374.335307       7  \n",
       " 8       1.003300  7.061928e+03      1.002936       8  \n",
       " 9     162.214714  1.485009e+03    162.231310       9  \n",
       " 10   2947.078025  9.584785e+00   2945.110614      10  \n",
       " 11      0.068158  3.046438e+06      0.068158      11  \n",
       " 12      0.328829  5.364911e+05      0.328582      12  \n",
       " 13    243.532500  3.079589e+02    243.452697      13  ,\n",
       " 1:      timestamp  Asset_ID  Count          Open          High          Low  \\\n",
       " 0   1623542460         3    672      1.482410      1.483759      1.47920   \n",
       " 1   1623542460         2   1251    581.800000    585.590000    580.38000   \n",
       " 2   1623542460         0    458    344.353500    344.790000    343.62000   \n",
       " 3   1623542460         1   2006  35596.771429  35621.000000  35533.38000   \n",
       " 4   1623542460         4    573      0.312274      0.312400      0.31154   \n",
       " 5   1623542460         5    644      4.834550      4.849500      4.81850   \n",
       " 6   1623542460         7    530     55.320900     55.426600     55.14900   \n",
       " 7   1623542460         6   1261   2373.970101   2375.350000   2369.37000   \n",
       " 8   1623542460         8     98      1.003050      1.019600      0.98410   \n",
       " 9   1623542460         9    381    162.141857    162.380000    161.80000   \n",
       " 10  1623542460        10     35   2946.370567   2949.720000   2943.71000   \n",
       " 11  1623542460        13    395      0.068144      0.068334      0.06804   \n",
       " 12  1623542460        12    287      0.328656      0.329280      0.32778   \n",
       " 13  1623542460        11     62    243.368000    243.500000    242.94000   \n",
       " \n",
       "            Close        Volume          VWAP  row_id  \n",
       " 0       1.482043  2.858286e+05      1.481495      14  \n",
       " 1     582.358333  1.405285e+03    583.451389      15  \n",
       " 2     344.089500  1.217352e+03    344.188716      16  \n",
       " 3   35555.397143  9.336366e+01  35584.861196      17  \n",
       " 4       0.311847  9.396433e+05      0.311930      18  \n",
       " 5       4.838300  8.678307e+04      4.837430      19  \n",
       " 6      55.286400  6.929458e+03     55.265491      20  \n",
       " 7    2371.790000  7.867385e+02   2372.809830      21  \n",
       " 8       1.001550  4.771951e+04      1.001078      22  \n",
       " 9     162.193000  1.344810e+03    162.121310      23  \n",
       " 10   2945.711900  2.794134e+00   2946.633163      24  \n",
       " 11      0.068217  4.981365e+06      0.068201      25  \n",
       " 12      0.328563  4.496390e+05      0.328548      26  \n",
       " 13    243.330000  1.435053e+02    243.337398      27  ,\n",
       " 2:      timestamp  Asset_ID  Count          Open          High           Low  \\\n",
       " 0   1623542520         3    849      1.481493      1.482896      1.477801   \n",
       " 1   1623542520         2    540    582.100000    582.670000    579.620000   \n",
       " 2   1623542520         0    535    343.778000    344.060000    342.500000   \n",
       " 3   1623542520         1   3531  35550.271250  35576.590000  35402.870000   \n",
       " 4   1623542520         4   1667      0.311670      0.312000      0.310430   \n",
       " 5   1623542520         5    380      4.833440      4.835700      4.814300   \n",
       " 6   1623542520         7    825     55.225700     55.309600     54.910000   \n",
       " 7   1623542520         6   1856   2370.880011   2371.950076   2363.000000   \n",
       " 8   1623542520         8     53      1.000450      1.016400      0.981700   \n",
       " 9   1623542520         9    439    161.876143    162.030000    161.460000   \n",
       " 10  1623542520        10     56   2939.582925   2941.808300   2930.030000   \n",
       " 11  1623542520        13    338      0.068159      0.068170      0.067950   \n",
       " 12  1623542520        12    264      0.328061      0.328370      0.326973   \n",
       " 13  1623542520        11     49    242.745000    243.000000    242.230000   \n",
       " \n",
       "            Close        Volume          VWAP  row_id  \n",
       " 0       1.479259  4.868546e+05      1.480640      28  \n",
       " 1     580.540000  4.723730e+02    580.850017      29  \n",
       " 2     343.009500  9.757970e+02    343.139652      30  \n",
       " 3   35488.287500  2.205352e+02  35480.068897      31  \n",
       " 4       0.311006  3.416122e+06      0.311131      32  \n",
       " 5       4.822080  4.128848e+04      4.824327      33  \n",
       " 6      55.026050  1.231549e+04     55.095780      34  \n",
       " 7    2365.590000  7.640805e+02   2367.128372      35  \n",
       " 8       0.997500  1.216251e+04      0.998949      36  \n",
       " 9     161.829143  1.265969e+03    161.737656      37  \n",
       " 10   2933.232000  6.084640e+00   2937.153112      38  \n",
       " 11      0.068025  2.790134e+06      0.068057      39  \n",
       " 12      0.327497  7.424868e+05      0.327676      40  \n",
       " 13    242.347500  5.420834e+01    242.451070      41  ,\n",
       " 3:      timestamp  Asset_ID  Count          Open          High           Low  \\\n",
       " 0   1623542580         3   1023      1.479075      1.479399      1.472600   \n",
       " 1   1623542580         2    409    580.490000    580.690000    578.310000   \n",
       " 2   1623542580         0    614    343.238000    343.406000    341.940000   \n",
       " 3   1623542580         1   2901  35478.867162  35503.460134  35381.010000   \n",
       " 4   1623542580         4   1094      0.310923      0.311400      0.310400   \n",
       " 5   1623542580         5    465      4.819883      4.822100      4.808300   \n",
       " 6   1623542580         7    347     54.997567     55.044200     54.916800   \n",
       " 7   1623542580         6   2624   2365.769427   2367.500000   2359.010000   \n",
       " 8   1623542580         8    169      0.996600      1.012900      0.975100   \n",
       " 9   1623542580         9    431    161.862333    161.930000    161.270000   \n",
       " 10  1623542580        10     34   2930.150250   2931.520000   2921.660000   \n",
       " 11  1623542580        13    240      0.068015      0.068055      0.067866   \n",
       " 12  1623542580        12    276      0.327267      0.327410      0.326130   \n",
       " 13  1623542580        11    107    242.360000    242.550000    241.700000   \n",
       " \n",
       "            Close        Volume          VWAP  row_id  \n",
       " 0       1.473527  3.286849e+05      1.476372      42  \n",
       " 1     578.912000  2.045210e+02    579.470144      43  \n",
       " 2     342.325000  1.295199e+03    342.525876      44  \n",
       " 3   35423.490000  1.188025e+02  35438.243466      45  \n",
       " 4       0.310676  2.403980e+06      0.310894      46  \n",
       " 5       4.813450  3.476754e+04      4.815294      47  \n",
       " 6      54.940950  2.735096e+03     54.974253      48  \n",
       " 7    2360.505714  2.253663e+03   2362.394059      49  \n",
       " 8       0.991000  6.251820e+04      0.992974      50  \n",
       " 9     161.485000  1.156636e+03    161.595349      51  \n",
       " 10   2925.073700  1.187095e+00   2926.427322      52  \n",
       " 11      0.067936  2.572088e+06      0.067958      53  \n",
       " 12      0.326406  2.571778e+05      0.326834      54  \n",
       " 13    242.074000  1.393091e+02    242.123168      55  }"
      ]
     },
     "execution_count": 60,
     "metadata": {},
     "output_type": "execute_result"
    }
   ],
   "source": [
    "df_test_all"
   ]
  },
  {
   "cell_type": "code",
   "execution_count": 61,
   "id": "8487fccc",
   "metadata": {
    "execution": {
     "iopub.execute_input": "2022-01-31T04:44:45.924161Z",
     "iopub.status.busy": "2022-01-31T04:44:45.923631Z",
     "iopub.status.idle": "2022-01-31T04:44:45.930489Z",
     "shell.execute_reply": "2022-01-31T04:44:45.930933Z",
     "shell.execute_reply.started": "2022-01-31T03:20:33.010233Z"
    },
    "papermill": {
     "duration": 0.069972,
     "end_time": "2022-01-31T04:44:45.931074",
     "exception": false,
     "start_time": "2022-01-31T04:44:45.861102",
     "status": "completed"
    },
    "tags": []
   },
   "outputs": [
    {
     "data": {
      "text/plain": [
       "{0:     row_id     Target\n",
       " 0        0  -0.002162\n",
       " 1        1  -1.005113\n",
       " 2        2  -0.315059\n",
       " 3        3 -21.113435\n",
       " 4        4  -0.000229\n",
       " 5        5  -0.001391\n",
       " 6        6  -0.102449\n",
       " 7        7  -2.620626\n",
       " 8        8  -0.001866\n",
       " 9        9  -0.043631\n",
       " 10      10  -2.129429\n",
       " 11      11   0.000047\n",
       " 12      12  -0.000140\n",
       " 13      13  -0.151552,\n",
       " 1:     row_id    Target\n",
       " 0       14 -0.000227\n",
       " 1       15 -0.573593\n",
       " 2       16 -0.064789\n",
       " 3       17  7.772273\n",
       " 4       18  0.000144\n",
       " 5       19  0.000327\n",
       " 6       20 -0.025276\n",
       " 7       21  0.438052\n",
       " 8       22 -0.000804\n",
       " 9       23 -0.040779\n",
       " 10      24 -1.735704\n",
       " 11      25  0.000032\n",
       " 12      26 -0.000030\n",
       " 13      27  0.033135,\n",
       " 2:     row_id     Target\n",
       " 0       28   0.000669\n",
       " 1       29   0.368379\n",
       " 2       30   0.167458\n",
       " 3       31  19.722343\n",
       " 4       32   0.000245\n",
       " 5       33   0.004326\n",
       " 6       34   0.072100\n",
       " 7       35   1.651156\n",
       " 8       36   0.000285\n",
       " 9       37  -0.024190\n",
       " 10      38   2.949211\n",
       " 11      39   0.000121\n",
       " 12      40   0.000244\n",
       " 13      41  -0.080616,\n",
       " 3:     row_id     Target\n",
       " 0       42   0.002711\n",
       " 1       43   0.609799\n",
       " 2       44   0.244221\n",
       " 3       45  11.158414\n",
       " 4       46  -0.000031\n",
       " 5       47   0.001647\n",
       " 6       48  -0.010432\n",
       " 7       49   0.817549\n",
       " 8       50   0.000953\n",
       " 9       51   0.146240\n",
       " 10      52   1.482667\n",
       " 11      53   0.000082\n",
       " 12      54   0.000440\n",
       " 13      55   0.058449}"
      ]
     },
     "execution_count": 61,
     "metadata": {},
     "output_type": "execute_result"
    }
   ],
   "source": [
    "df_pred_all"
   ]
  },
  {
   "cell_type": "code",
   "execution_count": 62,
   "id": "2bc50751",
   "metadata": {
    "execution": {
     "iopub.execute_input": "2022-01-31T04:44:46.048128Z",
     "iopub.status.busy": "2022-01-31T04:44:46.047597Z",
     "iopub.status.idle": "2022-01-31T04:44:46.053582Z",
     "shell.execute_reply": "2022-01-31T04:44:46.053069Z",
     "shell.execute_reply.started": "2022-01-31T03:23:22.433979Z"
    },
    "papermill": {
     "duration": 0.065889,
     "end_time": "2022-01-31T04:44:46.053711",
     "exception": false,
     "start_time": "2022-01-31T04:44:45.987822",
     "status": "completed"
    },
    "tags": []
   },
   "outputs": [],
   "source": [
    "file_smpl_subm = 'example_sample_submission.csv'\n",
    "\n",
    "df_smpl_subm = pd.read_csv(os.path.join(dir_in, file_smpl_subm))"
   ]
  },
  {
   "cell_type": "code",
   "execution_count": 63,
   "id": "1c8e6764",
   "metadata": {
    "execution": {
     "iopub.execute_input": "2022-01-31T04:44:46.171796Z",
     "iopub.status.busy": "2022-01-31T04:44:46.171234Z",
     "iopub.status.idle": "2022-01-31T04:44:46.177854Z",
     "shell.execute_reply": "2022-01-31T04:44:46.178314Z",
     "shell.execute_reply.started": "2022-01-31T03:23:29.972496Z"
    },
    "papermill": {
     "duration": 0.066908,
     "end_time": "2022-01-31T04:44:46.178468",
     "exception": false,
     "start_time": "2022-01-31T04:44:46.111560",
     "status": "completed"
    },
    "tags": []
   },
   "outputs": [
    {
     "data": {
      "text/html": [
       "<div>\n",
       "<style scoped>\n",
       "    .dataframe tbody tr th:only-of-type {\n",
       "        vertical-align: middle;\n",
       "    }\n",
       "\n",
       "    .dataframe tbody tr th {\n",
       "        vertical-align: top;\n",
       "    }\n",
       "\n",
       "    .dataframe thead th {\n",
       "        text-align: right;\n",
       "    }\n",
       "</style>\n",
       "<table border=\"1\" class=\"dataframe\">\n",
       "  <thead>\n",
       "    <tr style=\"text-align: right;\">\n",
       "      <th></th>\n",
       "      <th>group_num</th>\n",
       "      <th>row_id</th>\n",
       "      <th>Target</th>\n",
       "    </tr>\n",
       "  </thead>\n",
       "  <tbody>\n",
       "    <tr>\n",
       "      <th>0</th>\n",
       "      <td>0</td>\n",
       "      <td>0</td>\n",
       "      <td>0</td>\n",
       "    </tr>\n",
       "    <tr>\n",
       "      <th>1</th>\n",
       "      <td>0</td>\n",
       "      <td>1</td>\n",
       "      <td>0</td>\n",
       "    </tr>\n",
       "    <tr>\n",
       "      <th>2</th>\n",
       "      <td>0</td>\n",
       "      <td>2</td>\n",
       "      <td>0</td>\n",
       "    </tr>\n",
       "    <tr>\n",
       "      <th>3</th>\n",
       "      <td>0</td>\n",
       "      <td>3</td>\n",
       "      <td>0</td>\n",
       "    </tr>\n",
       "    <tr>\n",
       "      <th>4</th>\n",
       "      <td>0</td>\n",
       "      <td>4</td>\n",
       "      <td>0</td>\n",
       "    </tr>\n",
       "  </tbody>\n",
       "</table>\n",
       "</div>"
      ],
      "text/plain": [
       "   group_num  row_id  Target\n",
       "0          0       0       0\n",
       "1          0       1       0\n",
       "2          0       2       0\n",
       "3          0       3       0\n",
       "4          0       4       0"
      ]
     },
     "execution_count": 63,
     "metadata": {},
     "output_type": "execute_result"
    }
   ],
   "source": [
    "df_smpl_subm.head()"
   ]
  },
  {
   "cell_type": "code",
   "execution_count": 64,
   "id": "4803dc3f",
   "metadata": {
    "execution": {
     "iopub.execute_input": "2022-01-31T04:44:46.299537Z",
     "iopub.status.busy": "2022-01-31T04:44:46.298914Z",
     "iopub.status.idle": "2022-01-31T04:44:46.301091Z",
     "shell.execute_reply": "2022-01-31T04:44:46.301514Z",
     "shell.execute_reply.started": "2022-01-31T03:43:52.943573Z"
    },
    "papermill": {
     "duration": 0.065629,
     "end_time": "2022-01-31T04:44:46.301672",
     "exception": false,
     "start_time": "2022-01-31T04:44:46.236043",
     "status": "completed"
    },
    "tags": []
   },
   "outputs": [],
   "source": [
    "df_subm_wgid = pd.DataFrame(columns = df_smpl_subm.columns)"
   ]
  },
  {
   "cell_type": "code",
   "execution_count": 65,
   "id": "be36cb5d",
   "metadata": {
    "execution": {
     "iopub.execute_input": "2022-01-31T04:44:46.423872Z",
     "iopub.status.busy": "2022-01-31T04:44:46.423246Z",
     "iopub.status.idle": "2022-01-31T04:44:46.424796Z",
     "shell.execute_reply": "2022-01-31T04:44:46.425188Z",
     "shell.execute_reply.started": "2022-01-31T03:43:53.558081Z"
    },
    "papermill": {
     "duration": 0.065842,
     "end_time": "2022-01-31T04:44:46.425366",
     "exception": false,
     "start_time": "2022-01-31T04:44:46.359524",
     "status": "completed"
    },
    "tags": []
   },
   "outputs": [],
   "source": [
    "df_subm = pd.DataFrame(columns = ['row_id', 'Target'])"
   ]
  },
  {
   "cell_type": "code",
   "execution_count": 66,
   "id": "bca4b365",
   "metadata": {
    "execution": {
     "iopub.execute_input": "2022-01-31T04:44:46.544917Z",
     "iopub.status.busy": "2022-01-31T04:44:46.544352Z",
     "iopub.status.idle": "2022-01-31T04:44:46.556774Z",
     "shell.execute_reply": "2022-01-31T04:44:46.556274Z",
     "shell.execute_reply.started": "2022-01-31T03:52:50.893714Z"
    },
    "papermill": {
     "duration": 0.073006,
     "end_time": "2022-01-31T04:44:46.556912",
     "exception": false,
     "start_time": "2022-01-31T04:44:46.483906",
     "status": "completed"
    },
    "tags": []
   },
   "outputs": [],
   "source": [
    "for group_num, df_pred in df_pred_all.items():\n",
    "    df = df_pred.copy()\n",
    "    \n",
    "    # without group_num\n",
    "    df_subm = df_subm.append(df)\n",
    "    \n",
    "    # with group_num\n",
    "    df['group_num'] = group_num\n",
    "    df_subm_wgid = df_subm_wgid.append(df)"
   ]
  },
  {
   "cell_type": "code",
   "execution_count": 67,
   "id": "803faefe",
   "metadata": {
    "execution": {
     "iopub.execute_input": "2022-01-31T04:44:46.675385Z",
     "iopub.status.busy": "2022-01-31T04:44:46.674505Z",
     "iopub.status.idle": "2022-01-31T04:44:46.682189Z",
     "shell.execute_reply": "2022-01-31T04:44:46.682744Z",
     "shell.execute_reply.started": "2022-01-31T03:53:20.893706Z"
    },
    "papermill": {
     "duration": 0.068728,
     "end_time": "2022-01-31T04:44:46.682896",
     "exception": false,
     "start_time": "2022-01-31T04:44:46.614168",
     "status": "completed"
    },
    "tags": []
   },
   "outputs": [
    {
     "data": {
      "text/html": [
       "<div>\n",
       "<style scoped>\n",
       "    .dataframe tbody tr th:only-of-type {\n",
       "        vertical-align: middle;\n",
       "    }\n",
       "\n",
       "    .dataframe tbody tr th {\n",
       "        vertical-align: top;\n",
       "    }\n",
       "\n",
       "    .dataframe thead th {\n",
       "        text-align: right;\n",
       "    }\n",
       "</style>\n",
       "<table border=\"1\" class=\"dataframe\">\n",
       "  <thead>\n",
       "    <tr style=\"text-align: right;\">\n",
       "      <th></th>\n",
       "      <th>row_id</th>\n",
       "      <th>Target</th>\n",
       "    </tr>\n",
       "  </thead>\n",
       "  <tbody>\n",
       "    <tr>\n",
       "      <th>0</th>\n",
       "      <td>0</td>\n",
       "      <td>-0.002162</td>\n",
       "    </tr>\n",
       "    <tr>\n",
       "      <th>1</th>\n",
       "      <td>1</td>\n",
       "      <td>-1.005113</td>\n",
       "    </tr>\n",
       "    <tr>\n",
       "      <th>2</th>\n",
       "      <td>2</td>\n",
       "      <td>-0.315059</td>\n",
       "    </tr>\n",
       "    <tr>\n",
       "      <th>3</th>\n",
       "      <td>3</td>\n",
       "      <td>-21.113435</td>\n",
       "    </tr>\n",
       "    <tr>\n",
       "      <th>4</th>\n",
       "      <td>4</td>\n",
       "      <td>-0.000229</td>\n",
       "    </tr>\n",
       "  </tbody>\n",
       "</table>\n",
       "</div>"
      ],
      "text/plain": [
       "  row_id     Target\n",
       "0      0  -0.002162\n",
       "1      1  -1.005113\n",
       "2      2  -0.315059\n",
       "3      3 -21.113435\n",
       "4      4  -0.000229"
      ]
     },
     "execution_count": 67,
     "metadata": {},
     "output_type": "execute_result"
    }
   ],
   "source": [
    "df_subm.head()"
   ]
  },
  {
   "cell_type": "code",
   "execution_count": 68,
   "id": "284642f3",
   "metadata": {
    "execution": {
     "iopub.execute_input": "2022-01-31T04:44:46.801479Z",
     "iopub.status.busy": "2022-01-31T04:44:46.800604Z",
     "iopub.status.idle": "2022-01-31T04:44:46.810472Z",
     "shell.execute_reply": "2022-01-31T04:44:46.810001Z",
     "shell.execute_reply.started": "2022-01-31T03:53:24.449084Z"
    },
    "papermill": {
     "duration": 0.069965,
     "end_time": "2022-01-31T04:44:46.810603",
     "exception": false,
     "start_time": "2022-01-31T04:44:46.740638",
     "status": "completed"
    },
    "tags": []
   },
   "outputs": [
    {
     "data": {
      "text/html": [
       "<div>\n",
       "<style scoped>\n",
       "    .dataframe tbody tr th:only-of-type {\n",
       "        vertical-align: middle;\n",
       "    }\n",
       "\n",
       "    .dataframe tbody tr th {\n",
       "        vertical-align: top;\n",
       "    }\n",
       "\n",
       "    .dataframe thead th {\n",
       "        text-align: right;\n",
       "    }\n",
       "</style>\n",
       "<table border=\"1\" class=\"dataframe\">\n",
       "  <thead>\n",
       "    <tr style=\"text-align: right;\">\n",
       "      <th></th>\n",
       "      <th>group_num</th>\n",
       "      <th>row_id</th>\n",
       "      <th>Target</th>\n",
       "    </tr>\n",
       "  </thead>\n",
       "  <tbody>\n",
       "    <tr>\n",
       "      <th>0</th>\n",
       "      <td>0</td>\n",
       "      <td>0</td>\n",
       "      <td>-0.002162</td>\n",
       "    </tr>\n",
       "    <tr>\n",
       "      <th>1</th>\n",
       "      <td>0</td>\n",
       "      <td>1</td>\n",
       "      <td>-1.005113</td>\n",
       "    </tr>\n",
       "    <tr>\n",
       "      <th>2</th>\n",
       "      <td>0</td>\n",
       "      <td>2</td>\n",
       "      <td>-0.315059</td>\n",
       "    </tr>\n",
       "    <tr>\n",
       "      <th>3</th>\n",
       "      <td>0</td>\n",
       "      <td>3</td>\n",
       "      <td>-21.113435</td>\n",
       "    </tr>\n",
       "    <tr>\n",
       "      <th>4</th>\n",
       "      <td>0</td>\n",
       "      <td>4</td>\n",
       "      <td>-0.000229</td>\n",
       "    </tr>\n",
       "  </tbody>\n",
       "</table>\n",
       "</div>"
      ],
      "text/plain": [
       "  group_num row_id     Target\n",
       "0         0      0  -0.002162\n",
       "1         0      1  -1.005113\n",
       "2         0      2  -0.315059\n",
       "3         0      3 -21.113435\n",
       "4         0      4  -0.000229"
      ]
     },
     "execution_count": 68,
     "metadata": {},
     "output_type": "execute_result"
    }
   ],
   "source": [
    "df_subm_wgid.head()"
   ]
  },
  {
   "cell_type": "code",
   "execution_count": 69,
   "id": "ef08dfa6",
   "metadata": {
    "execution": {
     "iopub.execute_input": "2022-01-31T04:44:46.930465Z",
     "iopub.status.busy": "2022-01-31T04:44:46.929892Z",
     "iopub.status.idle": "2022-01-31T04:44:46.934888Z",
     "shell.execute_reply": "2022-01-31T04:44:46.935313Z",
     "shell.execute_reply.started": "2022-01-31T03:56:28.615110Z"
    },
    "papermill": {
     "duration": 0.066231,
     "end_time": "2022-01-31T04:44:46.935468",
     "exception": false,
     "start_time": "2022-01-31T04:44:46.869237",
     "status": "completed"
    },
    "tags": []
   },
   "outputs": [],
   "source": [
    "df_subm.to_csv('submission.csv', index=False)\n",
    "df_subm_wgid.to_csv('submission_with_group_num.csv', index=False)"
   ]
  },
  {
   "cell_type": "code",
   "execution_count": null,
   "id": "144c8b80",
   "metadata": {
    "papermill": {
     "duration": 0.058407,
     "end_time": "2022-01-31T04:44:47.052481",
     "exception": false,
     "start_time": "2022-01-31T04:44:46.994074",
     "status": "completed"
    },
    "tags": []
   },
   "outputs": [],
   "source": []
  }
 ],
 "metadata": {
  "kernelspec": {
   "display_name": "Python 3",
   "language": "python",
   "name": "python3"
  },
  "language_info": {
   "codemirror_mode": {
    "name": "ipython",
    "version": 3
   },
   "file_extension": ".py",
   "mimetype": "text/x-python",
   "name": "python",
   "nbconvert_exporter": "python",
   "pygments_lexer": "ipython3",
   "version": "3.7.12"
  },
  "papermill": {
   "default_parameters": {},
   "duration": 103.857213,
   "end_time": "2022-01-31T04:44:47.720492",
   "environment_variables": {},
   "exception": null,
   "input_path": "__notebook__.ipynb",
   "output_path": "__notebook__.ipynb",
   "parameters": {},
   "start_time": "2022-01-31T04:43:03.863279",
   "version": "2.3.3"
  }
 },
 "nbformat": 4,
 "nbformat_minor": 5
}
